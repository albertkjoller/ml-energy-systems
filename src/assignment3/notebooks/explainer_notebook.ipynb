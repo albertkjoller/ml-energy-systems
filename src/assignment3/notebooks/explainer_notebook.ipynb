{
 "cells": [
  {
   "cell_type": "markdown",
   "metadata": {},
   "source": [
    "<a class=\"anchor\" id=\"toc-go-back\"></a>\n",
    "# Assignment 3: Day-ahead scheduling from the perspective of the system operator\n",
    "\n",
    "### Table of Contents\n",
    "* [1. Loading the data](#data-loading)\n",
    "* [2. Setup optimization problem](#optimziation-problem-setup)\n",
    "* [3. Running the optimization model ](#run-optimization)\n",
    "* [4. Can we solve the problem using machine learning?](#machine-learning)\n",
    "* [5. Extra ](#extra)"
   ]
  },
  {
   "cell_type": "markdown",
   "metadata": {},
   "source": [
    "First of all, we refer to the hand-in for an in-depth description of the problem formulation and the optimization problem. This notebooks focuses on implementing the model using ```Gurobipy``` and an additional part using machine learning. \n",
    "\n",
    "We start by loading the relevant modules."
   ]
  },
  {
   "cell_type": "code",
   "execution_count": 1,
   "metadata": {},
   "outputs": [],
   "source": [
    "from pathlib import Path\n",
    "\n",
    "import numpy as np\n",
    "import pandas as pd\n",
    "from tqdm import tqdm\n",
    "tqdm.pandas()\n",
    "\n",
    "import matplotlib.pyplot as plt\n",
    "plt.style.use('ggplot')\n",
    "\n",
    "import gurobipy as grb"
   ]
  },
  {
   "cell_type": "code",
   "execution_count": 2,
   "metadata": {},
   "outputs": [],
   "source": [
    "DATA_DIR = Path('../data')"
   ]
  },
  {
   "cell_type": "markdown",
   "metadata": {},
   "source": [
    "<a class=\"anchor\" id=\"data-loading\"></a>\n",
    "## 1. Loading the data\n",
    "\n",
    "We initially load the data files given to us with the assignment description. This will later on be used as input to the optimization model from which we can then find the optimal values of the decision variables."
   ]
  },
  {
   "cell_type": "code",
   "execution_count": 3,
   "metadata": {},
   "outputs": [],
   "source": [
    "# Load data files from csv-files\n",
    "pmax    = pd.read_csv(DATA_DIR / 'pgmax.csv')\n",
    "pmin    = pd.read_csv(DATA_DIR / 'pgmin.csv')\n",
    "ru      = pd.read_csv(DATA_DIR / 'ramp.csv')\n",
    "UT      = pd.read_csv(DATA_DIR / 'lu.csv')\n",
    "DT      = pd.read_csv(DATA_DIR / 'ld.csv')    \n",
    "demand  = pd.read_csv(DATA_DIR / 'Demand.csv', sep=';')   \n",
    "c_op    = pd.read_csv(DATA_DIR / 'cost_op.csv') \n",
    "c_st    = pd.read_csv(DATA_DIR / 'cost_st.csv') \n",
    "PTDF    = pd.read_csv(DATA_DIR / 'PTDF.csv', sep=';') \n",
    "busgen  = pd.read_csv(DATA_DIR / 'busgen.csv', sep=';')\n",
    "busload = pd.read_csv(DATA_DIR / 'busload.csv', sep=';')\n",
    "fmax    = pd.read_csv(DATA_DIR / 'fmax.csv')\n",
    "\n",
    "# \n",
    "Hg      = pd.DataFrame(np.dot(PTDF, busgen), index=[f'Line {i+1}' for i in range(PTDF.shape[0])], columns=[f'Gen {i+1}' for i in range(busgen.shape[1])])\n",
    "Hl      = pd.DataFrame(np.dot(PTDF, busload), index=[f'Line {i+1}' for i in range(PTDF.shape[0])], columns=[f'Load {i+1}' for i in range(busload.shape[1])])\n",
    "\n",
    "# Load load profile samples\n",
    "samples = pd.read_csv(DATA_DIR / 'samples.csv', header=None)"
   ]
  },
  {
   "cell_type": "markdown",
   "metadata": {},
   "source": [
    "With the data set loaded, we can now define the basics underlying the optimization problem - thus, we start by defining the numerical values of the parameters."
   ]
  },
  {
   "cell_type": "code",
   "execution_count": 4,
   "metadata": {},
   "outputs": [],
   "source": [
    "N_g     = busgen.shape[1]   # the number of generator units\n",
    "N_t     = demand.shape[0]   # next 24 hours\n",
    "N_load  = busload.shape[1]  # the number of load buses\n",
    "N_lines = PTDF.shape[0]     # the number of transmission lines"
   ]
  },
  {
   "cell_type": "markdown",
   "metadata": {},
   "source": [
    "<a class=\"anchor\" id=\"optimization-problem-setup\"></a>\n",
    "## 2. Setup optimization problem"
   ]
  },
  {
   "cell_type": "markdown",
   "metadata": {},
   "source": [
    "Differences between the hand-in and the proposed formula from class:\n",
    "1. start-up cost is deterministic and should not be optimized for (i.e. input parameter and not decision variable)\n",
    "2. demand is additionally indexed by time for the flow constraint\n",
    "3. the start-up constraint is added by specifying an on/off variable for each unit at each time, $b$."
   ]
  },
  {
   "cell_type": "markdown",
   "metadata": {},
   "source": [
    "Now, we are ready to define the decision variables of the optimization problem. These relate to the start-up status and production of generator units at each time step of the day. We additionally include a variable for denoting the on/off status. As we are given a data file for start-up costs for each generation unit, we approach the problem with the start-up cost being time-independent and consider it as an input rather than a decision variable.\n",
    "\n",
    "Next, we add the constraints to the optimization model. Overall these concern:\n",
    "1) Power balance equation, i.e. the total production must equal the total demand. Here, we add the concept of slack variable for feasibility - i.e. making sure that the problem can be solved even if in some cases the demand is not met.\n",
    "2) Generation limits, ensuring that the generator units do not produce more than their maximum capacity.\n",
    "3) Ramp-up and ramp-down constraints, ensuring...\n",
    "4) Line technical limits, ensuring that the flow between busses does not exceed the maximum capacity of the line.\n",
    "5) Minimum on/off times.\n",
    "6) Start-up constraints for turning on a generator unit (i.e. the unit must be off in the previous time step).\n",
    "\n",
    "Lastly, we define the objective function for the optimization problem. This is defined as minimizing the total cost - i.e. production cost and start-up cost. In this case, we assume deterministic start-up costs for each generator unit - in other words, we assume that they are time-independent.\n",
    "\n",
    "These three steps have been implemented in a wrapper object related to the 118-bus system, namely the ```BUS118```-class defined below."
   ]
  },
  {
   "cell_type": "code",
   "execution_count": 5,
   "metadata": {},
   "outputs": [],
   "source": [
    "class BUS118:\n",
    "    \n",
    "    def __init__(self, \n",
    "        N_g, N_t, N_load, N_lines, \n",
    "        demand,\n",
    "        pmin, pmax,\n",
    "        Hg, Hl, fmax,\n",
    "        UT, DT, ru,\n",
    "        c_op, c_st,\n",
    "    ):\n",
    "        \n",
    "        # Define numerical parameters\n",
    "        self.N_g        = N_g\n",
    "        self.N_t        = N_t\n",
    "        self.N_load     = N_load\n",
    "        self.N_lines    = N_lines\n",
    "\n",
    "        # Define input data\n",
    "        self.demand     = demand\n",
    "        self.pmin       = pmin\n",
    "        self.pmax       = pmax\n",
    "        self.fmax       = fmax\n",
    "        self.UT         = UT\n",
    "        self.DT         = DT\n",
    "        self.ru         = ru\n",
    "        self.c_op       = c_op\n",
    "        self.c_st       = c_st\n",
    "        self.Hg         = Hg\n",
    "        self.Hl         = Hl\n",
    "\n",
    "    def define_decision_variables(self):\n",
    "        # Add variables for each generator unit at each time step for specifying on/off and start-up status\n",
    "        self.b      = self.model.addVars(N_g, N_t, vtype=grb.GRB.BINARY, name='b')\n",
    "        self.u      = self.model.addVars(N_g, N_t, vtype=grb.GRB.BINARY, name='u')\n",
    "        \n",
    "        # Add variable denoting the power output of each generator unit at each time step\n",
    "        self.p      = self.model.addVars(N_g, N_t, vtype=grb.GRB.CONTINUOUS, name='p')\n",
    "\n",
    "        # We add slack variables for ensuring feasability of the power balance equations\n",
    "        self.eps    = self.model.addVars(N_t, 1, vtype=grb.GRB.CONTINUOUS, name='eps')\n",
    "        self.delta  = self.model.addVars(N_t, 1, vtype=grb.GRB.CONTINUOUS, name='delta')\n",
    "\n",
    "        # Make variable updates effective\n",
    "        self.model.update()\n",
    "    \n",
    "    def define_constraints(self, load_profile):\n",
    "        \n",
    "        self.demand_profile = (self.demand * load_profile)\n",
    "\n",
    "        for t in tqdm(range(N_t), desc='Adding constraints...'):\n",
    "            ### POWER BALANCE EQUATION ###\n",
    "            # Add power balance constraints for each time step\n",
    "            self.model.addConstr(grb.quicksum(self.p[g_n, t] for g_n in range(self.N_g)) == grb.quicksum(self.demand_profile.iloc[t, n] for n in range(self.N_load)) + self.eps[t, 0] - self.delta[t, 0], name=f'power_balance[{t}]')\n",
    "            \n",
    "            # Add positive constraints for the slack variables\n",
    "            self.model.addConstr(self.eps[t, 0] >= 0)\n",
    "            self.model.addConstr(self.delta[t, 0] >= 0)\n",
    "\n",
    "            for g in range(self.N_g):\n",
    "                \n",
    "                ### GENERATION LIMITS ###\n",
    "                self.model.addConstr(self.b[g, t] * self.pmin.iloc[g, 0] <= self.p[g, t], name=f'generation_limit[{g},{t}]')\n",
    "                self.model.addConstr(self.b[g, t] * self.pmax.iloc[g, 0] >= self.p[g, t], name=f'generation_limit[{g},{t}]')\n",
    "                \n",
    "                if t >= 1:\n",
    "                    ### GENERATOR ON/OFF AND START-UP STATUS ###\n",
    "                    self.model.addConstr(self.u[g, t] >= self.b[g, t] - self.b[g, t-1], name=f'start_up_constraint[{g},{t}]')\n",
    "\n",
    "                    ### RAMPING CONSTRAINTS ###\n",
    "                    self.model.addConstr(self.p[g, t] - self.p[g, t-1] <= self.ru.iloc[g, 0], name=f'ramping_up[{g},{t}]')\n",
    "                    self.model.addConstr(self.p[g, t-1] - self.p[g, t] <= self.ru.iloc[g, 0], name=f'ramping_down[{g},{t}]')\n",
    "\n",
    "                    ### MINIMUM ON TIME ###\n",
    "                    min_on_time_generator = min(self.UT.iloc[g, 0] + t - 1, self.N_t)\n",
    "                    for tau in range(t, min_on_time_generator):\n",
    "                        self.model.addConstr(-self.b[g, t-1] + self.b[g, t] - self.b[g, tau] <= 0, name=f'min_on_time_constraint[{g},{t},{tau}]')\n",
    "                    \n",
    "                    ### MINIMUM OFF TIME ###\n",
    "                    min_off_time_generator = min(self.DT.iloc[g, 0] + t - 1, self.N_t)\n",
    "                    for tau in range(t, min_off_time_generator):\n",
    "                        self.model.addConstr(self.b[g, t-1] - self.b[g, t] + self.b[g, tau] <= 1, name=f'min_off_time_constraint[{g},{t},{tau}]')\n",
    "                                \n",
    "            ### LINE FLOW LIMITS ###\n",
    "            for l in range(N_lines):\n",
    "                line_expr1  = grb.quicksum(self.Hg.iloc[l, g_n] * self.p[g_n, t] for g_n in range(self.N_g)) \n",
    "                line_expr2  = grb.quicksum(self.Hl.iloc[l, n] * self.demand_profile.iloc[t, n] for n in range(self.N_load))\n",
    "                line_expr   = line_expr1 - line_expr2 - self.eps[t, 0] + self.delta[t, 0]\n",
    "                                \n",
    "                # LHS\n",
    "                self.model.addConstr(line_expr <= self.fmax.iloc[l].item(), name=f'pos_line_flow_limit[{l},{t}]')\n",
    "                # RHS\n",
    "                self.model.addConstr(-self.fmax.iloc[l].item() <= line_expr, name=f'neg_line_flow_limit[{l},{t}]')\n",
    "                \n",
    "        self.model.update()\n",
    "    \n",
    "    def define_objective(self, M: int = 1):\n",
    "        # Set minimization objective function\n",
    "        minimum_objective   = grb.quicksum(self.c_op.iloc[g, 0] * self.p[g, t] + self.c_st.iloc[g, 0] * self.u[g, t] for g in range(self.N_g) for t in range(self.N_t))\n",
    "        # Set slack objective function\n",
    "        slack_objective     = M * grb.quicksum(self.eps[t, 0] + self.delta[t, 0] for t in range(self.N_t))\n",
    "\n",
    "        # Set objective function\n",
    "        self.model.setObjective(sense=grb.GRB.MINIMIZE, expr=minimum_objective + slack_objective)\n",
    "        self.model.update()\n",
    "\n",
    "    def setup_model(self, load_profile, M: int = 1000):\n",
    "        # Set up optimization model\n",
    "        self.model = grb.Model()\n",
    "        self.define_decision_variables()\n",
    "        self.define_constraints(load_profile)\n",
    "        self.define_objective(M=M)\n",
    "\n",
    "    def optimize(self, load_profile, M: int = 1000):\n",
    "        # Initialize model\n",
    "        self.setup_model(load_profile, M)\n",
    "        # Run optimization\n",
    "        return self.model.optimize()"
   ]
  },
  {
   "cell_type": "markdown",
   "metadata": {},
   "source": [
    "<a class=\"anchor\" id=\"run-optimization\"></a>\n",
    "## 3. Running the optimization model\n",
    "\n",
    "For being able to run experiments, the optimization model has been collected in an object - namely, the ```BUS118```-class. "
   ]
  },
  {
   "cell_type": "code",
   "execution_count": 6,
   "metadata": {},
   "outputs": [],
   "source": [
    "system = BUS118(\n",
    "    N_g=N_g, N_t=N_t, N_load=N_load, N_lines=N_lines,\n",
    "    demand=demand,\n",
    "    pmin=pmin, pmax=pmax,\n",
    "    Hg=Hg, Hl=Hl, fmax=fmax,\n",
    "    UT=UT, DT=DT, ru=ru,\n",
    "    c_op=c_op, c_st=c_st,\n",
    ")"
   ]
  },
  {
   "cell_type": "code",
   "execution_count": 7,
   "metadata": {},
   "outputs": [
    {
     "name": "stderr",
     "output_type": "stream",
     "text": [
      "  0%|          | 0/78 [00:00<?, ?it/s]"
     ]
    },
    {
     "name": "stdout",
     "output_type": "stream",
     "text": [
      "Set parameter Username\n",
      "Academic license - for non-commercial use only - expires 2024-11-21\n"
     ]
    },
    {
     "name": "stderr",
     "output_type": "stream",
     "text": []
    },
    {
     "name": "stdout",
     "output_type": "stream",
     "text": [
      "Warning for adding constraints: zero or small (< 1e-13) coefficients, ignored\n"
     ]
    },
    {
     "name": "stderr",
     "output_type": "stream",
     "text": [
      "Adding constraints...: 100%|██████████| 24/24 [00:36<00:00,  1.52s/it]"
     ]
    },
    {
     "name": "stdout",
     "output_type": "stream",
     "text": [
      "Gurobi Optimizer version 10.0.3 build v10.0.3rc0 (win64)\n"
     ]
    },
    {
     "name": "stderr",
     "output_type": "stream",
     "text": [
      "\n"
     ]
    },
    {
     "name": "stdout",
     "output_type": "stream",
     "text": [
      "\n",
      "CPU model: AMD Ryzen 7 5800H with Radeon Graphics, instruction set [SSE2|AVX|AVX2]\n",
      "Thread count: 8 physical cores, 16 logical processors, using up to 16 threads\n",
      "\n",
      "Optimize a model with 23006 rows, 3936 columns and 474938 nonzeros\n",
      "Model fingerprint: 0x11d199dd\n",
      "Variable types: 1344 continuous, 2592 integer (2592 binary)\n",
      "Coefficient statistics:\n",
      "  Matrix range     [5e-07, 4e+02]\n",
      "  Objective range  [8e+00, 1e+03]\n",
      "  Bounds range     [1e+00, 1e+00]\n",
      "  RHS range        [3e-01, 3e+03]\n",
      "Presolve removed 4206 rows and 30 columns\n",
      "Presolve time: 0.64s\n",
      "Presolved: 18800 rows, 3906 columns, 308536 nonzeros\n",
      "Variable types: 1368 continuous, 2538 integer (2538 binary)\n",
      "\n",
      "Root relaxation: objective 5.494409e+05, 1413 iterations, 0.12 seconds (0.14 work units)\n",
      "\n",
      "    Nodes    |    Current Node    |     Objective Bounds      |     Work\n",
      " Expl Unexpl |  Obj  Depth IntInf | Incumbent    BestBd   Gap | It/Node Time\n",
      "\n",
      "     0     0 549440.936    0   34          - 549440.936      -     -    1s\n",
      "H    0     0                    1764825.3725 549440.936  68.9%     -    1s\n",
      "H    0     0                    566911.13141 549440.936  3.08%     -    1s\n",
      "H    0     0                    549548.93527 549449.937  0.02%     -    1s\n",
      "     0     0 549449.937    0   48 549548.935 549449.937  0.02%     -    1s\n",
      "\n",
      "Cutting planes:\n",
      "  Lift-and-project: 4\n",
      "  Cover: 4\n",
      "  MIR: 41\n",
      "  Flow cover: 56\n",
      "  Flow path: 8\n",
      "\n",
      "Explored 1 nodes (2198 simplex iterations) in 2.16 seconds (2.53 work units)\n",
      "Thread count was 16 (of 16 available processors)\n",
      "\n",
      "Solution count 3: 549549 566911 1.76483e+06 \n",
      "\n",
      "Optimal solution found (tolerance 1.00e-04)\n",
      "Best objective 5.495489352695e+05, best bound 5.495489352695e+05, gap 0.0000%\n"
     ]
    },
    {
     "name": "stderr",
     "output_type": "stream",
     "text": [
      "100%|██████████| 57/57 [00:00<00:00, 415.84it/s]\n",
      "100%|██████████| 57/57 [00:00<00:00, 424.71it/s]\n",
      "  1%|▏         | 1/78 [00:39<50:51, 39.64s/it]"
     ]
    },
    {
     "name": "stdout",
     "output_type": "stream",
     "text": [
      "Warning for adding constraints: zero or small (< 1e-13) coefficients, ignored\n"
     ]
    },
    {
     "name": "stderr",
     "output_type": "stream",
     "text": [
      "Adding constraints...: 100%|██████████| 24/24 [00:35<00:00,  1.49s/it]\n"
     ]
    },
    {
     "name": "stdout",
     "output_type": "stream",
     "text": [
      "Gurobi Optimizer version 10.0.3 build v10.0.3rc0 (win64)\n",
      "\n",
      "CPU model: AMD Ryzen 7 5800H with Radeon Graphics, instruction set [SSE2|AVX|AVX2]\n",
      "Thread count: 8 physical cores, 16 logical processors, using up to 16 threads\n",
      "\n",
      "Optimize a model with 23006 rows, 3936 columns and 474938 nonzeros\n",
      "Model fingerprint: 0xa37490a8\n",
      "Variable types: 1344 continuous, 2592 integer (2592 binary)\n",
      "Coefficient statistics:\n",
      "  Matrix range     [5e-07, 4e+02]\n",
      "  Objective range  [8e+00, 1e+03]\n",
      "  Bounds range     [1e+00, 1e+00]\n",
      "  RHS range        [1e-01, 2e+03]\n",
      "Presolve removed 4231 rows and 30 columns\n",
      "Presolve time: 0.67s\n",
      "Presolved: 18775 rows, 3906 columns, 308238 nonzeros\n",
      "Variable types: 1368 continuous, 2538 integer (2538 binary)\n",
      "\n",
      "Root relaxation: objective 5.173628e+05, 1838 iterations, 0.12 seconds (0.21 work units)\n",
      "\n",
      "    Nodes    |    Current Node    |     Objective Bounds      |     Work\n",
      " Expl Unexpl |  Obj  Depth IntInf | Incumbent    BestBd   Gap | It/Node Time\n",
      "\n",
      "     0     0 517362.803    0   38          - 517362.803      -     -    1s\n",
      "H    0     0                    560524.90386 517362.803  7.70%     -    1s\n",
      "H    0     0                    546972.81080 517362.803  5.41%     -    1s\n",
      "H    0     0                    529741.50651 517362.803  2.34%     -    1s\n",
      "H    0     0                    517622.78776 517380.259  0.05%     -    1s\n",
      "     0     0 517380.259    0   21 517622.788 517380.259  0.05%     -    1s\n",
      "H    0     0                    517511.63576 517380.259  0.03%     -    1s\n",
      "     0     0 517383.456    0   34 517511.636 517383.456  0.02%     -    2s\n",
      "     0     0 517383.456    0   36 517511.636 517383.456  0.02%     -    2s\n",
      "\n",
      "Cutting planes:\n",
      "  Learned: 1\n",
      "  Gomory: 6\n",
      "  Lift-and-project: 3\n",
      "  Cover: 4\n",
      "  Implied bound: 1\n",
      "  MIR: 30\n",
      "  StrongCG: 1\n",
      "  Flow cover: 71\n",
      "  Flow path: 2\n",
      "\n",
      "Explored 1 nodes (2810 simplex iterations) in 2.44 seconds (2.68 work units)\n",
      "Thread count was 16 (of 16 available processors)\n",
      "\n",
      "Solution count 5: 517512 517623 529742 ... 560525\n",
      "\n",
      "Optimal solution found (tolerance 1.00e-04)\n",
      "Best objective 5.175116357629e+05, best bound 5.174884863608e+05, gap 0.0045%\n"
     ]
    },
    {
     "name": "stderr",
     "output_type": "stream",
     "text": [
      "100%|██████████| 57/57 [00:00<00:00, 380.38it/s]\n",
      "100%|██████████| 57/57 [00:00<00:00, 400.80it/s]\n",
      "  3%|▎         | 2/78 [01:18<49:55, 39.41s/it]"
     ]
    },
    {
     "name": "stdout",
     "output_type": "stream",
     "text": [
      "Warning for adding constraints: zero or small (< 1e-13) coefficients, ignored\n"
     ]
    },
    {
     "name": "stderr",
     "output_type": "stream",
     "text": [
      "Adding constraints...: 100%|██████████| 24/24 [00:34<00:00,  1.44s/it]\n"
     ]
    },
    {
     "name": "stdout",
     "output_type": "stream",
     "text": [
      "Gurobi Optimizer version 10.0.3 build v10.0.3rc0 (win64)\n",
      "\n",
      "CPU model: AMD Ryzen 7 5800H with Radeon Graphics, instruction set [SSE2|AVX|AVX2]\n",
      "Thread count: 8 physical cores, 16 logical processors, using up to 16 threads\n",
      "\n",
      "Optimize a model with 23006 rows, 3936 columns and 474938 nonzeros\n",
      "Model fingerprint: 0x5f033e8d\n",
      "Variable types: 1344 continuous, 2592 integer (2592 binary)\n",
      "Coefficient statistics:\n",
      "  Matrix range     [5e-07, 4e+02]\n",
      "  Objective range  [8e+00, 1e+03]\n",
      "  Bounds range     [1e+00, 1e+00]\n",
      "  RHS range        [1e+00, 2e+03]\n",
      "Presolve removed 4138 rows and 30 columns\n",
      "Presolve time: 0.66s\n",
      "Presolved: 18868 rows, 3906 columns, 311797 nonzeros\n",
      "Variable types: 1368 continuous, 2538 integer (2538 binary)\n",
      "\n",
      "Root relaxation: objective 3.176902e+05, 540 iterations, 0.06 seconds (0.05 work units)\n",
      "\n",
      "    Nodes    |    Current Node    |     Objective Bounds      |     Work\n",
      " Expl Unexpl |  Obj  Depth IntInf | Incumbent    BestBd   Gap | It/Node Time\n",
      "\n",
      "     0     0 317690.216    0   28          - 317690.216      -     -    1s\n",
      "H    0     0                    1663536.1061 317690.216  80.9%     -    1s\n",
      "H    0     0                    338710.92764 317690.216  6.21%     -    1s\n",
      "H    0     0                    317833.64252 317690.216  0.05%     -    1s\n",
      "     0     0     cutoff    0      317833.643 317833.643  0.00%     -    1s\n",
      "\n",
      "Cutting planes:\n",
      "  Gomory: 4\n",
      "  MIR: 17\n",
      "  Flow cover: 43\n",
      "\n",
      "Explored 1 nodes (887 simplex iterations) in 1.50 seconds (1.85 work units)\n",
      "Thread count was 16 (of 16 available processors)\n",
      "\n",
      "Solution count 3: 317834 338711 1.66354e+06 \n",
      "\n",
      "Optimal solution found (tolerance 1.00e-04)\n",
      "Best objective 3.178336425188e+05, best bound 3.178336425188e+05, gap 0.0000%\n"
     ]
    },
    {
     "name": "stderr",
     "output_type": "stream",
     "text": [
      "100%|██████████| 57/57 [00:00<00:00, 401.02it/s]\n",
      "100%|██████████| 57/57 [00:00<00:00, 440.85it/s]\n",
      "  4%|▍         | 3/78 [01:55<47:54, 38.33s/it]"
     ]
    },
    {
     "name": "stdout",
     "output_type": "stream",
     "text": [
      "Warning for adding constraints: zero or small (< 1e-13) coefficients, ignored\n"
     ]
    },
    {
     "name": "stderr",
     "output_type": "stream",
     "text": [
      "Adding constraints...: 100%|██████████| 24/24 [00:32<00:00,  1.34s/it]"
     ]
    },
    {
     "name": "stdout",
     "output_type": "stream",
     "text": [
      "Gurobi Optimizer version 10.0.3 build v10.0.3rc0 (win64)\n",
      "\n",
      "CPU model: AMD Ryzen 7 5800H with Radeon Graphics, instruction set [SSE2|AVX|AVX2]\n",
      "Thread count: 8 physical cores, 16 logical processors, using up to 16 threads\n",
      "\n",
      "Optimize a model with 23006 rows, 3936 columns and 474938 nonzeros\n",
      "Model fingerprint: 0xe45e7505\n",
      "Variable types: 1344 continuous, 2592 integer (2592 binary)\n",
      "Coefficient statistics:\n",
      "  Matrix range     [5e-07, 4e+02]\n",
      "  Objective range  [8e+00, 1e+03]\n",
      "  Bounds range     [1e+00, 1e+00]\n",
      "  RHS range        [1e+00, 2e+03]\n"
     ]
    },
    {
     "name": "stderr",
     "output_type": "stream",
     "text": [
      "\n"
     ]
    },
    {
     "name": "stdout",
     "output_type": "stream",
     "text": [
      "Presolve removed 4138 rows and 30 columns\n",
      "Presolve time: 0.58s\n",
      "Presolved: 18868 rows, 3906 columns, 310899 nonzeros\n",
      "Variable types: 1368 continuous, 2538 integer (2538 binary)\n",
      "Found heuristic solution: objective 621999.82510\n",
      "\n",
      "Root relaxation: objective 2.449161e+05, 240 iterations, 0.03 seconds (0.02 work units)\n",
      "\n",
      "    Nodes    |    Current Node    |     Objective Bounds      |     Work\n",
      " Expl Unexpl |  Obj  Depth IntInf | Incumbent    BestBd   Gap | It/Node Time\n",
      "\n",
      "     0     0 244916.095    0   21 621999.825 244916.095  60.6%     -    0s\n",
      "H    0     0                    245823.03502 244916.095  0.37%     -    1s\n",
      "     0     0 245448.018    0   51 245823.035 245448.018  0.15%     -    1s\n",
      "H    0     0                    245648.13521 245449.402  0.08%     -    1s\n",
      "     0     0 245449.978    0    9 245648.135 245449.978  0.08%     -    1s\n",
      "     0     0 245511.225    0   13 245648.135 245511.225  0.06%     -    1s\n",
      "     0     0 245511.813    0    9 245648.135 245511.813  0.06%     -    1s\n",
      "     0     0 245600.758    0   16 245648.135 245600.758  0.02%     -    1s\n",
      "     0     0 245600.758    0    8 245648.135 245600.758  0.02%     -    2s\n",
      "     0     0 245640.720    0   10 245648.135 245640.720  0.00%     -    2s\n",
      "\n",
      "Cutting planes:\n",
      "  Gomory: 2\n",
      "  Cover: 2\n",
      "  Implied bound: 1\n",
      "  MIR: 4\n",
      "  Flow cover: 10\n",
      "  RLT: 1\n",
      "  Relax-and-lift: 1\n",
      "\n",
      "Explored 1 nodes (1638 simplex iterations) in 2.03 seconds (2.37 work units)\n",
      "Thread count was 16 (of 16 available processors)\n",
      "\n",
      "Solution count 3: 245648 245823 622000 \n",
      "\n",
      "Optimal solution found (tolerance 1.00e-04)\n",
      "Best objective 2.456481352071e+05, best bound 2.456407201987e+05, gap 0.0030%\n"
     ]
    },
    {
     "name": "stderr",
     "output_type": "stream",
     "text": [
      "100%|██████████| 57/57 [00:00<00:00, 521.52it/s]\n",
      "100%|██████████| 57/57 [00:00<00:00, 511.79it/s]\n",
      "  5%|▌         | 4/78 [02:30<45:39, 37.02s/it]"
     ]
    },
    {
     "name": "stdout",
     "output_type": "stream",
     "text": [
      "Warning for adding constraints: zero or small (< 1e-13) coefficients, ignored\n"
     ]
    },
    {
     "name": "stderr",
     "output_type": "stream",
     "text": [
      "Adding constraints...: 100%|██████████| 24/24 [00:28<00:00,  1.18s/it]"
     ]
    },
    {
     "name": "stdout",
     "output_type": "stream",
     "text": [
      "Gurobi Optimizer version 10.0.3 build v10.0.3rc0 (win64)\n",
      "\n",
      "CPU model: AMD Ryzen 7 5800H with Radeon Graphics, instruction set [SSE2|AVX|AVX2]\n",
      "Thread count: 8 physical cores, 16 logical processors, using up to 16 threads\n",
      "\n",
      "Optimize a model with 23006 rows, 3936 columns and 474938 nonzeros\n",
      "Model fingerprint: 0x13f6bede\n",
      "Variable types: 1344 continuous, 2592 integer (2592 binary)\n",
      "Coefficient statistics:\n",
      "  Matrix range     [5e-07, 4e+02]\n",
      "  Objective range  [8e+00, 1e+03]\n",
      "  Bounds range     [1e+00, 1e+00]\n",
      "  RHS range        [1e+00, 1e+03]\n"
     ]
    },
    {
     "name": "stderr",
     "output_type": "stream",
     "text": [
      "\n"
     ]
    },
    {
     "name": "stdout",
     "output_type": "stream",
     "text": [
      "Presolve removed 4178 rows and 30 columns\n",
      "Presolve time: 0.56s\n",
      "Presolved: 18828 rows, 3906 columns, 310308 nonzeros\n",
      "Variable types: 1368 continuous, 2538 integer (2538 binary)\n",
      "\n",
      "Root relaxation: objective 1.488988e+05, 370 iterations, 0.05 seconds (0.03 work units)\n",
      "\n",
      "    Nodes    |    Current Node    |     Objective Bounds      |     Work\n",
      " Expl Unexpl |  Obj  Depth IntInf | Incumbent    BestBd   Gap | It/Node Time\n",
      "\n",
      "     0     0 148898.778    0   21          - 148898.778      -     -    0s\n",
      "H    0     0                    152255.71182 148898.778  2.20%     -    0s\n",
      "H    0     0                    151045.26182 148898.778  1.42%     -    1s\n",
      "     0     0 149261.903    0   36 151045.262 149261.903  1.18%     -    1s\n",
      "     0     0 149261.946    0   36 151045.262 149261.946  1.18%     -    1s\n",
      "H    0     0                    150289.43976 149436.817  0.57%     -    2s\n",
      "     0     0 149437.644    0   49 150289.440 149437.644  0.57%     -    2s\n",
      "H    0     0                    150066.50976 149442.266  0.42%     -    2s\n",
      "     0     0 149451.558    0   43 150066.510 149451.558  0.41%     -    2s\n",
      "H    0     0                    149617.82496 149506.825  0.07%     -    2s\n",
      "     0     0 149506.825    0   37 149617.825 149506.825  0.07%     -    2s\n",
      "     0     0 149574.116    0    6 149617.825 149574.116  0.03%     -    2s\n",
      "H    0     0                    149574.11642 149574.116  0.00%     -    2s\n",
      "\n",
      "Cutting planes:\n",
      "  Gomory: 2\n",
      "  Lift-and-project: 1\n",
      "  Implied bound: 1\n",
      "  MIR: 6\n",
      "  Flow cover: 24\n",
      "  Flow path: 4\n",
      "  RLT: 1\n",
      "\n",
      "Explored 1 nodes (2347 simplex iterations) in 2.94 seconds (3.28 work units)\n",
      "Thread count was 16 (of 16 available processors)\n",
      "\n",
      "Solution count 6: 149574 149618 150067 ... 152256\n",
      "\n",
      "Optimal solution found (tolerance 1.00e-04)\n",
      "Best objective 1.495741164245e+05, best bound 1.495741164245e+05, gap 0.0000%\n"
     ]
    },
    {
     "name": "stderr",
     "output_type": "stream",
     "text": [
      "100%|██████████| 57/57 [00:00<00:00, 526.16it/s]\n",
      "100%|██████████| 57/57 [00:00<00:00, 526.38it/s]\n",
      "  6%|▋         | 5/78 [03:02<42:49, 35.20s/it]"
     ]
    },
    {
     "name": "stdout",
     "output_type": "stream",
     "text": [
      "Warning for adding constraints: zero or small (< 1e-13) coefficients, ignored\n"
     ]
    },
    {
     "name": "stderr",
     "output_type": "stream",
     "text": [
      "Adding constraints...: 100%|██████████| 24/24 [00:27<00:00,  1.14s/it]"
     ]
    },
    {
     "name": "stdout",
     "output_type": "stream",
     "text": [
      "Gurobi Optimizer version 10.0.3 build v10.0.3rc0 (win64)\n",
      "\n",
      "CPU model: AMD Ryzen 7 5800H with Radeon Graphics, instruction set [SSE2|AVX|AVX2]\n",
      "Thread count: 8 physical cores, 16 logical processors, using up to 16 threads\n",
      "\n",
      "Optimize a model with 23006 rows, 3936 columns and 474938 nonzeros\n",
      "Model fingerprint: 0x9a390982\n",
      "Variable types: 1344 continuous, 2592 integer (2592 binary)\n",
      "Coefficient statistics:\n",
      "  Matrix range     [5e-07, 4e+02]\n"
     ]
    },
    {
     "name": "stderr",
     "output_type": "stream",
     "text": [
      "\n"
     ]
    },
    {
     "name": "stdout",
     "output_type": "stream",
     "text": [
      "  Objective range  [8e+00, 1e+03]\n",
      "  Bounds range     [1e+00, 1e+00]\n",
      "  RHS range        [1e+00, 1e+03]\n",
      "Presolve removed 4146 rows and 30 columns\n",
      "Presolve time: 0.53s\n",
      "Presolved: 18860 rows, 3906 columns, 311241 nonzeros\n",
      "Variable types: 1368 continuous, 2538 integer (2538 binary)\n",
      "Found heuristic solution: objective 899957.83902\n",
      "\n",
      "Root relaxation: objective 1.937298e+05, 224 iterations, 0.03 seconds (0.02 work units)\n",
      "\n",
      "    Nodes    |    Current Node    |     Objective Bounds      |     Work\n",
      " Expl Unexpl |  Obj  Depth IntInf | Incumbent    BestBd   Gap | It/Node Time\n",
      "\n",
      "     0     0 193729.798    0   38 899957.839 193729.798  78.5%     -    0s\n",
      "H    0     0                    194073.78051 193729.798  0.18%     -    0s\n",
      "     0     0     cutoff    0      194073.781 194073.781  0.00%     -    1s\n",
      "\n",
      "Cutting planes:\n",
      "  Gomory: 9\n",
      "  Cover: 11\n",
      "  MIR: 12\n",
      "  Flow cover: 68\n",
      "\n",
      "Explored 1 nodes (691 simplex iterations) in 1.24 seconds (1.75 work units)\n",
      "Thread count was 16 (of 16 available processors)\n",
      "\n",
      "Solution count 2: 194074 899958 \n",
      "\n",
      "Optimal solution found (tolerance 1.00e-04)\n",
      "Best objective 1.940737805061e+05, best bound 1.940737805061e+05, gap 0.0000%\n"
     ]
    },
    {
     "name": "stderr",
     "output_type": "stream",
     "text": [
      "100%|██████████| 57/57 [00:00<00:00, 440.32it/s]\n",
      "100%|██████████| 57/57 [00:00<00:00, 484.54it/s]\n",
      "  8%|▊         | 6/78 [03:32<39:53, 33.24s/it]"
     ]
    },
    {
     "name": "stdout",
     "output_type": "stream",
     "text": [
      "Warning for adding constraints: zero or small (< 1e-13) coefficients, ignored\n"
     ]
    },
    {
     "name": "stderr",
     "output_type": "stream",
     "text": [
      "Adding constraints...: 100%|██████████| 24/24 [00:29<00:00,  1.21s/it]"
     ]
    },
    {
     "name": "stdout",
     "output_type": "stream",
     "text": [
      "Gurobi Optimizer version 10.0.3 build v10.0.3rc0 (win64)\n",
      "\n",
      "CPU model: AMD Ryzen 7 5800H with Radeon Graphics, instruction set [SSE2|AVX|AVX2]\n",
      "Thread count: 8 physical cores, 16 logical processors, using up to 16 threads\n",
      "\n",
      "Optimize a model with 23006 rows, 3936 columns and 474938 nonzeros\n",
      "Model fingerprint: 0x1f7f2040\n",
      "Variable types: 1344 continuous, 2592 integer (2592 binary)\n",
      "Coefficient statistics:\n",
      "  Matrix range     [5e-07, 4e+02]\n",
      "  Objective range  [8e+00, 1e+03]\n",
      "  Bounds range     [1e+00, 1e+00]\n",
      "  RHS range        [7e-01, 1e+03]\n"
     ]
    },
    {
     "name": "stderr",
     "output_type": "stream",
     "text": [
      "\n"
     ]
    },
    {
     "name": "stdout",
     "output_type": "stream",
     "text": [
      "Presolve removed 4441 rows and 30 columns\n",
      "Presolve time: 0.53s\n",
      "Presolved: 18565 rows, 3906 columns, 297573 nonzeros\n",
      "Variable types: 1368 continuous, 2538 integer (2538 binary)\n",
      "\n",
      "Root relaxation: objective 1.746488e+05, 212 iterations, 0.02 seconds (0.01 work units)\n",
      "\n",
      "    Nodes    |    Current Node    |     Objective Bounds      |     Work\n",
      " Expl Unexpl |  Obj  Depth IntInf | Incumbent    BestBd   Gap | It/Node Time\n",
      "\n",
      "     0     0 174648.772    0   28          - 174648.772      -     -    0s\n",
      "H    0     0                    174936.57139 174648.772  0.16%     -    0s\n",
      "     0     0 174922.270    0   33 174936.571 174922.270  0.01%     -    1s\n",
      "\n",
      "Cutting planes:\n",
      "  Gomory: 3\n",
      "  Cover: 3\n",
      "  MIR: 16\n",
      "  Flow cover: 31\n",
      "\n",
      "Explored 1 nodes (716 simplex iterations) in 1.32 seconds (1.77 work units)\n",
      "Thread count was 16 (of 16 available processors)\n",
      "\n",
      "Solution count 1: 174937 \n",
      "\n",
      "Optimal solution found (tolerance 1.00e-04)\n",
      "Best objective 1.749365713851e+05, best bound 1.749222696054e+05, gap 0.0082%\n"
     ]
    },
    {
     "name": "stderr",
     "output_type": "stream",
     "text": [
      "100%|██████████| 57/57 [00:00<00:00, 415.30it/s]\n",
      "100%|██████████| 57/57 [00:00<00:00, 473.35it/s]\n",
      "  9%|▉         | 7/78 [04:03<38:36, 32.62s/it]"
     ]
    },
    {
     "name": "stdout",
     "output_type": "stream",
     "text": [
      "Warning for adding constraints: zero or small (< 1e-13) coefficients, ignored\n"
     ]
    },
    {
     "name": "stderr",
     "output_type": "stream",
     "text": [
      "Adding constraints...: 100%|██████████| 24/24 [00:25<00:00,  1.08s/it]"
     ]
    },
    {
     "name": "stdout",
     "output_type": "stream",
     "text": [
      "Gurobi Optimizer version 10.0.3 build v10.0.3rc0 (win64)\n",
      "\n",
      "CPU model: AMD Ryzen 7 5800H with Radeon Graphics, instruction set [SSE2|AVX|AVX2]\n",
      "Thread count: 8 physical cores, 16 logical processors, using up to 16 threads\n",
      "\n",
      "Optimize a model with 23006 rows, 3936 columns and 474938 nonzeros\n",
      "Model fingerprint: 0x4c0df103\n",
      "Variable types: 1344 continuous, 2592 integer (2592 binary)\n",
      "Coefficient statistics:\n",
      "  Matrix range     [5e-07, 4e+02]\n",
      "  Objective range  [8e+00, 1e+03]\n",
      "  Bounds range     [1e+00, 1e+00]\n",
      "  RHS range        [1e+00, 1e+03]\n"
     ]
    },
    {
     "name": "stderr",
     "output_type": "stream",
     "text": [
      "\n"
     ]
    },
    {
     "name": "stdout",
     "output_type": "stream",
     "text": [
      "Found heuristic solution: objective 1381864.9720\n",
      "Presolve removed 4433 rows and 30 columns\n",
      "Presolve time: 0.55s\n",
      "Presolved: 18573 rows, 3906 columns, 298267 nonzeros\n",
      "Variable types: 1368 continuous, 2538 integer (2538 binary)\n",
      "\n",
      "Root relaxation: objective 5.837766e+04, 94 iterations, 0.01 seconds (0.01 work units)\n",
      "\n",
      "    Nodes    |    Current Node    |     Objective Bounds      |     Work\n",
      " Expl Unexpl |  Obj  Depth IntInf | Incumbent    BestBd   Gap | It/Node Time\n",
      "\n",
      "H    0     0                    58377.663135    0.00000   100%     -    0s\n",
      "     0     0          -    0      58377.6631 58377.6631  0.00%     -    0s\n",
      "\n",
      "Explored 1 nodes (118 simplex iterations) in 0.67 seconds (1.18 work units)\n",
      "Thread count was 16 (of 16 available processors)\n",
      "\n",
      "Solution count 2: 58377.7 1.38186e+06 \n",
      "\n",
      "Optimal solution found (tolerance 1.00e-04)\n",
      "Best objective 5.837766313503e+04, best bound 5.837766313503e+04, gap 0.0000%\n"
     ]
    },
    {
     "name": "stderr",
     "output_type": "stream",
     "text": [
      "100%|██████████| 57/57 [00:00<00:00, 585.30it/s]\n",
      "100%|██████████| 57/57 [00:00<00:00, 557.39it/s]\n",
      " 10%|█         | 8/78 [04:30<36:03, 30.91s/it]"
     ]
    },
    {
     "name": "stdout",
     "output_type": "stream",
     "text": [
      "Warning for adding constraints: zero or small (< 1e-13) coefficients, ignored\n"
     ]
    },
    {
     "name": "stderr",
     "output_type": "stream",
     "text": [
      "Adding constraints...: 100%|██████████| 24/24 [00:25<00:00,  1.07s/it]"
     ]
    },
    {
     "name": "stdout",
     "output_type": "stream",
     "text": [
      "Gurobi Optimizer version 10.0.3 build v10.0.3rc0 (win64)\n",
      "\n",
      "CPU model: AMD Ryzen 7 5800H with Radeon Graphics, instruction set [SSE2|AVX|AVX2]\n",
      "Thread count: 8 physical cores, 16 logical processors, using up to 16 threads\n",
      "\n",
      "Optimize a model with 23006 rows, 3936 columns and 474938 nonzeros\n",
      "Model fingerprint: 0x2e6c36e3\n",
      "Variable types: 1344 continuous, 2592 integer (2592 binary)\n",
      "Coefficient statistics:\n",
      "  Matrix range     [5e-07, 4e+02]\n",
      "  Objective range  [8e+00, 1e+03]\n",
      "  Bounds range     [1e+00, 1e+00]\n",
      "  RHS range        [1e+00, 1e+03]\n"
     ]
    },
    {
     "name": "stderr",
     "output_type": "stream",
     "text": [
      "\n"
     ]
    },
    {
     "name": "stdout",
     "output_type": "stream",
     "text": [
      "Presolve removed 4292 rows and 30 columns\n",
      "Presolve time: 0.53s\n",
      "Presolved: 18714 rows, 3906 columns, 304475 nonzeros\n",
      "Variable types: 1368 continuous, 2538 integer (2538 binary)\n",
      "\n",
      "Root relaxation: objective 1.028387e+05, 143 iterations, 0.02 seconds (0.01 work units)\n",
      "\n",
      "    Nodes    |    Current Node    |     Objective Bounds      |     Work\n",
      " Expl Unexpl |  Obj  Depth IntInf | Incumbent    BestBd   Gap | It/Node Time\n",
      "\n",
      "H    0     0                    102838.66176    0.00000   100%     -    0s\n",
      "     0     0          -    0      102838.662 102838.662  0.00%     -    0s\n",
      "\n",
      "Explored 1 nodes (198 simplex iterations) in 0.73 seconds (1.34 work units)\n",
      "Thread count was 16 (of 16 available processors)\n",
      "\n",
      "Solution count 1: 102839 \n",
      "\n",
      "Optimal solution found (tolerance 1.00e-04)\n",
      "Best objective 1.028386617626e+05, best bound 1.028386617626e+05, gap 0.0000%\n"
     ]
    },
    {
     "name": "stderr",
     "output_type": "stream",
     "text": [
      "100%|██████████| 57/57 [00:00<00:00, 573.00it/s]\n",
      "100%|██████████| 57/57 [00:00<00:00, 543.34it/s]\n",
      " 12%|█▏        | 9/78 [04:58<34:10, 29.72s/it]"
     ]
    },
    {
     "name": "stdout",
     "output_type": "stream",
     "text": [
      "Warning for adding constraints: zero or small (< 1e-13) coefficients, ignored\n"
     ]
    },
    {
     "name": "stderr",
     "output_type": "stream",
     "text": [
      "Adding constraints...: 100%|██████████| 24/24 [00:24<00:00,  1.04s/it]"
     ]
    },
    {
     "name": "stdout",
     "output_type": "stream",
     "text": [
      "Gurobi Optimizer version 10.0.3 build v10.0.3rc0 (win64)\n",
      "\n",
      "CPU model: AMD Ryzen 7 5800H with Radeon Graphics, instruction set [SSE2|AVX|AVX2]\n",
      "Thread count: 8 physical cores, 16 logical processors, using up to 16 threads\n",
      "\n",
      "Optimize a model with 23006 rows, 3936 columns and 474938 nonzeros\n",
      "Model fingerprint: 0x2a2e75d0\n",
      "Variable types: 1344 continuous, 2592 integer (2592 binary)\n",
      "Coefficient statistics:\n",
      "  Matrix range     [5e-07, 4e+02]\n",
      "  Objective range  [8e+00, 1e+03]\n",
      "  Bounds range     [1e+00, 1e+00]\n",
      "  RHS range        [1e+00, 1e+03]\n",
      "Found heuristic solution: objective 1383524.3003\n"
     ]
    },
    {
     "name": "stderr",
     "output_type": "stream",
     "text": [
      "\n"
     ]
    },
    {
     "name": "stdout",
     "output_type": "stream",
     "text": [
      "Presolve removed 4392 rows and 30 columns\n",
      "Presolve time: 0.53s\n",
      "Presolved: 18614 rows, 3906 columns, 300889 nonzeros\n",
      "Variable types: 1368 continuous, 2538 integer (2538 binary)\n",
      "\n",
      "Root relaxation: objective 1.135729e+05, 144 iterations, 0.02 seconds (0.01 work units)\n",
      "\n",
      "    Nodes    |    Current Node    |     Objective Bounds      |     Work\n",
      " Expl Unexpl |  Obj  Depth IntInf | Incumbent    BestBd   Gap | It/Node Time\n",
      "\n",
      "H    0     0                    113572.90328    0.00000   100%     -    0s\n",
      "     0     0          -    0      113572.903 113572.903  0.00%     -    0s\n",
      "\n",
      "Explored 1 nodes (196 simplex iterations) in 0.64 seconds (1.19 work units)\n",
      "Thread count was 16 (of 16 available processors)\n",
      "\n",
      "Solution count 2: 113573 1.38352e+06 \n",
      "\n",
      "Optimal solution found (tolerance 1.00e-04)\n",
      "Best objective 1.135729032836e+05, best bound 1.135729032836e+05, gap 0.0000%\n"
     ]
    },
    {
     "name": "stderr",
     "output_type": "stream",
     "text": [
      "100%|██████████| 57/57 [00:00<00:00, 572.80it/s]\n",
      "100%|██████████| 57/57 [00:00<00:00, 537.26it/s]\n",
      " 13%|█▎        | 10/78 [05:24<32:28, 28.66s/it]"
     ]
    },
    {
     "name": "stdout",
     "output_type": "stream",
     "text": [
      "Warning for adding constraints: zero or small (< 1e-13) coefficients, ignored\n"
     ]
    },
    {
     "name": "stderr",
     "output_type": "stream",
     "text": [
      "Adding constraints...: 100%|██████████| 24/24 [00:25<00:00,  1.08s/it]"
     ]
    },
    {
     "name": "stdout",
     "output_type": "stream",
     "text": [
      "Gurobi Optimizer version 10.0.3 build v10.0.3rc0 (win64)\n",
      "\n",
      "CPU model: AMD Ryzen 7 5800H with Radeon Graphics, instruction set [SSE2|AVX|AVX2]\n",
      "Thread count: 8 physical cores, 16 logical processors, using up to 16 threads\n",
      "\n",
      "Optimize a model with 23006 rows, 3936 columns and 474938 nonzeros\n",
      "Model fingerprint: 0x55fef01f\n",
      "Variable types: 1344 continuous, 2592 integer (2592 binary)\n",
      "Coefficient statistics:\n",
      "  Matrix range     [5e-07, 4e+02]\n",
      "  Objective range  [8e+00, 1e+03]\n",
      "  Bounds range     [1e+00, 1e+00]\n",
      "  RHS range        [1e+00, 1e+03]\n",
      "Found heuristic solution: objective 1207740.9458\n"
     ]
    },
    {
     "name": "stderr",
     "output_type": "stream",
     "text": [
      "\n"
     ]
    },
    {
     "name": "stdout",
     "output_type": "stream",
     "text": [
      "Presolve removed 4355 rows and 30 columns\n",
      "Presolve time: 0.57s\n",
      "Presolved: 18651 rows, 3906 columns, 301301 nonzeros\n",
      "Variable types: 1368 continuous, 2538 integer (2538 binary)\n",
      "\n",
      "Root relaxation: objective 8.710131e+04, 150 iterations, 0.02 seconds (0.01 work units)\n",
      "\n",
      "    Nodes    |    Current Node    |     Objective Bounds      |     Work\n",
      " Expl Unexpl |  Obj  Depth IntInf | Incumbent    BestBd   Gap | It/Node Time\n",
      "\n",
      "*    0     0               0    87101.312601 87101.3126  0.00%     -    0s\n",
      "\n",
      "Explored 1 nodes (224 simplex iterations) in 0.74 seconds (1.25 work units)\n",
      "Thread count was 16 (of 16 available processors)\n",
      "\n",
      "Solution count 2: 87101.3 1.20774e+06 \n",
      "\n",
      "Optimal solution found (tolerance 1.00e-04)\n",
      "Best objective 8.710131260132e+04, best bound 8.710131260132e+04, gap 0.0000%\n"
     ]
    },
    {
     "name": "stderr",
     "output_type": "stream",
     "text": [
      "100%|██████████| 57/57 [00:00<00:00, 470.86it/s]\n",
      "100%|██████████| 57/57 [00:00<00:00, 617.01it/s]\n",
      " 14%|█▍        | 11/78 [05:51<31:32, 28.25s/it]"
     ]
    },
    {
     "name": "stdout",
     "output_type": "stream",
     "text": [
      "Warning for adding constraints: zero or small (< 1e-13) coefficients, ignored\n"
     ]
    },
    {
     "name": "stderr",
     "output_type": "stream",
     "text": [
      "Adding constraints...: 100%|██████████| 24/24 [00:24<00:00,  1.02s/it]"
     ]
    },
    {
     "name": "stdout",
     "output_type": "stream",
     "text": [
      "Gurobi Optimizer version 10.0.3 build v10.0.3rc0 (win64)\n",
      "\n",
      "CPU model: AMD Ryzen 7 5800H with Radeon Graphics, instruction set [SSE2|AVX|AVX2]\n",
      "Thread count: 8 physical cores, 16 logical processors, using up to 16 threads\n",
      "\n",
      "Optimize a model with 23006 rows, 3936 columns and 474938 nonzeros\n",
      "Model fingerprint: 0xc0b6e9ec\n",
      "Variable types: 1344 continuous, 2592 integer (2592 binary)\n",
      "Coefficient statistics:\n",
      "  Matrix range     [5e-07, 4e+02]\n",
      "  Objective range  [8e+00, 1e+03]\n",
      "  Bounds range     [1e+00, 1e+00]\n",
      "  RHS range        [9e-02, 2e+03]\n"
     ]
    },
    {
     "name": "stderr",
     "output_type": "stream",
     "text": [
      "\n"
     ]
    },
    {
     "name": "stdout",
     "output_type": "stream",
     "text": [
      "Presolve removed 4158 rows and 30 columns\n",
      "Presolve time: 0.52s\n",
      "Presolved: 18848 rows, 3906 columns, 310905 nonzeros\n",
      "Variable types: 1368 continuous, 2538 integer (2538 binary)\n",
      "Found heuristic solution: objective 688896.78862\n",
      "\n",
      "Root relaxation: objective 1.994723e+05, 229 iterations, 0.02 seconds (0.02 work units)\n",
      "\n",
      "    Nodes    |    Current Node    |     Objective Bounds      |     Work\n",
      " Expl Unexpl |  Obj  Depth IntInf | Incumbent    BestBd   Gap | It/Node Time\n",
      "\n",
      "     0     0 199472.261    0   17 688896.789 199472.261  71.0%     -    0s\n",
      "H    0     0                    199575.75128 199472.261  0.05%     -    0s\n",
      "     0     0     cutoff    0      199575.751 199575.751  0.00%     -    1s\n",
      "\n",
      "Cutting planes:\n",
      "  Cover: 5\n",
      "  Flow cover: 9\n",
      "  Relax-and-lift: 2\n",
      "\n",
      "Explored 1 nodes (293 simplex iterations) in 1.07 seconds (1.59 work units)\n",
      "Thread count was 16 (of 16 available processors)\n",
      "\n",
      "Solution count 2: 199576 688897 \n",
      "\n",
      "Optimal solution found (tolerance 1.00e-04)\n",
      "Best objective 1.995757512788e+05, best bound 1.995757512788e+05, gap 0.0000%\n"
     ]
    },
    {
     "name": "stderr",
     "output_type": "stream",
     "text": [
      "100%|██████████| 57/57 [00:00<00:00, 516.29it/s]\n",
      "100%|██████████| 57/57 [00:00<00:00, 572.01it/s]\n",
      " 15%|█▌        | 12/78 [06:18<30:27, 27.69s/it]"
     ]
    },
    {
     "name": "stdout",
     "output_type": "stream",
     "text": [
      "Warning for adding constraints: zero or small (< 1e-13) coefficients, ignored\n"
     ]
    },
    {
     "name": "stderr",
     "output_type": "stream",
     "text": [
      "Adding constraints...: 100%|██████████| 24/24 [00:25<00:00,  1.07s/it]"
     ]
    },
    {
     "name": "stdout",
     "output_type": "stream",
     "text": [
      "Gurobi Optimizer version 10.0.3 build v10.0.3rc0 (win64)\n",
      "\n",
      "CPU model: AMD Ryzen 7 5800H with Radeon Graphics, instruction set [SSE2|AVX|AVX2]\n",
      "Thread count: 8 physical cores, 16 logical processors, using up to 16 threads\n",
      "\n",
      "Optimize a model with 23006 rows, 3936 columns and 474938 nonzeros\n",
      "Model fingerprint: 0x4212aa50\n",
      "Variable types: 1344 continuous, 2592 integer (2592 binary)\n",
      "Coefficient statistics:\n",
      "  Matrix range     [5e-07, 4e+02]\n",
      "  Objective range  [8e+00, 1e+03]\n",
      "  Bounds range     [1e+00, 1e+00]\n",
      "  RHS range        [7e-01, 2e+03]\n"
     ]
    },
    {
     "name": "stderr",
     "output_type": "stream",
     "text": [
      "\n"
     ]
    },
    {
     "name": "stdout",
     "output_type": "stream",
     "text": [
      "Presolve removed 4147 rows and 30 columns\n",
      "Presolve time: 0.56s\n",
      "Presolved: 18859 rows, 3906 columns, 311172 nonzeros\n",
      "Variable types: 1368 continuous, 2538 integer (2538 binary)\n",
      "\n",
      "Root relaxation: objective 3.474842e+05, 886 iterations, 0.05 seconds (0.07 work units)\n",
      "\n",
      "    Nodes    |    Current Node    |     Objective Bounds      |     Work\n",
      " Expl Unexpl |  Obj  Depth IntInf | Incumbent    BestBd   Gap | It/Node Time\n",
      "\n",
      "     0     0 347484.228    0   37          - 347484.228      -     -    0s\n",
      "H    0     0                    1160635.6974 347484.228  70.1%     -    1s\n",
      "H    0     0                    351512.01008 347484.228  1.15%     -    1s\n",
      "     0     0 347512.855    0   73 351512.010 347512.855  1.14%     -    1s\n",
      "H    0     0                    347923.01755 347512.855  0.12%     -    1s\n",
      "     0     0 347516.132    0   78 347923.018 347516.132  0.12%     -    1s\n",
      "     0     0 347516.132    0   78 347923.018 347516.132  0.12%     -    1s\n",
      "     0     0 347754.890    0   97 347923.018 347754.890  0.05%     -    2s\n",
      "     0     0 347778.163    0   86 347923.018 347778.163  0.04%     -    2s\n",
      "     0     0 347778.163    0   88 347923.018 347778.163  0.04%     -    2s\n",
      "     0     0 347826.565    0   98 347923.018 347826.565  0.03%     -    2s\n",
      "     0     0 347826.565    0   41 347923.018 347826.565  0.03%     -    2s\n",
      "     0     0 347826.565    0   77 347923.018 347826.565  0.03%     -    3s\n",
      "     0     0 347827.912    0   77 347923.018 347827.912  0.03%     -    3s\n",
      "     0     0 347833.856    0   62 347923.018 347833.856  0.03%     -    3s\n",
      "     0     0 347835.100    0   63 347923.018 347835.100  0.03%     -    3s\n",
      "     0     0 347876.544    0   34 347923.018 347876.544  0.01%     -    3s\n",
      "     0     0 347876.544    0   17 347923.018 347876.544  0.01%     -    3s\n",
      "     0     0 347881.022    0   30 347923.018 347881.022  0.01%     -    3s\n",
      "     0     0 347882.097    0   30 347923.018 347882.097  0.01%     -    3s\n",
      "     0     0 347901.379    0   30 347923.018 347901.379  0.01%     -    3s\n",
      "\n",
      "Cutting planes:\n",
      "  Gomory: 1\n",
      "  Cover: 2\n",
      "  Implied bound: 1\n",
      "  MIR: 32\n",
      "  Flow cover: 55\n",
      "  Relax-and-lift: 1\n",
      "\n",
      "Explored 1 nodes (4801 simplex iterations) in 3.36 seconds (4.02 work units)\n",
      "Thread count was 16 (of 16 available processors)\n",
      "\n",
      "Solution count 3: 347923 351512 1.16064e+06 \n",
      "\n",
      "Optimal solution found (tolerance 1.00e-04)\n",
      "Best objective 3.479230175523e+05, best bound 3.479013791320e+05, gap 0.0062%\n"
     ]
    },
    {
     "name": "stderr",
     "output_type": "stream",
     "text": [
      "100%|██████████| 57/57 [00:00<00:00, 555.25it/s]\n",
      "100%|██████████| 57/57 [00:00<00:00, 557.91it/s]\n",
      " 17%|█▋        | 13/78 [06:47<30:40, 28.32s/it]"
     ]
    },
    {
     "name": "stdout",
     "output_type": "stream",
     "text": [
      "Warning for adding constraints: zero or small (< 1e-13) coefficients, ignored\n"
     ]
    },
    {
     "name": "stderr",
     "output_type": "stream",
     "text": [
      "Adding constraints...: 100%|██████████| 24/24 [00:25<00:00,  1.08s/it]"
     ]
    },
    {
     "name": "stdout",
     "output_type": "stream",
     "text": [
      "Gurobi Optimizer version 10.0.3 build v10.0.3rc0 (win64)\n",
      "\n",
      "CPU model: AMD Ryzen 7 5800H with Radeon Graphics, instruction set [SSE2|AVX|AVX2]\n",
      "Thread count: 8 physical cores, 16 logical processors, using up to 16 threads\n",
      "\n",
      "Optimize a model with 23006 rows, 3936 columns and 474938 nonzeros\n",
      "Model fingerprint: 0xfc2a4aa7\n",
      "Variable types: 1344 continuous, 2592 integer (2592 binary)\n",
      "Coefficient statistics:\n",
      "  Matrix range     [5e-07, 4e+02]\n",
      "  Objective range  [8e+00, 1e+03]\n",
      "  Bounds range     [1e+00, 1e+00]\n",
      "  RHS range        [1e+00, 2e+03]\n"
     ]
    },
    {
     "name": "stderr",
     "output_type": "stream",
     "text": [
      "\n"
     ]
    },
    {
     "name": "stdout",
     "output_type": "stream",
     "text": [
      "Presolve removed 4115 rows and 30 columns\n",
      "Presolve time: 0.53s\n",
      "Presolved: 18891 rows, 3906 columns, 312491 nonzeros\n",
      "Variable types: 1368 continuous, 2538 integer (2538 binary)\n",
      "\n",
      "Root relaxation: objective 2.942207e+05, 774 iterations, 0.05 seconds (0.05 work units)\n",
      "\n",
      "    Nodes    |    Current Node    |     Objective Bounds      |     Work\n",
      " Expl Unexpl |  Obj  Depth IntInf | Incumbent    BestBd   Gap | It/Node Time\n",
      "\n",
      "     0     0 294220.683    0   33          - 294220.683      -     -    0s\n",
      "H    0     0                    295464.79990 294220.683  0.42%     -    0s\n",
      "H    0     0                    294783.95983 294431.819  0.12%     -    1s\n",
      "     0     0 294431.819    0   23 294783.960 294431.819  0.12%     -    1s\n",
      "     0     0 294706.539    0   29 294783.960 294706.539  0.03%     -    1s\n",
      "     0     0 294734.743    0   45 294783.960 294734.743  0.02%     -    1s\n",
      "     0     0 294737.508    0   39 294783.960 294737.508  0.02%     -    1s\n",
      "     0     0     cutoff    0      294783.960 294783.960  0.00%     -    1s\n",
      "\n",
      "Cutting planes:\n",
      "  Gomory: 4\n",
      "  Cover: 1\n",
      "  MIR: 17\n",
      "  Flow cover: 19\n",
      "  Zero half: 1\n",
      "  RLT: 3\n",
      "  Relax-and-lift: 4\n",
      "\n",
      "Explored 1 nodes (1992 simplex iterations) in 1.91 seconds (2.68 work units)\n",
      "Thread count was 16 (of 16 available processors)\n",
      "\n",
      "Solution count 2: 294784 295465 \n",
      "\n",
      "Optimal solution found (tolerance 1.00e-04)\n",
      "Best objective 2.947839598335e+05, best bound 2.947839598335e+05, gap 0.0000%\n"
     ]
    },
    {
     "name": "stderr",
     "output_type": "stream",
     "text": [
      "100%|██████████| 57/57 [00:00<00:00, 471.73it/s]\n",
      "100%|██████████| 57/57 [00:00<00:00, 550.92it/s]\n",
      " 18%|█▊        | 14/78 [07:16<30:17, 28.39s/it]"
     ]
    },
    {
     "name": "stdout",
     "output_type": "stream",
     "text": [
      "Warning for adding constraints: zero or small (< 1e-13) coefficients, ignored\n"
     ]
    },
    {
     "name": "stderr",
     "output_type": "stream",
     "text": [
      "Adding constraints...: 100%|██████████| 24/24 [00:24<00:00,  1.02s/it]"
     ]
    },
    {
     "name": "stdout",
     "output_type": "stream",
     "text": [
      "Gurobi Optimizer version 10.0.3 build v10.0.3rc0 (win64)\n",
      "\n",
      "CPU model: AMD Ryzen 7 5800H with Radeon Graphics, instruction set [SSE2|AVX|AVX2]\n",
      "Thread count: 8 physical cores, 16 logical processors, using up to 16 threads\n",
      "\n",
      "Optimize a model with 23006 rows, 3936 columns and 474938 nonzeros\n",
      "Model fingerprint: 0x8dce7b32\n",
      "Variable types: 1344 continuous, 2592 integer (2592 binary)\n",
      "Coefficient statistics:\n",
      "  Matrix range     [5e-07, 4e+02]\n",
      "  Objective range  [8e+00, 1e+03]\n",
      "  Bounds range     [1e+00, 1e+00]\n",
      "  RHS range        [1e+00, 2e+03]\n"
     ]
    },
    {
     "name": "stderr",
     "output_type": "stream",
     "text": [
      "\n"
     ]
    },
    {
     "name": "stdout",
     "output_type": "stream",
     "text": [
      "Presolve removed 4174 rows and 30 columns\n",
      "Presolve time: 0.55s\n",
      "Presolved: 18832 rows, 3906 columns, 310187 nonzeros\n",
      "Variable types: 1368 continuous, 2538 integer (2538 binary)\n",
      "Found heuristic solution: objective 401715.43204\n",
      "\n",
      "Root relaxation: objective 2.635577e+05, 238 iterations, 0.02 seconds (0.02 work units)\n",
      "\n",
      "    Nodes    |    Current Node    |     Objective Bounds      |     Work\n",
      " Expl Unexpl |  Obj  Depth IntInf | Incumbent    BestBd   Gap | It/Node Time\n",
      "\n",
      "     0     0 263557.700    0   25 401715.432 263557.700  34.4%     -    0s\n",
      "H    0     0                    263823.00645 263557.700  0.10%     -    0s\n",
      "     0     0     cutoff    0      263823.006 263823.006  0.00%     -    1s\n",
      "\n",
      "Cutting planes:\n",
      "  Learned: 1\n",
      "  Gomory: 4\n",
      "  Cover: 14\n",
      "  MIR: 27\n",
      "  Flow cover: 42\n",
      "  Relax-and-lift: 9\n",
      "\n",
      "Explored 1 nodes (416 simplex iterations) in 1.21 seconds (1.74 work units)\n",
      "Thread count was 16 (of 16 available processors)\n",
      "\n",
      "Solution count 2: 263823 401715 \n",
      "\n",
      "Optimal solution found (tolerance 1.00e-04)\n",
      "Best objective 2.638230064466e+05, best bound 2.638230064466e+05, gap 0.0000%\n"
     ]
    },
    {
     "name": "stderr",
     "output_type": "stream",
     "text": [
      "100%|██████████| 57/57 [00:00<00:00, 550.89it/s]\n",
      "100%|██████████| 57/57 [00:00<00:00, 583.57it/s]\n",
      " 19%|█▉        | 15/78 [07:42<29:12, 27.81s/it]"
     ]
    },
    {
     "name": "stdout",
     "output_type": "stream",
     "text": [
      "Warning for adding constraints: zero or small (< 1e-13) coefficients, ignored\n"
     ]
    },
    {
     "name": "stderr",
     "output_type": "stream",
     "text": [
      "Adding constraints...: 100%|██████████| 24/24 [00:24<00:00,  1.03s/it]"
     ]
    },
    {
     "name": "stdout",
     "output_type": "stream",
     "text": [
      "Gurobi Optimizer version 10.0.3 build v10.0.3rc0 (win64)\n",
      "\n",
      "CPU model: AMD Ryzen 7 5800H with Radeon Graphics, instruction set [SSE2|AVX|AVX2]\n",
      "Thread count: 8 physical cores, 16 logical processors, using up to 16 threads\n",
      "\n",
      "Optimize a model with 23006 rows, 3936 columns and 474938 nonzeros\n",
      "Model fingerprint: 0x626827a0\n",
      "Variable types: 1344 continuous, 2592 integer (2592 binary)\n",
      "Coefficient statistics:\n",
      "  Matrix range     [5e-07, 4e+02]\n",
      "  Objective range  [8e+00, 1e+03]\n",
      "  Bounds range     [1e+00, 1e+00]\n",
      "  RHS range        [7e-01, 2e+03]\n"
     ]
    },
    {
     "name": "stderr",
     "output_type": "stream",
     "text": [
      "\n"
     ]
    },
    {
     "name": "stdout",
     "output_type": "stream",
     "text": [
      "Presolve removed 4109 rows and 30 columns\n",
      "Presolve time: 0.54s\n",
      "Presolved: 18897 rows, 3906 columns, 312636 nonzeros\n",
      "Variable types: 1368 continuous, 2538 integer (2538 binary)\n",
      "Found heuristic solution: objective 564056.64248\n",
      "\n",
      "Root relaxation: objective 2.920283e+05, 778 iterations, 0.05 seconds (0.06 work units)\n",
      "\n",
      "    Nodes    |    Current Node    |     Objective Bounds      |     Work\n",
      " Expl Unexpl |  Obj  Depth IntInf | Incumbent    BestBd   Gap | It/Node Time\n",
      "\n",
      "     0     0 292028.320    0   29 564056.642 292028.320  48.2%     -    0s\n",
      "H    0     0                    339421.76110 292028.320  14.0%     -    1s\n",
      "H    0     0                    295949.35550 292028.320  1.32%     -    1s\n",
      "     0     0 292206.605    0   36 295949.355 292206.605  1.26%     -    1s\n",
      "H    0     0                    293886.27070 292206.605  0.57%     -    1s\n",
      "H    0     0                    292601.00070 292206.605  0.13%     -    1s\n",
      "     0     0 292459.498    0   44 292601.001 292459.498  0.05%     -    1s\n",
      "     0     0 292481.781    0   33 292601.001 292481.781  0.04%     -    1s\n",
      "     0     0 292481.781    0   33 292601.001 292481.781  0.04%     -    1s\n",
      "\n",
      "Cutting planes:\n",
      "  Gomory: 1\n",
      "  Lift-and-project: 1\n",
      "  Cover: 3\n",
      "  MIR: 22\n",
      "  Flow cover: 39\n",
      "  Flow path: 3\n",
      "  Zero half: 7\n",
      "  RLT: 1\n",
      "  Relax-and-lift: 3\n",
      "\n",
      "Explored 1 nodes (2355 simplex iterations) in 2.07 seconds (2.96 work units)\n",
      "Thread count was 16 (of 16 available processors)\n",
      "\n",
      "Solution count 5: 292601 293886 295949 ... 564057\n",
      "\n",
      "Optimal solution found (tolerance 1.00e-04)\n",
      "Best objective 2.926010007006e+05, best bound 2.926010007006e+05, gap 0.0000%\n"
     ]
    },
    {
     "name": "stderr",
     "output_type": "stream",
     "text": [
      "100%|██████████| 57/57 [00:00<00:00, 554.21it/s]\n",
      "100%|██████████| 57/57 [00:00<00:00, 565.53it/s]\n",
      " 21%|██        | 16/78 [08:10<28:39, 27.73s/it]"
     ]
    },
    {
     "name": "stdout",
     "output_type": "stream",
     "text": [
      "Warning for adding constraints: zero or small (< 1e-13) coefficients, ignored\n"
     ]
    },
    {
     "name": "stderr",
     "output_type": "stream",
     "text": [
      "Adding constraints...: 100%|██████████| 24/24 [00:26<00:00,  1.09s/it]"
     ]
    },
    {
     "name": "stdout",
     "output_type": "stream",
     "text": [
      "Gurobi Optimizer version 10.0.3 build v10.0.3rc0 (win64)\n",
      "\n",
      "CPU model: AMD Ryzen 7 5800H with Radeon Graphics, instruction set [SSE2|AVX|AVX2]\n",
      "Thread count: 8 physical cores, 16 logical processors, using up to 16 threads\n",
      "\n",
      "Optimize a model with 23006 rows, 3936 columns and 474938 nonzeros\n",
      "Model fingerprint: 0x519570f0\n",
      "Variable types: 1344 continuous, 2592 integer (2592 binary)\n",
      "Coefficient statistics:\n",
      "  Matrix range     [5e-07, 4e+02]\n",
      "  Objective range  [8e+00, 1e+03]\n",
      "  Bounds range     [1e+00, 1e+00]\n",
      "  RHS range        [1e+00, 2e+03]\n"
     ]
    },
    {
     "name": "stderr",
     "output_type": "stream",
     "text": [
      "\n"
     ]
    },
    {
     "name": "stdout",
     "output_type": "stream",
     "text": [
      "Presolve removed 4129 rows and 30 columns\n",
      "Presolve time: 0.53s\n",
      "Presolved: 18877 rows, 3906 columns, 311915 nonzeros\n",
      "Variable types: 1368 continuous, 2538 integer (2538 binary)\n",
      "Found heuristic solution: objective 503205.70540\n",
      "\n",
      "Root relaxation: objective 3.063982e+05, 631 iterations, 0.03 seconds (0.05 work units)\n",
      "\n",
      "    Nodes    |    Current Node    |     Objective Bounds      |     Work\n",
      " Expl Unexpl |  Obj  Depth IntInf | Incumbent    BestBd   Gap | It/Node Time\n",
      "\n",
      "     0     0 306398.204    0   27 503205.705 306398.204  39.1%     -    0s\n",
      "H    0     0                    444581.02074 306398.204  31.1%     -    1s\n",
      "H    0     0                    310032.92493 306398.204  1.17%     -    1s\n",
      "     0     0 306647.916    0    9 310032.925 306647.916  1.09%     -    1s\n",
      "H    0     0                    306697.38131 306647.916  0.02%     -    1s\n",
      "     0     0 306658.903    0    1 306697.381 306658.903  0.01%     -    1s\n",
      "     0     0     cutoff    0      306697.381 306697.381  0.00%     -    1s\n",
      "\n",
      "Cutting planes:\n",
      "  Learned: 1\n",
      "  MIR: 14\n",
      "  Flow cover: 29\n",
      "  Relax-and-lift: 5\n",
      "\n",
      "Explored 1 nodes (1381 simplex iterations) in 1.40 seconds (2.02 work units)\n",
      "Thread count was 16 (of 16 available processors)\n",
      "\n",
      "Solution count 4: 306697 310033 444581 503206 \n",
      "\n",
      "Optimal solution found (tolerance 1.00e-04)\n",
      "Best objective 3.066973813141e+05, best bound 3.066973813141e+05, gap 0.0000%\n"
     ]
    },
    {
     "name": "stderr",
     "output_type": "stream",
     "text": [
      "100%|██████████| 57/57 [00:00<00:00, 572.46it/s]\n",
      "100%|██████████| 57/57 [00:00<00:00, 570.45it/s]\n",
      " 22%|██▏       | 17/78 [08:38<28:20, 27.88s/it]"
     ]
    },
    {
     "name": "stdout",
     "output_type": "stream",
     "text": [
      "Warning for adding constraints: zero or small (< 1e-13) coefficients, ignored\n"
     ]
    },
    {
     "name": "stderr",
     "output_type": "stream",
     "text": [
      "Adding constraints...: 100%|██████████| 24/24 [00:24<00:00,  1.03s/it]"
     ]
    },
    {
     "name": "stdout",
     "output_type": "stream",
     "text": [
      "Gurobi Optimizer version 10.0.3 build v10.0.3rc0 (win64)\n",
      "\n",
      "CPU model: AMD Ryzen 7 5800H with Radeon Graphics, instruction set [SSE2|AVX|AVX2]\n",
      "Thread count: 8 physical cores, 16 logical processors, using up to 16 threads\n",
      "\n",
      "Optimize a model with 23006 rows, 3936 columns and 474938 nonzeros\n",
      "Model fingerprint: 0x6e4bb5d9\n",
      "Variable types: 1344 continuous, 2592 integer (2592 binary)\n",
      "Coefficient statistics:\n",
      "  Matrix range     [5e-07, 4e+02]\n",
      "  Objective range  [8e+00, 1e+03]\n",
      "  Bounds range     [1e+00, 1e+00]\n",
      "  RHS range        [1e+00, 2e+03]\n"
     ]
    },
    {
     "name": "stderr",
     "output_type": "stream",
     "text": [
      "\n"
     ]
    },
    {
     "name": "stdout",
     "output_type": "stream",
     "text": [
      "Presolve removed 4198 rows and 30 columns\n",
      "Presolve time: 0.53s\n",
      "Presolved: 18808 rows, 3906 columns, 308634 nonzeros\n",
      "Variable types: 1368 continuous, 2538 integer (2538 binary)\n",
      "\n",
      "Root relaxation: objective 2.670913e+05, 315 iterations, 0.02 seconds (0.02 work units)\n",
      "\n",
      "    Nodes    |    Current Node    |     Objective Bounds      |     Work\n",
      " Expl Unexpl |  Obj  Depth IntInf | Incumbent    BestBd   Gap | It/Node Time\n",
      "\n",
      "     0     0 267091.270    0   43          - 267091.270      -     -    0s\n",
      "H    0     0                    267183.06703 267091.270  0.03%     -    1s\n",
      "     0     0     cutoff    0      267183.067 267183.067  0.00%     -    1s\n",
      "\n",
      "Cutting planes:\n",
      "  Gomory: 1\n",
      "  Cover: 1\n",
      "  MIR: 1\n",
      "  Flow cover: 1\n",
      "  Relax-and-lift: 2\n",
      "\n",
      "Explored 1 nodes (388 simplex iterations) in 1.16 seconds (1.68 work units)\n",
      "Thread count was 16 (of 16 available processors)\n",
      "\n",
      "Solution count 1: 267183 \n",
      "\n",
      "Optimal solution found (tolerance 1.00e-04)\n",
      "Best objective 2.671830670339e+05, best bound 2.671830670339e+05, gap 0.0000%\n"
     ]
    },
    {
     "name": "stderr",
     "output_type": "stream",
     "text": [
      "100%|██████████| 57/57 [00:00<00:00, 559.55it/s]\n",
      "100%|██████████| 57/57 [00:00<00:00, 533.36it/s]\n",
      " 23%|██▎       | 18/78 [09:05<27:28, 27.47s/it]"
     ]
    },
    {
     "name": "stdout",
     "output_type": "stream",
     "text": [
      "Warning for adding constraints: zero or small (< 1e-13) coefficients, ignored\n"
     ]
    },
    {
     "name": "stderr",
     "output_type": "stream",
     "text": [
      "Adding constraints...: 100%|██████████| 24/24 [00:26<00:00,  1.10s/it]"
     ]
    },
    {
     "name": "stdout",
     "output_type": "stream",
     "text": [
      "Gurobi Optimizer version 10.0.3 build v10.0.3rc0 (win64)\n",
      "\n",
      "CPU model: AMD Ryzen 7 5800H with Radeon Graphics, instruction set [SSE2|AVX|AVX2]\n",
      "Thread count: 8 physical cores, 16 logical processors, using up to 16 threads\n",
      "\n",
      "Optimize a model with 23006 rows, 3936 columns and 474938 nonzeros\n",
      "Model fingerprint: 0xfc08cec9\n",
      "Variable types: 1344 continuous, 2592 integer (2592 binary)\n",
      "Coefficient statistics:\n",
      "  Matrix range     [5e-07, 4e+02]\n",
      "  Objective range  [8e+00, 1e+03]\n",
      "  Bounds range     [1e+00, 1e+00]\n",
      "  RHS range        [6e-01, 1e+03]\n"
     ]
    },
    {
     "name": "stderr",
     "output_type": "stream",
     "text": [
      "\n"
     ]
    },
    {
     "name": "stdout",
     "output_type": "stream",
     "text": [
      "Presolve removed 4424 rows and 30 columns\n",
      "Presolve time: 0.52s\n",
      "Presolved: 18582 rows, 3906 columns, 298699 nonzeros\n",
      "Variable types: 1368 continuous, 2538 integer (2538 binary)\n",
      "Found heuristic solution: objective 2060870.5100\n",
      "\n",
      "Root relaxation: objective 1.978532e+05, 313 iterations, 0.02 seconds (0.02 work units)\n",
      "\n",
      "    Nodes    |    Current Node    |     Objective Bounds      |     Work\n",
      " Expl Unexpl |  Obj  Depth IntInf | Incumbent    BestBd   Gap | It/Node Time\n",
      "\n",
      "     0     0 197853.201    0   34 2060870.51 197853.201  90.4%     -    0s\n",
      "H    0     0                    198211.28333 197853.201  0.18%     -    0s\n",
      "     0     0 198028.399    0   37 198211.283 198028.399  0.09%     -    1s\n",
      "     0     0 198131.417    0   16 198211.283 198131.417  0.04%     -    1s\n",
      "     0     0     cutoff    0      198211.283 198211.283  0.00%     -    1s\n",
      "\n",
      "Cutting planes:\n",
      "  Gomory: 3\n",
      "  MIR: 5\n",
      "  Flow cover: 13\n",
      "\n",
      "Explored 1 nodes (933 simplex iterations) in 1.46 seconds (2.02 work units)\n",
      "Thread count was 16 (of 16 available processors)\n",
      "\n",
      "Solution count 2: 198211 2.06087e+06 \n",
      "\n",
      "Optimal solution found (tolerance 1.00e-04)\n",
      "Best objective 1.982112833309e+05, best bound 1.982112833309e+05, gap 0.0000%\n"
     ]
    },
    {
     "name": "stderr",
     "output_type": "stream",
     "text": [
      "100%|██████████| 57/57 [00:00<00:00, 589.02it/s]\n",
      "100%|██████████| 57/57 [00:00<00:00, 494.98it/s]\n",
      " 24%|██▍       | 19/78 [09:33<27:22, 27.83s/it]"
     ]
    },
    {
     "name": "stdout",
     "output_type": "stream",
     "text": [
      "Warning for adding constraints: zero or small (< 1e-13) coefficients, ignored\n"
     ]
    },
    {
     "name": "stderr",
     "output_type": "stream",
     "text": [
      "Adding constraints...: 100%|██████████| 24/24 [00:24<00:00,  1.03s/it]"
     ]
    },
    {
     "name": "stdout",
     "output_type": "stream",
     "text": [
      "Gurobi Optimizer version 10.0.3 build v10.0.3rc0 (win64)\n",
      "\n",
      "CPU model: AMD Ryzen 7 5800H with Radeon Graphics, instruction set [SSE2|AVX|AVX2]\n",
      "Thread count: 8 physical cores, 16 logical processors, using up to 16 threads\n",
      "\n",
      "Optimize a model with 23006 rows, 3936 columns and 474938 nonzeros\n",
      "Model fingerprint: 0xdf817fbf\n",
      "Variable types: 1344 continuous, 2592 integer (2592 binary)\n",
      "Coefficient statistics:\n",
      "  Matrix range     [5e-07, 4e+02]\n",
      "  Objective range  [8e+00, 1e+03]\n",
      "  Bounds range     [1e+00, 1e+00]\n",
      "  RHS range        [1e+00, 1e+03]\n",
      "Found heuristic solution: objective 1170735.1935\n"
     ]
    },
    {
     "name": "stderr",
     "output_type": "stream",
     "text": [
      "\n"
     ]
    },
    {
     "name": "stdout",
     "output_type": "stream",
     "text": [
      "Presolve removed 4417 rows and 30 columns\n",
      "Presolve time: 0.52s\n",
      "Presolved: 18589 rows, 3906 columns, 299256 nonzeros\n",
      "Variable types: 1368 continuous, 2538 integer (2538 binary)\n",
      "\n",
      "Root relaxation: objective 1.035345e+05, 136 iterations, 0.02 seconds (0.01 work units)\n",
      "\n",
      "    Nodes    |    Current Node    |     Objective Bounds      |     Work\n",
      " Expl Unexpl |  Obj  Depth IntInf | Incumbent    BestBd   Gap | It/Node Time\n",
      "\n",
      "H    0     0                    103534.52005    0.00000   100%     -    0s\n",
      "     0     0          -    0      103534.520 103534.520  0.00%     -    0s\n",
      "\n",
      "Explored 1 nodes (181 simplex iterations) in 0.66 seconds (1.19 work units)\n",
      "Thread count was 16 (of 16 available processors)\n",
      "\n",
      "Solution count 2: 103535 1.17074e+06 \n",
      "\n",
      "Optimal solution found (tolerance 1.00e-04)\n",
      "Best objective 1.035345200517e+05, best bound 1.035345200517e+05, gap 0.0000%\n"
     ]
    },
    {
     "name": "stderr",
     "output_type": "stream",
     "text": [
      "100%|██████████| 57/57 [00:00<00:00, 549.61it/s]\n",
      "100%|██████████| 57/57 [00:00<00:00, 571.26it/s]\n",
      " 26%|██▌       | 20/78 [09:59<26:22, 27.29s/it]"
     ]
    },
    {
     "name": "stdout",
     "output_type": "stream",
     "text": [
      "Warning for adding constraints: zero or small (< 1e-13) coefficients, ignored\n"
     ]
    },
    {
     "name": "stderr",
     "output_type": "stream",
     "text": [
      "Adding constraints...: 100%|██████████| 24/24 [00:24<00:00,  1.03s/it]"
     ]
    },
    {
     "name": "stdout",
     "output_type": "stream",
     "text": [
      "Gurobi Optimizer version 10.0.3 build v10.0.3rc0 (win64)\n",
      "\n",
      "CPU model: AMD Ryzen 7 5800H with Radeon Graphics, instruction set [SSE2|AVX|AVX2]\n",
      "Thread count: 8 physical cores, 16 logical processors, using up to 16 threads\n",
      "\n",
      "Optimize a model with 23006 rows, 3936 columns and 474938 nonzeros\n",
      "Model fingerprint: 0xa694d932\n",
      "Variable types: 1344 continuous, 2592 integer (2592 binary)\n",
      "Coefficient statistics:\n",
      "  Matrix range     [5e-07, 4e+02]\n",
      "  Objective range  [8e+00, 1e+03]\n",
      "  Bounds range     [1e+00, 1e+00]\n",
      "  RHS range        [1e+00, 1e+03]\n"
     ]
    },
    {
     "name": "stderr",
     "output_type": "stream",
     "text": [
      "\n"
     ]
    },
    {
     "name": "stdout",
     "output_type": "stream",
     "text": [
      "Presolve removed 4136 rows and 30 columns\n",
      "Presolve time: 0.55s\n",
      "Presolved: 18870 rows, 3906 columns, 311229 nonzeros\n",
      "Variable types: 1368 continuous, 2538 integer (2538 binary)\n",
      "\n",
      "Root relaxation: objective 1.220381e+05, 124 iterations, 0.02 seconds (0.01 work units)\n",
      "\n",
      "    Nodes    |    Current Node    |     Objective Bounds      |     Work\n",
      " Expl Unexpl |  Obj  Depth IntInf | Incumbent    BestBd   Gap | It/Node Time\n",
      "\n",
      "H    0     0                    122038.09130    0.00000   100%     -    0s\n",
      "     0     0          -    0      122038.091 122038.091  0.00%     -    0s\n",
      "\n",
      "Explored 1 nodes (173 simplex iterations) in 0.75 seconds (1.34 work units)\n",
      "Thread count was 16 (of 16 available processors)\n",
      "\n",
      "Solution count 1: 122038 \n",
      "\n",
      "Optimal solution found (tolerance 1.00e-04)\n",
      "Best objective 1.220380913039e+05, best bound 1.220380913039e+05, gap 0.0000%\n"
     ]
    },
    {
     "name": "stderr",
     "output_type": "stream",
     "text": [
      "100%|██████████| 57/57 [00:00<00:00, 554.90it/s]\n",
      "100%|██████████| 57/57 [00:00<00:00, 524.49it/s]\n",
      " 27%|██▋       | 21/78 [10:26<25:39, 27.00s/it]"
     ]
    },
    {
     "name": "stdout",
     "output_type": "stream",
     "text": [
      "Warning for adding constraints: zero or small (< 1e-13) coefficients, ignored\n"
     ]
    },
    {
     "name": "stderr",
     "output_type": "stream",
     "text": [
      "Adding constraints...: 100%|██████████| 24/24 [00:26<00:00,  1.12s/it]"
     ]
    },
    {
     "name": "stdout",
     "output_type": "stream",
     "text": [
      "Gurobi Optimizer version 10.0.3 build v10.0.3rc0 (win64)\n",
      "\n",
      "CPU model: AMD Ryzen 7 5800H with Radeon Graphics, instruction set [SSE2|AVX|AVX2]\n",
      "Thread count: 8 physical cores, 16 logical processors, using up to 16 threads\n",
      "\n",
      "Optimize a model with 23006 rows, 3936 columns and 474938 nonzeros\n",
      "Model fingerprint: 0x0345b27c\n",
      "Variable types: 1344 continuous, 2592 integer (2592 binary)\n",
      "Coefficient statistics:\n",
      "  Matrix range     [5e-07, 4e+02]\n",
      "  Objective range  [8e+00, 1e+03]\n",
      "  Bounds range     [1e+00, 1e+00]\n",
      "  RHS range        [2e-01, 2e+03]\n"
     ]
    },
    {
     "name": "stderr",
     "output_type": "stream",
     "text": [
      "\n"
     ]
    },
    {
     "name": "stdout",
     "output_type": "stream",
     "text": [
      "Presolve removed 4288 rows and 30 columns\n",
      "Presolve time: 0.53s\n",
      "Presolved: 18718 rows, 3906 columns, 305639 nonzeros\n",
      "Variable types: 1368 continuous, 2538 integer (2538 binary)\n",
      "\n",
      "Root relaxation: objective 4.946629e+05, 1787 iterations, 0.10 seconds (0.16 work units)\n",
      "\n",
      "    Nodes    |    Current Node    |     Objective Bounds      |     Work\n",
      " Expl Unexpl |  Obj  Depth IntInf | Incumbent    BestBd   Gap | It/Node Time\n",
      "\n",
      "     0     0 494662.921    0   40          - 494662.921      -     -    0s\n",
      "H    0     0                    494890.26983 494662.921  0.05%     -    0s\n",
      "     0     0 494781.784    0   38 494890.270 494781.784  0.02%     -    1s\n",
      "     0     0 494799.114    0   31 494890.270 494799.114  0.02%     -    1s\n",
      "H    0     0                    494864.13044 494799.114  0.01%     -    1s\n",
      "     0     0     cutoff    0      494864.130 494864.130  0.00%     -    1s\n",
      "\n",
      "Cutting planes:\n",
      "  Cover: 24\n",
      "  Implied bound: 2\n",
      "  MIR: 14\n",
      "  StrongCG: 1\n",
      "  Flow cover: 60\n",
      "  Flow path: 2\n",
      "  RLT: 3\n",
      "  Relax-and-lift: 2\n",
      "\n",
      "Explored 1 nodes (2512 simplex iterations) in 1.68 seconds (2.47 work units)\n",
      "Thread count was 16 (of 16 available processors)\n",
      "\n",
      "Solution count 2: 494864 494890 \n",
      "\n",
      "Optimal solution found (tolerance 1.00e-04)\n",
      "Best objective 4.948641304434e+05, best bound 4.948641304434e+05, gap 0.0000%\n"
     ]
    },
    {
     "name": "stderr",
     "output_type": "stream",
     "text": [
      "100%|██████████| 57/57 [00:00<00:00, 573.00it/s]\n",
      "100%|██████████| 57/57 [00:00<00:00, 570.10it/s]\n",
      " 28%|██▊       | 22/78 [10:55<25:51, 27.70s/it]"
     ]
    },
    {
     "name": "stdout",
     "output_type": "stream",
     "text": [
      "Warning for adding constraints: zero or small (< 1e-13) coefficients, ignored\n"
     ]
    },
    {
     "name": "stderr",
     "output_type": "stream",
     "text": [
      "Adding constraints...: 100%|██████████| 24/24 [00:24<00:00,  1.02s/it]"
     ]
    },
    {
     "name": "stdout",
     "output_type": "stream",
     "text": [
      "Gurobi Optimizer version 10.0.3 build v10.0.3rc0 (win64)\n",
      "\n",
      "CPU model: AMD Ryzen 7 5800H with Radeon Graphics, instruction set [SSE2|AVX|AVX2]\n",
      "Thread count: 8 physical cores, 16 logical processors, using up to 16 threads\n",
      "\n",
      "Optimize a model with 23006 rows, 3936 columns and 474938 nonzeros\n",
      "Model fingerprint: 0xde1a250b\n",
      "Variable types: 1344 continuous, 2592 integer (2592 binary)\n",
      "Coefficient statistics:\n",
      "  Matrix range     [5e-07, 4e+02]\n",
      "  Objective range  [8e+00, 1e+03]\n",
      "  Bounds range     [1e+00, 1e+00]\n",
      "  RHS range        [3e-01, 3e+03]\n"
     ]
    },
    {
     "name": "stderr",
     "output_type": "stream",
     "text": [
      "\n"
     ]
    },
    {
     "name": "stdout",
     "output_type": "stream",
     "text": [
      "Presolve removed 4225 rows and 30 columns\n",
      "Presolve time: 0.51s\n",
      "Presolved: 18781 rows, 3906 columns, 308220 nonzeros\n",
      "Variable types: 1368 continuous, 2538 integer (2538 binary)\n",
      "\n",
      "Root relaxation: objective 6.281726e+05, 1412 iterations, 0.09 seconds (0.13 work units)\n",
      "\n",
      "    Nodes    |    Current Node    |     Objective Bounds      |     Work\n",
      " Expl Unexpl |  Obj  Depth IntInf | Incumbent    BestBd   Gap | It/Node Time\n",
      "\n",
      "     0     0 628172.586    0   42          - 628172.586      -     -    0s\n",
      "H    0     0                    1423612.2759 628172.586  55.9%     -    1s\n",
      "H    0     0                    802255.81275 628172.586  21.7%     -    1s\n",
      "     0     0 628179.343    0   52 802255.813 628179.343  21.7%     -    1s\n",
      "H    0     0                    628305.46999 628179.343  0.02%     -    1s\n",
      "     0     0 628179.343    0   52 628305.470 628179.343  0.02%     -    1s\n",
      "H    0     0                    628277.96958 628179.343  0.02%     -    1s\n",
      "     0     0 628179.393    0   90 628277.970 628179.393  0.02%     -    1s\n",
      "     0     0 628179.393    0    8 628277.970 628179.393  0.02%     -    1s\n",
      "     0     0 628179.393    0   23 628277.970 628179.393  0.02%     -    1s\n",
      "     0     0     cutoff    0      628277.970 628277.970  0.00%     -    1s\n",
      "\n",
      "Cutting planes:\n",
      "  Implied bound: 12\n",
      "  MIR: 3\n",
      "  Flow cover: 9\n",
      "  RLT: 3\n",
      "\n",
      "Explored 1 nodes (4213 simplex iterations) in 1.87 seconds (2.71 work units)\n",
      "Thread count was 16 (of 16 available processors)\n",
      "\n",
      "Solution count 4: 628278 628305 802256 1.42361e+06 \n",
      "\n",
      "Optimal solution found (tolerance 1.00e-04)\n",
      "Best objective 6.282779695825e+05, best bound 6.282779695825e+05, gap 0.0000%\n"
     ]
    },
    {
     "name": "stderr",
     "output_type": "stream",
     "text": [
      "100%|██████████| 57/57 [00:00<00:00, 499.99it/s]\n",
      "100%|██████████| 57/57 [00:00<00:00, 572.37it/s]\n",
      " 29%|██▉       | 23/78 [11:22<25:15, 27.56s/it]"
     ]
    },
    {
     "name": "stdout",
     "output_type": "stream",
     "text": [
      "Warning for adding constraints: zero or small (< 1e-13) coefficients, ignored\n"
     ]
    },
    {
     "name": "stderr",
     "output_type": "stream",
     "text": [
      "Adding constraints...: 100%|██████████| 24/24 [00:24<00:00,  1.03s/it]"
     ]
    },
    {
     "name": "stdout",
     "output_type": "stream",
     "text": [
      "Gurobi Optimizer version 10.0.3 build v10.0.3rc0 (win64)\n",
      "\n",
      "CPU model: AMD Ryzen 7 5800H with Radeon Graphics, instruction set [SSE2|AVX|AVX2]\n",
      "Thread count: 8 physical cores, 16 logical processors, using up to 16 threads\n",
      "\n",
      "Optimize a model with 23006 rows, 3936 columns and 474938 nonzeros\n",
      "Model fingerprint: 0xadbe6f81\n",
      "Variable types: 1344 continuous, 2592 integer (2592 binary)\n",
      "Coefficient statistics:\n",
      "  Matrix range     [5e-07, 4e+02]\n",
      "  Objective range  [8e+00, 1e+03]\n",
      "  Bounds range     [1e+00, 1e+00]\n",
      "  RHS range        [1e+00, 2e+03]\n"
     ]
    },
    {
     "name": "stderr",
     "output_type": "stream",
     "text": [
      "\n"
     ]
    },
    {
     "name": "stdout",
     "output_type": "stream",
     "text": [
      "Presolve removed 4194 rows and 30 columns\n",
      "Presolve time: 0.53s\n",
      "Presolved: 18812 rows, 3906 columns, 310049 nonzeros\n",
      "Variable types: 1368 continuous, 2538 integer (2538 binary)\n",
      "\n",
      "Root relaxation: objective 3.166264e+05, 803 iterations, 0.06 seconds (0.15 work units)\n",
      "\n",
      "    Nodes    |    Current Node    |     Objective Bounds      |     Work\n",
      " Expl Unexpl |  Obj  Depth IntInf | Incumbent    BestBd   Gap | It/Node Time\n",
      "\n",
      "     0     0 316626.446    0   50          - 316626.446      -     -    0s\n",
      "H    0     0                    1634072.3996 316626.446  80.6%     -    1s\n",
      "H    0     0                    397602.29498 316626.446  20.4%     -    1s\n",
      "H    0     0                    326745.34896 316827.759  3.04%     -    1s\n",
      "     0     0 316827.759    0   72 326745.349 316827.759  3.04%     -    1s\n",
      "H    0     0                    317999.83564 316827.759  0.37%     -    1s\n",
      "H    0     0                    317989.83564 316827.759  0.37%     -    1s\n",
      "H    0     0                    317691.98564 316843.294  0.27%     -    1s\n",
      "     0     0 316970.495    0   95 317691.986 316970.495  0.23%     -    2s\n",
      "     0     0 316982.454    0   95 317691.986 316982.454  0.22%     -    2s\n",
      "     0     0 316983.026    0   99 317691.986 316983.026  0.22%     -    2s\n",
      "     0     0 316983.026    0   99 317691.986 316983.026  0.22%     -    2s\n",
      "     0     0 317277.017    0  128 317691.986 317277.017  0.13%     -    2s\n",
      "H    0     0                    317665.14834 317277.017  0.12%     -    3s\n",
      "     0     0 317284.305    0  135 317665.148 317284.305  0.12%     -    3s\n",
      "     0     0 317284.692    0  135 317665.148 317284.692  0.12%     -    3s\n",
      "     0     0 317285.645    0  138 317665.148 317285.645  0.12%     -    3s\n",
      "     0     0 317285.713    0  135 317665.148 317285.713  0.12%     -    3s\n",
      "     0     0 317349.739    0  113 317665.148 317349.739  0.10%     -    3s\n",
      "     0     0 317375.701    0  128 317665.148 317375.701  0.09%     -    3s\n",
      "     0     0 317375.921    0  122 317665.148 317375.921  0.09%     -    4s\n",
      "H    0     0                    317647.54596 317376.168  0.09%     -    4s\n",
      "     0     0 317376.168    0  130 317647.546 317376.168  0.09%     -    4s\n",
      "     0     0 317376.242    0  131 317647.546 317376.242  0.09%     -    4s\n",
      "     0     0 317411.614    0  131 317647.546 317411.614  0.07%     -    4s\n",
      "     0     0 317413.922    0  141 317647.546 317413.922  0.07%     -    4s\n",
      "     0     0 317414.148    0  131 317647.546 317414.148  0.07%     -    4s\n",
      "     0     0 317417.191    0  122 317647.546 317417.191  0.07%     -    5s\n",
      "     0     0 317418.815    0  136 317647.546 317418.815  0.07%     -    5s\n",
      "     0     0 317418.862    0  136 317647.546 317418.862  0.07%     -    5s\n",
      "     0     0 317420.882    0  122 317647.546 317420.882  0.07%     -    5s\n",
      "     0     0 317421.641    0  133 317647.546 317421.641  0.07%     -    5s\n",
      "     0     0 317421.751    0  122 317647.546 317421.751  0.07%     -    5s\n",
      "     0     0 317421.773    0  133 317647.546 317421.773  0.07%     -    5s\n",
      "     0     0 317428.166    0  112 317647.546 317428.166  0.07%     -    6s\n",
      "     0     0 317433.093    0  125 317647.546 317433.093  0.07%     -    6s\n",
      "     0     0 317434.695    0  140 317647.546 317434.695  0.07%     -    6s\n",
      "     0     0 317434.824    0  140 317647.546 317434.824  0.07%     -    6s\n",
      "     0     0 317434.891    0  138 317647.546 317434.891  0.07%     -    6s\n",
      "     0     0 317435.725    0  124 317647.546 317435.725  0.07%     -    7s\n",
      "     0     0 317435.843    0  124 317647.546 317435.843  0.07%     -    7s\n",
      "     0     0 317436.117    0  124 317647.546 317436.117  0.07%     -    7s\n",
      "     0     0 317436.251    0  132 317647.546 317436.251  0.07%     -    7s\n",
      "     0     0 317436.311    0  145 317647.546 317436.311  0.07%     -    7s\n",
      "     0     0 317438.264    0  136 317647.546 317438.264  0.07%     -    7s\n",
      "     0     0 317438.557    0  148 317647.546 317438.557  0.07%     -    7s\n",
      "     0     0 317442.030    0  146 317647.546 317442.030  0.06%     -    8s\n",
      "     0     0 317445.221    0  146 317647.546 317445.221  0.06%     -    8s\n",
      "     0     0 317474.202    0  150 317647.546 317474.202  0.05%     -    8s\n",
      "     0     0 317480.528    0  151 317647.546 317480.528  0.05%     -    8s\n",
      "     0     0 317487.384    0  151 317647.546 317487.384  0.05%     -    8s\n",
      "     0     0 317501.718    0  146 317647.546 317501.718  0.05%     -    9s\n",
      "     0     0 317504.653    0  135 317647.546 317504.653  0.04%     -    9s\n",
      "     0     0 317507.277    0  135 317647.546 317507.277  0.04%     -    9s\n",
      "     0     0 317515.584    0  135 317647.546 317515.584  0.04%     -    9s\n",
      "     0     0 317543.239    0  142 317647.546 317543.239  0.03%     -    9s\n",
      "     0     0 317548.926    0  142 317647.546 317548.926  0.03%     -    9s\n",
      "     0     0 317587.004    0  138 317647.546 317587.004  0.02%     -   10s\n",
      "     0     0 317630.481    0  138 317647.546 317630.481  0.01%     -   10s\n",
      "\n",
      "Cutting planes:\n",
      "  Gomory: 1\n",
      "  MIR: 31\n",
      "  Flow cover: 43\n",
      "  Flow path: 1\n",
      "  Inf proof: 1\n",
      "  Zero half: 3\n",
      "  RLT: 26\n",
      "\n",
      "Explored 1 nodes (4702 simplex iterations) in 10.28 seconds (11.23 work units)\n",
      "Thread count was 16 (of 16 available processors)\n",
      "\n",
      "Solution count 8: 317648 317665 317692 ... 1.63407e+06\n",
      "\n",
      "Optimal solution found (tolerance 1.00e-04)\n",
      "Best objective 3.176475459641e+05, best bound 3.176304807864e+05, gap 0.0054%\n"
     ]
    },
    {
     "name": "stderr",
     "output_type": "stream",
     "text": [
      "100%|██████████| 57/57 [00:00<00:00, 555.97it/s]\n",
      "100%|██████████| 57/57 [00:00<00:00, 548.26it/s]\n",
      " 31%|███       | 24/78 [11:58<26:59, 30.00s/it]"
     ]
    },
    {
     "name": "stdout",
     "output_type": "stream",
     "text": [
      "Warning for adding constraints: zero or small (< 1e-13) coefficients, ignored\n"
     ]
    },
    {
     "name": "stderr",
     "output_type": "stream",
     "text": [
      "Adding constraints...: 100%|██████████| 24/24 [00:26<00:00,  1.12s/it]"
     ]
    },
    {
     "name": "stdout",
     "output_type": "stream",
     "text": [
      "Gurobi Optimizer version 10.0.3 build v10.0.3rc0 (win64)\n",
      "\n",
      "CPU model: AMD Ryzen 7 5800H with Radeon Graphics, instruction set [SSE2|AVX|AVX2]\n",
      "Thread count: 8 physical cores, 16 logical processors, using up to 16 threads\n",
      "\n",
      "Optimize a model with 23006 rows, 3936 columns and 474938 nonzeros\n",
      "Model fingerprint: 0xdfda91f2\n",
      "Variable types: 1344 continuous, 2592 integer (2592 binary)\n",
      "Coefficient statistics:\n",
      "  Matrix range     [5e-07, 4e+02]\n",
      "  Objective range  [8e+00, 1e+03]\n",
      "  Bounds range     [1e+00, 1e+00]\n",
      "  RHS range        [1e+00, 1e+03]\n"
     ]
    },
    {
     "name": "stderr",
     "output_type": "stream",
     "text": [
      "\n"
     ]
    },
    {
     "name": "stdout",
     "output_type": "stream",
     "text": [
      "Presolve removed 4338 rows and 30 columns\n",
      "Presolve time: 0.53s\n",
      "Presolved: 18668 rows, 3906 columns, 302622 nonzeros\n",
      "Variable types: 1368 continuous, 2538 integer (2538 binary)\n",
      "Found heuristic solution: objective 1744719.6790\n",
      "\n",
      "Root relaxation: objective 1.956891e+05, 412 iterations, 0.02 seconds (0.03 work units)\n",
      "\n",
      "    Nodes    |    Current Node    |     Objective Bounds      |     Work\n",
      " Expl Unexpl |  Obj  Depth IntInf | Incumbent    BestBd   Gap | It/Node Time\n",
      "\n",
      "     0     0 195689.063    0   31 1744719.68 195689.063  88.8%     -    0s\n",
      "H    0     0                    195966.70877 195689.063  0.14%     -    0s\n",
      "     0     0 195947.744    0   14 195966.709 195947.744  0.01%     -    1s\n",
      "\n",
      "Cutting planes:\n",
      "  Gomory: 5\n",
      "  Cover: 11\n",
      "  MIR: 7\n",
      "  Flow cover: 28\n",
      "\n",
      "Explored 1 nodes (925 simplex iterations) in 1.14 seconds (1.72 work units)\n",
      "Thread count was 16 (of 16 available processors)\n",
      "\n",
      "Solution count 2: 195967 1.74472e+06 \n",
      "\n",
      "Optimal solution found (tolerance 1.00e-04)\n",
      "Best objective 1.959667087742e+05, best bound 1.959477444374e+05, gap 0.0097%\n"
     ]
    },
    {
     "name": "stderr",
     "output_type": "stream",
     "text": [
      "100%|██████████| 57/57 [00:00<00:00, 576.02it/s]\n",
      "100%|██████████| 57/57 [00:00<00:00, 545.85it/s]\n",
      " 32%|███▏      | 25/78 [12:27<26:12, 29.67s/it]"
     ]
    },
    {
     "name": "stdout",
     "output_type": "stream",
     "text": [
      "Warning for adding constraints: zero or small (< 1e-13) coefficients, ignored\n"
     ]
    },
    {
     "name": "stderr",
     "output_type": "stream",
     "text": [
      "Adding constraints...: 100%|██████████| 24/24 [00:24<00:00,  1.02s/it]"
     ]
    },
    {
     "name": "stdout",
     "output_type": "stream",
     "text": [
      "Gurobi Optimizer version 10.0.3 build v10.0.3rc0 (win64)\n",
      "\n",
      "CPU model: AMD Ryzen 7 5800H with Radeon Graphics, instruction set [SSE2|AVX|AVX2]\n",
      "Thread count: 8 physical cores, 16 logical processors, using up to 16 threads\n",
      "\n",
      "Optimize a model with 23006 rows, 3936 columns and 474938 nonzeros\n",
      "Model fingerprint: 0xac7e9a16\n",
      "Variable types: 1344 continuous, 2592 integer (2592 binary)\n",
      "Coefficient statistics:\n",
      "  Matrix range     [5e-07, 4e+02]\n",
      "  Objective range  [8e+00, 1e+03]\n",
      "  Bounds range     [1e+00, 1e+00]\n",
      "  RHS range        [2e-02, 2e+03]\n"
     ]
    },
    {
     "name": "stderr",
     "output_type": "stream",
     "text": [
      "\n"
     ]
    },
    {
     "name": "stdout",
     "output_type": "stream",
     "text": [
      "Presolve removed 4152 rows and 30 columns\n",
      "Presolve time: 0.54s\n",
      "Presolved: 18854 rows, 3906 columns, 310590 nonzeros\n",
      "Variable types: 1368 continuous, 2538 integer (2538 binary)\n",
      "Found heuristic solution: objective 494399.53268\n",
      "\n",
      "Root relaxation: objective 3.405196e+05, 425 iterations, 0.02 seconds (0.03 work units)\n",
      "\n",
      "    Nodes    |    Current Node    |     Objective Bounds      |     Work\n",
      " Expl Unexpl |  Obj  Depth IntInf | Incumbent    BestBd   Gap | It/Node Time\n",
      "\n",
      "     0     0 340519.552    0   13 494399.533 340519.552  31.1%     -    0s\n",
      "H    0     0                    385854.90805 340519.552  11.7%     -    1s\n",
      "     0     0 340561.377    0   15 385854.908 340561.377  11.7%     -    1s\n",
      "H    0     0                    340624.71292 340561.377  0.02%     -    1s\n",
      "H    0     0                    340600.37400 340561.377  0.01%     -    1s\n",
      "\n",
      "Cutting planes:\n",
      "  MIR: 1\n",
      "  Flow cover: 2\n",
      "\n",
      "Explored 1 nodes (990 simplex iterations) in 1.40 seconds (2.16 work units)\n",
      "Thread count was 16 (of 16 available processors)\n",
      "\n",
      "Solution count 4: 340600 340625 385855 494400 \n",
      "\n",
      "Optimal solution found (tolerance 1.00e-04)\n",
      "Best objective 3.406003739988e+05, best bound 3.406003739988e+05, gap 0.0000%\n"
     ]
    },
    {
     "name": "stderr",
     "output_type": "stream",
     "text": [
      "100%|██████████| 57/57 [00:00<00:00, 487.35it/s]\n",
      "100%|██████████| 57/57 [00:00<00:00, 558.65it/s]\n",
      " 33%|███▎      | 26/78 [12:53<24:55, 28.77s/it]"
     ]
    },
    {
     "name": "stdout",
     "output_type": "stream",
     "text": [
      "Warning for adding constraints: zero or small (< 1e-13) coefficients, ignored\n"
     ]
    },
    {
     "name": "stderr",
     "output_type": "stream",
     "text": [
      "Adding constraints...: 100%|██████████| 24/24 [00:24<00:00,  1.03s/it]"
     ]
    },
    {
     "name": "stdout",
     "output_type": "stream",
     "text": [
      "Gurobi Optimizer version 10.0.3 build v10.0.3rc0 (win64)\n",
      "\n",
      "CPU model: AMD Ryzen 7 5800H with Radeon Graphics, instruction set [SSE2|AVX|AVX2]\n",
      "Thread count: 8 physical cores, 16 logical processors, using up to 16 threads\n",
      "\n",
      "Optimize a model with 23006 rows, 3936 columns and 474938 nonzeros\n",
      "Model fingerprint: 0x46d11752\n",
      "Variable types: 1344 continuous, 2592 integer (2592 binary)\n",
      "Coefficient statistics:\n",
      "  Matrix range     [5e-07, 4e+02]\n",
      "  Objective range  [8e+00, 1e+03]\n",
      "  Bounds range     [1e+00, 1e+00]\n",
      "  RHS range        [4e-01, 2e+03]\n"
     ]
    },
    {
     "name": "stderr",
     "output_type": "stream",
     "text": [
      "\n"
     ]
    },
    {
     "name": "stdout",
     "output_type": "stream",
     "text": [
      "Presolve removed 4212 rows and 30 columns\n",
      "Presolve time: 0.53s\n",
      "Presolved: 18794 rows, 3906 columns, 308334 nonzeros\n",
      "Variable types: 1368 continuous, 2538 integer (2538 binary)\n",
      "\n",
      "Root relaxation: objective 5.165124e+05, 1660 iterations, 0.08 seconds (0.15 work units)\n",
      "\n",
      "    Nodes    |    Current Node    |     Objective Bounds      |     Work\n",
      " Expl Unexpl |  Obj  Depth IntInf | Incumbent    BestBd   Gap | It/Node Time\n",
      "\n",
      "     0     0 516512.437    0   45          - 516512.437      -     -    0s\n",
      "H    0     0                    516685.34144 516512.437  0.03%     -    0s\n",
      "     0     0 516528.178    0   21 516685.341 516528.178  0.03%     -    1s\n",
      "     0     0 516528.178    0   42 516685.341 516528.178  0.03%     -    1s\n",
      "     0     0 516528.178    0   20 516685.341 516528.178  0.03%     -    1s\n",
      "H    0     0                    516629.58144 516528.178  0.02%     -    1s\n",
      "     0     0 516581.335    0   34 516629.581 516581.335  0.01%     -    1s\n",
      "\n",
      "Cutting planes:\n",
      "  Gomory: 9\n",
      "  Lift-and-project: 3\n",
      "  Cover: 15\n",
      "  Implied bound: 7\n",
      "  MIR: 43\n",
      "  Flow cover: 85\n",
      "  GUB cover: 2\n",
      "  RLT: 1\n",
      "\n",
      "Explored 1 nodes (4568 simplex iterations) in 1.63 seconds (2.41 work units)\n",
      "Thread count was 16 (of 16 available processors)\n",
      "\n",
      "Solution count 2: 516630 516685 \n",
      "\n",
      "Optimal solution found (tolerance 1.00e-04)\n",
      "Best objective 5.166295814372e+05, best bound 5.165813346124e+05, gap 0.0093%\n"
     ]
    },
    {
     "name": "stderr",
     "output_type": "stream",
     "text": [
      "100%|██████████| 57/57 [00:00<00:00, 584.00it/s]\n",
      "100%|██████████| 57/57 [00:00<00:00, 518.24it/s]\n",
      " 35%|███▍      | 27/78 [13:21<24:00, 28.25s/it]"
     ]
    },
    {
     "name": "stdout",
     "output_type": "stream",
     "text": [
      "Warning for adding constraints: zero or small (< 1e-13) coefficients, ignored\n"
     ]
    },
    {
     "name": "stderr",
     "output_type": "stream",
     "text": [
      "Adding constraints...: 100%|██████████| 24/24 [00:24<00:00,  1.03s/it]"
     ]
    },
    {
     "name": "stdout",
     "output_type": "stream",
     "text": [
      "Gurobi Optimizer version 10.0.3 build v10.0.3rc0 (win64)\n",
      "\n",
      "CPU model: AMD Ryzen 7 5800H with Radeon Graphics, instruction set [SSE2|AVX|AVX2]\n",
      "Thread count: 8 physical cores, 16 logical processors, using up to 16 threads\n",
      "\n",
      "Optimize a model with 23006 rows, 3936 columns and 474938 nonzeros\n",
      "Model fingerprint: 0x360d19f9\n",
      "Variable types: 1344 continuous, 2592 integer (2592 binary)\n",
      "Coefficient statistics:\n",
      "  Matrix range     [5e-07, 4e+02]\n",
      "  Objective range  [8e+00, 1e+03]\n",
      "  Bounds range     [1e+00, 1e+00]\n",
      "  RHS range        [2e-01, 3e+03]\n"
     ]
    },
    {
     "name": "stderr",
     "output_type": "stream",
     "text": [
      "\n"
     ]
    },
    {
     "name": "stdout",
     "output_type": "stream",
     "text": [
      "Presolve removed 4211 rows and 30 columns\n",
      "Presolve time: 0.57s\n",
      "Presolved: 18795 rows, 3906 columns, 308415 nonzeros\n",
      "Variable types: 1368 continuous, 2538 integer (2538 binary)\n",
      "\n",
      "Root relaxation: objective 5.937316e+05, 1674 iterations, 0.10 seconds (0.17 work units)\n",
      "\n",
      "    Nodes    |    Current Node    |     Objective Bounds      |     Work\n",
      " Expl Unexpl |  Obj  Depth IntInf | Incumbent    BestBd   Gap | It/Node Time\n",
      "\n",
      "     0     0 593731.633    0   42          - 593731.633      -     -    0s\n",
      "H    0     0                    2020935.3620 593731.633  70.6%     -    1s\n",
      "H    0     0                    649894.23943 593731.633  8.64%     -    1s\n",
      "H    0     0                    593855.60588 593747.698  0.02%     -    1s\n",
      "     0     0 593747.698    0   59 593855.606 593747.698  0.02%     -    1s\n",
      "     0     0     cutoff    0      593855.606 593855.606  0.00%     -    1s\n",
      "\n",
      "Cutting planes:\n",
      "  Gomory: 1\n",
      "  Lift-and-project: 3\n",
      "  Cover: 20\n",
      "  Implied bound: 3\n",
      "  MIR: 60\n",
      "  Flow cover: 84\n",
      "  Flow path: 8\n",
      "  Relax-and-lift: 1\n",
      "\n",
      "Explored 1 nodes (3428 simplex iterations) in 1.82 seconds (2.76 work units)\n",
      "Thread count was 16 (of 16 available processors)\n",
      "\n",
      "Solution count 3: 593856 649894 2.02094e+06 \n",
      "\n",
      "Optimal solution found (tolerance 1.00e-04)\n",
      "Best objective 5.938556058768e+05, best bound 5.938556058768e+05, gap 0.0000%\n"
     ]
    },
    {
     "name": "stderr",
     "output_type": "stream",
     "text": [
      "100%|██████████| 57/57 [00:00<00:00, 553.20it/s]\n",
      "100%|██████████| 57/57 [00:00<00:00, 573.77it/s]\n",
      " 36%|███▌      | 28/78 [13:48<23:17, 27.95s/it]"
     ]
    },
    {
     "name": "stdout",
     "output_type": "stream",
     "text": [
      "Warning for adding constraints: zero or small (< 1e-13) coefficients, ignored\n"
     ]
    },
    {
     "name": "stderr",
     "output_type": "stream",
     "text": [
      "Adding constraints...: 100%|██████████| 24/24 [00:27<00:00,  1.15s/it]"
     ]
    },
    {
     "name": "stdout",
     "output_type": "stream",
     "text": [
      "Gurobi Optimizer version 10.0.3 build v10.0.3rc0 (win64)\n",
      "\n",
      "CPU model: AMD Ryzen 7 5800H with Radeon Graphics, instruction set [SSE2|AVX|AVX2]\n",
      "Thread count: 8 physical cores, 16 logical processors, using up to 16 threads\n",
      "\n",
      "Optimize a model with 23006 rows, 3936 columns and 474938 nonzeros\n",
      "Model fingerprint: 0xcf8a68df\n",
      "Variable types: 1344 continuous, 2592 integer (2592 binary)\n",
      "Coefficient statistics:\n",
      "  Matrix range     [5e-07, 4e+02]\n",
      "  Objective range  [8e+00, 1e+03]\n",
      "  Bounds range     [1e+00, 1e+00]\n",
      "  RHS range        [2e-01, 2e+03]\n"
     ]
    },
    {
     "name": "stderr",
     "output_type": "stream",
     "text": [
      "\n"
     ]
    },
    {
     "name": "stdout",
     "output_type": "stream",
     "text": [
      "Presolve removed 4154 rows and 30 columns\n",
      "Presolve time: 0.53s\n",
      "Presolved: 18852 rows, 3906 columns, 310818 nonzeros\n",
      "Variable types: 1368 continuous, 2538 integer (2538 binary)\n",
      "\n",
      "Root relaxation: objective 4.203455e+05, 817 iterations, 0.03 seconds (0.04 work units)\n",
      "\n",
      "    Nodes    |    Current Node    |     Objective Bounds      |     Work\n",
      " Expl Unexpl |  Obj  Depth IntInf | Incumbent    BestBd   Gap | It/Node Time\n",
      "\n",
      "     0     0 420345.472    0   43          - 420345.472      -     -    0s\n",
      "H    0     0                    1315848.9046 420345.472  68.1%     -    1s\n",
      "H    0     0                    427331.67429 420345.472  1.63%     -    1s\n",
      "     0     0 420432.817    0   65 427331.674 420432.817  1.61%     -    1s\n",
      "H    0     0                    420873.04595 420432.817  0.10%     -    1s\n",
      "H    0     0                    420683.03095 420432.817  0.06%     -    1s\n",
      "     0     0 420617.236    0   97 420683.031 420617.236  0.02%     -    2s\n",
      "     0     0 420617.345    0  101 420683.031 420617.345  0.02%     -    2s\n",
      "     0     0 420630.274    0   41 420683.031 420630.274  0.01%     -    2s\n",
      "     0     0 420683.031    0   41 420683.031 420683.031  0.00%     -    2s\n",
      "\n",
      "Cutting planes:\n",
      "  Gomory: 3\n",
      "  MIR: 7\n",
      "  Flow cover: 22\n",
      "\n",
      "Explored 1 nodes (2569 simplex iterations) in 2.47 seconds (3.06 work units)\n",
      "Thread count was 16 (of 16 available processors)\n",
      "\n",
      "Solution count 4: 420683 420873 427332 1.31585e+06 \n",
      "\n",
      "Optimal solution found (tolerance 1.00e-04)\n",
      "Best objective 4.206830309526e+05, best bound 4.206830309526e+05, gap 0.0000%\n"
     ]
    },
    {
     "name": "stderr",
     "output_type": "stream",
     "text": [
      "100%|██████████| 57/57 [00:00<00:00, 556.38it/s]\n",
      "100%|██████████| 57/57 [00:00<00:00, 537.75it/s]\n",
      " 37%|███▋      | 29/78 [14:19<23:30, 28.79s/it]"
     ]
    },
    {
     "name": "stdout",
     "output_type": "stream",
     "text": [
      "Warning for adding constraints: zero or small (< 1e-13) coefficients, ignored\n"
     ]
    },
    {
     "name": "stderr",
     "output_type": "stream",
     "text": [
      "Adding constraints...: 100%|██████████| 24/24 [00:24<00:00,  1.02s/it]"
     ]
    },
    {
     "name": "stdout",
     "output_type": "stream",
     "text": [
      "Gurobi Optimizer version 10.0.3 build v10.0.3rc0 (win64)\n",
      "\n",
      "CPU model: AMD Ryzen 7 5800H with Radeon Graphics, instruction set [SSE2|AVX|AVX2]\n",
      "Thread count: 8 physical cores, 16 logical processors, using up to 16 threads\n",
      "\n",
      "Optimize a model with 23006 rows, 3936 columns and 474938 nonzeros\n",
      "Model fingerprint: 0xfebe8ef7\n",
      "Variable types: 1344 continuous, 2592 integer (2592 binary)\n",
      "Coefficient statistics:\n",
      "  Matrix range     [5e-07, 4e+02]\n",
      "  Objective range  [8e+00, 1e+03]\n",
      "  Bounds range     [1e+00, 1e+00]\n",
      "  RHS range        [1e+00, 2e+03]\n"
     ]
    },
    {
     "name": "stderr",
     "output_type": "stream",
     "text": [
      "\n"
     ]
    },
    {
     "name": "stdout",
     "output_type": "stream",
     "text": [
      "Presolve removed 4139 rows and 30 columns\n",
      "Presolve time: 0.56s\n",
      "Presolved: 18867 rows, 3906 columns, 311247 nonzeros\n",
      "Variable types: 1368 continuous, 2538 integer (2538 binary)\n",
      "Found heuristic solution: objective 840941.98600\n",
      "\n",
      "Root relaxation: objective 3.108562e+05, 536 iterations, 0.03 seconds (0.04 work units)\n",
      "\n",
      "    Nodes    |    Current Node    |     Objective Bounds      |     Work\n",
      " Expl Unexpl |  Obj  Depth IntInf | Incumbent    BestBd   Gap | It/Node Time\n",
      "\n",
      "     0     0 310856.220    0   29 840941.986 310856.220  63.0%     -    0s\n",
      "H    0     0                    496288.80754 310856.220  37.4%     -    1s\n",
      "H    0     0                    326447.80749 310856.220  4.78%     -    1s\n",
      "H    0     0                    313569.15528 310856.220  0.87%     -    1s\n",
      "H    0     0                    311115.00793 311091.149  0.01%     -    1s\n",
      "     0     0 311091.149    0   42 311115.008 311091.149  0.01%     -    1s\n",
      "\n",
      "Cutting planes:\n",
      "  Gomory: 4\n",
      "  MIR: 12\n",
      "  Flow cover: 30\n",
      "  Zero half: 1\n",
      "  Relax-and-lift: 8\n",
      "\n",
      "Explored 1 nodes (1471 simplex iterations) in 1.29 seconds (1.92 work units)\n",
      "Thread count was 16 (of 16 available processors)\n",
      "\n",
      "Solution count 5: 311115 313569 326448 ... 840942\n",
      "\n",
      "Optimal solution found (tolerance 1.00e-04)\n",
      "Best objective 3.111150079322e+05, best bound 3.110911486229e+05, gap 0.0077%\n"
     ]
    },
    {
     "name": "stderr",
     "output_type": "stream",
     "text": [
      "100%|██████████| 57/57 [00:00<00:00, 506.09it/s]\n",
      "100%|██████████| 57/57 [00:00<00:00, 570.29it/s]\n",
      " 38%|███▊      | 30/78 [14:45<22:29, 28.11s/it]"
     ]
    },
    {
     "name": "stdout",
     "output_type": "stream",
     "text": [
      "Warning for adding constraints: zero or small (< 1e-13) coefficients, ignored\n"
     ]
    },
    {
     "name": "stderr",
     "output_type": "stream",
     "text": [
      "Adding constraints...: 100%|██████████| 24/24 [00:24<00:00,  1.03s/it]"
     ]
    },
    {
     "name": "stdout",
     "output_type": "stream",
     "text": [
      "Gurobi Optimizer version 10.0.3 build v10.0.3rc0 (win64)\n",
      "\n",
      "CPU model: AMD Ryzen 7 5800H with Radeon Graphics, instruction set [SSE2|AVX|AVX2]\n",
      "Thread count: 8 physical cores, 16 logical processors, using up to 16 threads\n",
      "\n",
      "Optimize a model with 23006 rows, 3936 columns and 474938 nonzeros\n",
      "Model fingerprint: 0x4a1fb6c1\n",
      "Variable types: 1344 continuous, 2592 integer (2592 binary)\n",
      "Coefficient statistics:\n",
      "  Matrix range     [5e-07, 4e+02]\n",
      "  Objective range  [8e+00, 1e+03]\n",
      "  Bounds range     [1e+00, 1e+00]\n",
      "  RHS range        [9e-02, 2e+03]\n"
     ]
    },
    {
     "name": "stderr",
     "output_type": "stream",
     "text": [
      "\n"
     ]
    },
    {
     "name": "stdout",
     "output_type": "stream",
     "text": [
      "Presolve removed 4190 rows and 30 columns\n",
      "Presolve time: 0.54s\n",
      "Presolved: 18816 rows, 3906 columns, 308836 nonzeros\n",
      "Variable types: 1368 continuous, 2538 integer (2538 binary)\n",
      "Found heuristic solution: objective 515627.27206\n",
      "\n",
      "Root relaxation: objective 3.562085e+05, 474 iterations, 0.02 seconds (0.03 work units)\n",
      "\n",
      "    Nodes    |    Current Node    |     Objective Bounds      |     Work\n",
      " Expl Unexpl |  Obj  Depth IntInf | Incumbent    BestBd   Gap | It/Node Time\n",
      "\n",
      "     0     0 356208.480    0   17 515627.272 356208.480  30.9%     -    0s\n",
      "     0     0 356301.866    0   18 515627.272 356301.866  30.9%     -    1s\n",
      "H    0     0                    357135.39539 356301.866  0.23%     -    1s\n",
      "H    0     0                    356765.97797 356301.866  0.13%     -    1s\n",
      "*    0     0               0    356316.51297 356316.513  0.00%     -    1s\n",
      "\n",
      "Cutting planes:\n",
      "  Gomory: 2\n",
      "  MIR: 4\n",
      "  Flow cover: 18\n",
      "  Relax-and-lift: 2\n",
      "\n",
      "Explored 1 nodes (915 simplex iterations) in 1.62 seconds (2.28 work units)\n",
      "Thread count was 16 (of 16 available processors)\n",
      "\n",
      "Solution count 4: 356317 356766 357135 515627 \n",
      "\n",
      "Optimal solution found (tolerance 1.00e-04)\n",
      "Best objective 3.563165129654e+05, best bound 3.563165129654e+05, gap 0.0000%\n"
     ]
    },
    {
     "name": "stderr",
     "output_type": "stream",
     "text": [
      "100%|██████████| 57/57 [00:00<00:00, 591.55it/s]\n",
      "100%|██████████| 57/57 [00:00<00:00, 582.95it/s]\n",
      " 40%|███▉      | 31/78 [15:12<21:47, 27.81s/it]"
     ]
    },
    {
     "name": "stdout",
     "output_type": "stream",
     "text": [
      "Warning for adding constraints: zero or small (< 1e-13) coefficients, ignored\n"
     ]
    },
    {
     "name": "stderr",
     "output_type": "stream",
     "text": [
      "Adding constraints...: 100%|██████████| 24/24 [00:24<00:00,  1.02s/it]"
     ]
    },
    {
     "name": "stdout",
     "output_type": "stream",
     "text": [
      "Gurobi Optimizer version 10.0.3 build v10.0.3rc0 (win64)\n",
      "\n",
      "CPU model: AMD Ryzen 7 5800H with Radeon Graphics, instruction set [SSE2|AVX|AVX2]\n",
      "Thread count: 8 physical cores, 16 logical processors, using up to 16 threads\n",
      "\n",
      "Optimize a model with 23006 rows, 3936 columns and 474938 nonzeros\n",
      "Model fingerprint: 0xfe12a047\n",
      "Variable types: 1344 continuous, 2592 integer (2592 binary)\n",
      "Coefficient statistics:\n",
      "  Matrix range     [5e-07, 4e+02]\n",
      "  Objective range  [8e+00, 1e+03]\n",
      "  Bounds range     [1e+00, 1e+00]\n",
      "  RHS range        [1e+00, 2e+03]\n"
     ]
    },
    {
     "name": "stderr",
     "output_type": "stream",
     "text": [
      "\n"
     ]
    },
    {
     "name": "stdout",
     "output_type": "stream",
     "text": [
      "Presolve removed 4134 rows and 30 columns\n",
      "Presolve time: 0.55s\n",
      "Presolved: 18872 rows, 3906 columns, 311950 nonzeros\n",
      "Variable types: 1368 continuous, 2538 integer (2538 binary)\n",
      "\n",
      "Root relaxation: objective 3.045599e+05, 700 iterations, 0.05 seconds (0.07 work units)\n",
      "\n",
      "    Nodes    |    Current Node    |     Objective Bounds      |     Work\n",
      " Expl Unexpl |  Obj  Depth IntInf | Incumbent    BestBd   Gap | It/Node Time\n",
      "\n",
      "     0     0 304559.906    0   29          - 304559.906      -     -    0s\n",
      "H    0     0                    1430875.2722 304559.906  78.7%     -    1s\n",
      "H    0     0                    657861.10907 304559.906  53.7%     -    1s\n",
      "*    0     0               0    304863.11381 304863.114  0.00%     -    1s\n",
      "\n",
      "Cutting planes:\n",
      "  Gomory: 6\n",
      "  MIR: 24\n",
      "  Flow cover: 26\n",
      "\n",
      "Explored 1 nodes (1433 simplex iterations) in 1.27 seconds (2.00 work units)\n",
      "Thread count was 16 (of 16 available processors)\n",
      "\n",
      "Solution count 3: 304863 657861 1.43088e+06 \n",
      "\n",
      "Optimal solution found (tolerance 1.00e-04)\n",
      "Best objective 3.048631138134e+05, best bound 3.048631138134e+05, gap 0.0000%\n"
     ]
    },
    {
     "name": "stderr",
     "output_type": "stream",
     "text": [
      "100%|██████████| 57/57 [00:00<00:00, 569.95it/s]\n",
      "100%|██████████| 57/57 [00:00<00:00, 573.06it/s]\n",
      " 41%|████      | 32/78 [15:39<21:02, 27.45s/it]"
     ]
    },
    {
     "name": "stdout",
     "output_type": "stream",
     "text": [
      "Warning for adding constraints: zero or small (< 1e-13) coefficients, ignored\n"
     ]
    },
    {
     "name": "stderr",
     "output_type": "stream",
     "text": [
      "Adding constraints...: 100%|██████████| 24/24 [00:24<00:00,  1.02s/it]"
     ]
    },
    {
     "name": "stdout",
     "output_type": "stream",
     "text": [
      "Gurobi Optimizer version 10.0.3 build v10.0.3rc0 (win64)\n",
      "\n",
      "CPU model: AMD Ryzen 7 5800H with Radeon Graphics, instruction set [SSE2|AVX|AVX2]\n",
      "Thread count: 8 physical cores, 16 logical processors, using up to 16 threads\n",
      "\n",
      "Optimize a model with 23006 rows, 3936 columns and 474938 nonzeros\n",
      "Model fingerprint: 0x51a32b76\n",
      "Variable types: 1344 continuous, 2592 integer (2592 binary)\n",
      "Coefficient statistics:\n",
      "  Matrix range     [5e-07, 4e+02]\n",
      "  Objective range  [8e+00, 1e+03]\n",
      "  Bounds range     [1e+00, 1e+00]\n",
      "  RHS range        [1e+00, 2e+03]\n"
     ]
    },
    {
     "name": "stderr",
     "output_type": "stream",
     "text": [
      "\n"
     ]
    },
    {
     "name": "stdout",
     "output_type": "stream",
     "text": [
      "Presolve removed 4161 rows and 30 columns\n",
      "Presolve time: 0.54s\n",
      "Presolved: 18845 rows, 3906 columns, 310851 nonzeros\n",
      "Variable types: 1368 continuous, 2538 integer (2538 binary)\n",
      "Found heuristic solution: objective 401311.95280\n",
      "\n",
      "Root relaxation: objective 2.300941e+05, 285 iterations, 0.02 seconds (0.02 work units)\n",
      "\n",
      "    Nodes    |    Current Node    |     Objective Bounds      |     Work\n",
      " Expl Unexpl |  Obj  Depth IntInf | Incumbent    BestBd   Gap | It/Node Time\n",
      "\n",
      "     0     0 230094.128    0   19 401311.953 230094.128  42.7%     -    0s\n",
      "H    0     0                    230804.85752 230094.128  0.31%     -    0s\n",
      "     0     0 230594.273    0    7 230804.858 230594.273  0.09%     -    1s\n",
      "     0     0 230665.888    0    9 230804.858 230665.888  0.06%     -    1s\n",
      "     0     0 230669.296    0    9 230804.858 230669.296  0.06%     -    1s\n",
      "H    0     0                    230744.43695 230669.296  0.03%     -    1s\n",
      "H    0     0                    230744.43692 230669.296  0.03%     -    1s\n",
      "     0     0 230693.302    0    4 230744.437 230693.302  0.02%     -    1s\n",
      "     0     0 230693.302    0    8 230744.437 230693.302  0.02%     -    1s\n",
      "     0     0 230693.302    0    7 230744.437 230693.302  0.02%     -    1s\n",
      "     0     0 230733.189    0    8 230744.437 230733.189  0.00%     -    1s\n",
      "\n",
      "Cutting planes:\n",
      "  Learned: 1\n",
      "  Gomory: 2\n",
      "  Cover: 6\n",
      "  Implied bound: 7\n",
      "  Flow cover: 2\n",
      "  RLT: 1\n",
      "  Relax-and-lift: 2\n",
      "\n",
      "Explored 1 nodes (1103 simplex iterations) in 1.49 seconds (2.02 work units)\n",
      "Thread count was 16 (of 16 available processors)\n",
      "\n",
      "Solution count 4: 230744 230744 230805 401312 \n",
      "\n",
      "Optimal solution found (tolerance 1.00e-04)\n",
      "Best objective 2.307444369196e+05, best bound 2.307331888973e+05, gap 0.0049%\n"
     ]
    },
    {
     "name": "stderr",
     "output_type": "stream",
     "text": [
      "100%|██████████| 57/57 [00:00<00:00, 572.94it/s]\n",
      "100%|██████████| 57/57 [00:00<00:00, 577.35it/s]\n",
      " 42%|████▏     | 33/78 [16:06<20:26, 27.25s/it]"
     ]
    },
    {
     "name": "stdout",
     "output_type": "stream",
     "text": [
      "Warning for adding constraints: zero or small (< 1e-13) coefficients, ignored\n"
     ]
    },
    {
     "name": "stderr",
     "output_type": "stream",
     "text": [
      "Adding constraints...: 100%|██████████| 24/24 [00:27<00:00,  1.16s/it]"
     ]
    },
    {
     "name": "stdout",
     "output_type": "stream",
     "text": [
      "Gurobi Optimizer version 10.0.3 build v10.0.3rc0 (win64)\n",
      "\n",
      "CPU model: AMD Ryzen 7 5800H with Radeon Graphics, instruction set [SSE2|AVX|AVX2]\n",
      "Thread count: 8 physical cores, 16 logical processors, using up to 16 threads\n",
      "\n",
      "Optimize a model with 23006 rows, 3936 columns and 474938 nonzeros\n",
      "Model fingerprint: 0x80f561af\n",
      "Variable types: 1344 continuous, 2592 integer (2592 binary)\n",
      "Coefficient statistics:\n",
      "  Matrix range     [5e-07, 4e+02]\n",
      "  Objective range  [8e+00, 1e+03]\n",
      "  Bounds range     [1e+00, 1e+00]\n",
      "  RHS range        [1e+00, 2e+03]\n"
     ]
    },
    {
     "name": "stderr",
     "output_type": "stream",
     "text": [
      "\n"
     ]
    },
    {
     "name": "stdout",
     "output_type": "stream",
     "text": [
      "Presolve removed 4087 rows and 30 columns\n",
      "Presolve time: 0.56s\n",
      "Presolved: 18919 rows, 3906 columns, 313612 nonzeros\n",
      "Variable types: 1368 continuous, 2538 integer (2538 binary)\n",
      "\n",
      "Root relaxation: objective 3.271579e+05, 409 iterations, 0.03 seconds (0.03 work units)\n",
      "\n",
      "    Nodes    |    Current Node    |     Objective Bounds      |     Work\n",
      " Expl Unexpl |  Obj  Depth IntInf | Incumbent    BestBd   Gap | It/Node Time\n",
      "\n",
      "     0     0 327157.920    0   15          - 327157.920      -     -    0s\n",
      "H    0     0                    327174.30721 327157.920  0.01%     -    0s\n",
      "\n",
      "Explored 1 nodes (521 simplex iterations) in 0.96 seconds (1.58 work units)\n",
      "Thread count was 16 (of 16 available processors)\n",
      "\n",
      "Solution count 1: 327174 \n",
      "\n",
      "Optimal solution found (tolerance 1.00e-04)\n",
      "Best objective 3.271743072148e+05, best bound 3.271579198580e+05, gap 0.0050%\n"
     ]
    },
    {
     "name": "stderr",
     "output_type": "stream",
     "text": [
      "100%|██████████| 57/57 [00:00<00:00, 574.53it/s]\n",
      "100%|██████████| 57/57 [00:00<00:00, 545.75it/s]\n",
      " 44%|████▎     | 34/78 [16:35<20:29, 27.94s/it]"
     ]
    },
    {
     "name": "stdout",
     "output_type": "stream",
     "text": [
      "Warning for adding constraints: zero or small (< 1e-13) coefficients, ignored\n"
     ]
    },
    {
     "name": "stderr",
     "output_type": "stream",
     "text": [
      "Adding constraints...: 100%|██████████| 24/24 [00:24<00:00,  1.03s/it]"
     ]
    },
    {
     "name": "stdout",
     "output_type": "stream",
     "text": [
      "Gurobi Optimizer version 10.0.3 build v10.0.3rc0 (win64)\n",
      "\n",
      "CPU model: AMD Ryzen 7 5800H with Radeon Graphics, instruction set [SSE2|AVX|AVX2]\n",
      "Thread count: 8 physical cores, 16 logical processors, using up to 16 threads\n",
      "\n",
      "Optimize a model with 23006 rows, 3936 columns and 474938 nonzeros\n",
      "Model fingerprint: 0xfa70bb1b\n",
      "Variable types: 1344 continuous, 2592 integer (2592 binary)\n",
      "Coefficient statistics:\n",
      "  Matrix range     [5e-07, 4e+02]\n",
      "  Objective range  [8e+00, 1e+03]\n",
      "  Bounds range     [1e+00, 1e+00]\n",
      "  RHS range        [4e-01, 2e+03]\n"
     ]
    },
    {
     "name": "stderr",
     "output_type": "stream",
     "text": [
      "\n"
     ]
    },
    {
     "name": "stdout",
     "output_type": "stream",
     "text": [
      "Presolve removed 4176 rows and 30 columns\n",
      "Presolve time: 0.54s\n",
      "Presolved: 18830 rows, 3906 columns, 309818 nonzeros\n",
      "Variable types: 1368 continuous, 2538 integer (2538 binary)\n",
      "Found heuristic solution: objective 546982.32750\n",
      "\n",
      "Root relaxation: objective 3.525946e+05, 458 iterations, 0.03 seconds (0.03 work units)\n",
      "\n",
      "    Nodes    |    Current Node    |     Objective Bounds      |     Work\n",
      " Expl Unexpl |  Obj  Depth IntInf | Incumbent    BestBd   Gap | It/Node Time\n",
      "\n",
      "     0     0 352594.594    0   17 546982.328 352594.594  35.5%     -    0s\n",
      "H    0     0                    493769.28549 352594.594  28.6%     -    1s\n",
      "H    0     0                    352709.23538 352681.901  0.01%     -    1s\n",
      "     0     0 352681.901    0   35 352709.235 352681.901  0.01%     -    1s\n",
      "\n",
      "Cutting planes:\n",
      "  Gomory: 2\n",
      "  MIR: 5\n",
      "  Flow cover: 17\n",
      "  Relax-and-lift: 4\n",
      "\n",
      "Explored 1 nodes (1231 simplex iterations) in 1.25 seconds (1.90 work units)\n",
      "Thread count was 16 (of 16 available processors)\n",
      "\n",
      "Solution count 3: 352709 493769 546982 \n",
      "\n",
      "Optimal solution found (tolerance 1.00e-04)\n",
      "Best objective 3.527092353760e+05, best bound 3.526819007518e+05, gap 0.0077%\n"
     ]
    },
    {
     "name": "stderr",
     "output_type": "stream",
     "text": [
      "100%|██████████| 57/57 [00:00<00:00, 559.52it/s]\n",
      "100%|██████████| 57/57 [00:00<00:00, 555.23it/s]\n",
      " 45%|████▍     | 35/78 [17:02<19:45, 27.56s/it]"
     ]
    },
    {
     "name": "stdout",
     "output_type": "stream",
     "text": [
      "Warning for adding constraints: zero or small (< 1e-13) coefficients, ignored\n"
     ]
    },
    {
     "name": "stderr",
     "output_type": "stream",
     "text": [
      "Adding constraints...: 100%|██████████| 24/24 [00:24<00:00,  1.03s/it]"
     ]
    },
    {
     "name": "stdout",
     "output_type": "stream",
     "text": [
      "Gurobi Optimizer version 10.0.3 build v10.0.3rc0 (win64)\n",
      "\n",
      "CPU model: AMD Ryzen 7 5800H with Radeon Graphics, instruction set [SSE2|AVX|AVX2]\n",
      "Thread count: 8 physical cores, 16 logical processors, using up to 16 threads\n",
      "\n",
      "Optimize a model with 23006 rows, 3936 columns and 474938 nonzeros\n",
      "Model fingerprint: 0x34cccb06\n",
      "Variable types: 1344 continuous, 2592 integer (2592 binary)\n",
      "Coefficient statistics:\n",
      "  Matrix range     [5e-07, 4e+02]\n",
      "  Objective range  [8e+00, 1e+03]\n",
      "  Bounds range     [1e+00, 1e+00]\n",
      "  RHS range        [1e+00, 2e+03]\n"
     ]
    },
    {
     "name": "stderr",
     "output_type": "stream",
     "text": [
      "\n"
     ]
    },
    {
     "name": "stdout",
     "output_type": "stream",
     "text": [
      "Presolve removed 4427 rows and 30 columns\n",
      "Presolve time: 0.55s\n",
      "Presolved: 18579 rows, 3906 columns, 299652 nonzeros\n",
      "Variable types: 1368 continuous, 2538 integer (2538 binary)\n",
      "Found heuristic solution: objective 1714403.8386\n",
      "\n",
      "Root relaxation: objective 2.638110e+05, 247 iterations, 0.02 seconds (0.02 work units)\n",
      "\n",
      "    Nodes    |    Current Node    |     Objective Bounds      |     Work\n",
      " Expl Unexpl |  Obj  Depth IntInf | Incumbent    BestBd   Gap | It/Node Time\n",
      "\n",
      "     0     0 263810.973    0   24 1714403.84 263810.973  84.6%     -    0s\n",
      "H    0     0                    264004.76462 263810.973  0.07%     -    0s\n",
      "     0     0     cutoff    0      264004.765 264004.765  0.00%     -    1s\n",
      "\n",
      "Cutting planes:\n",
      "  Gomory: 2\n",
      "  Cover: 17\n",
      "  MIR: 27\n",
      "  Flow cover: 52\n",
      "  Relax-and-lift: 6\n",
      "\n",
      "Explored 1 nodes (352 simplex iterations) in 1.15 seconds (1.66 work units)\n",
      "Thread count was 16 (of 16 available processors)\n",
      "\n",
      "Solution count 2: 264005 1.7144e+06 \n",
      "\n",
      "Optimal solution found (tolerance 1.00e-04)\n",
      "Best objective 2.640047646193e+05, best bound 2.640047646193e+05, gap 0.0000%\n"
     ]
    },
    {
     "name": "stderr",
     "output_type": "stream",
     "text": [
      "100%|██████████| 57/57 [00:00<00:00, 547.50it/s]\n",
      "100%|██████████| 57/57 [00:00<00:00, 527.04it/s]\n",
      " 46%|████▌     | 36/78 [17:28<19:05, 27.27s/it]"
     ]
    },
    {
     "name": "stdout",
     "output_type": "stream",
     "text": [
      "Warning for adding constraints: zero or small (< 1e-13) coefficients, ignored\n"
     ]
    },
    {
     "name": "stderr",
     "output_type": "stream",
     "text": [
      "Adding constraints...: 100%|██████████| 24/24 [00:24<00:00,  1.04s/it]"
     ]
    },
    {
     "name": "stdout",
     "output_type": "stream",
     "text": [
      "Gurobi Optimizer version 10.0.3 build v10.0.3rc0 (win64)\n",
      "\n",
      "CPU model: AMD Ryzen 7 5800H with Radeon Graphics, instruction set [SSE2|AVX|AVX2]\n",
      "Thread count: 8 physical cores, 16 logical processors, using up to 16 threads\n",
      "\n",
      "Optimize a model with 23006 rows, 3936 columns and 474938 nonzeros\n",
      "Model fingerprint: 0xf0eb210a\n",
      "Variable types: 1344 continuous, 2592 integer (2592 binary)\n",
      "Coefficient statistics:\n",
      "  Matrix range     [5e-07, 4e+02]\n",
      "  Objective range  [8e+00, 1e+03]\n",
      "  Bounds range     [1e+00, 1e+00]\n",
      "  RHS range        [1e+00, 1e+03]\n"
     ]
    },
    {
     "name": "stderr",
     "output_type": "stream",
     "text": [
      "\n"
     ]
    },
    {
     "name": "stdout",
     "output_type": "stream",
     "text": [
      "Presolve removed 4268 rows and 30 columns\n",
      "Presolve time: 0.53s\n",
      "Presolved: 18738 rows, 3906 columns, 305664 nonzeros\n",
      "Variable types: 1368 continuous, 2538 integer (2538 binary)\n",
      "\n",
      "Root relaxation: objective 1.484386e+05, 335 iterations, 0.03 seconds (0.03 work units)\n",
      "\n",
      "    Nodes    |    Current Node    |     Objective Bounds      |     Work\n",
      " Expl Unexpl |  Obj  Depth IntInf | Incumbent    BestBd   Gap | It/Node Time\n",
      "\n",
      "     0     0 148438.628    0   24          - 148438.628      -     -    0s\n",
      "H    0     0                    152098.89457 148438.628  2.41%     -    0s\n",
      "H    0     0                    151130.53457 148438.628  1.78%     -    0s\n",
      "     0     0 148745.623    0   66 151130.535 148745.623  1.58%     -    1s\n",
      "H    0     0                    150619.93457 148745.623  1.24%     -    1s\n",
      "     0     0 148746.209    0   66 150619.935 148746.209  1.24%     -    1s\n",
      "H    0     0                    149774.35342 148746.209  0.69%     -    1s\n",
      "     0     0 149068.773    0   31 149774.353 149068.773  0.47%     -    1s\n",
      "     0     0 149144.575    0   33 149774.353 149144.575  0.42%     -    2s\n",
      "     0     0 149144.575    0   39 149774.353 149144.575  0.42%     -    2s\n",
      "     0     0 149210.630    0   77 149774.353 149210.630  0.38%     -    2s\n",
      "     0     0 149216.924    0  101 149774.353 149216.924  0.37%     -    2s\n",
      "     0     0 149253.790    0  126 149774.353 149253.790  0.35%     -    2s\n",
      "     0     0 149254.690    0  139 149774.353 149254.690  0.35%     -    2s\n",
      "     0     0 149255.289    0  135 149774.353 149255.289  0.35%     -    3s\n",
      "     0     0 149298.580    0   64 149774.353 149298.580  0.32%     -    3s\n",
      "     0     0 149299.694    0   62 149774.353 149299.694  0.32%     -    3s\n",
      "H    0     0                    149723.67377 149299.694  0.28%     -    3s\n",
      "     0     0 149328.361    0   73 149723.674 149328.361  0.26%     -    3s\n",
      "     0     0 149328.395    0   71 149723.674 149328.395  0.26%     -    3s\n",
      "H    0     0                    149544.62677 149328.395  0.14%     -    4s\n",
      "     0     0 149361.439    0   75 149544.627 149361.439  0.12%     -    4s\n",
      "     0     0 149361.439    0   17 149544.627 149361.439  0.12%     -    4s\n",
      "     0     0 149361.439    0   60 149544.627 149361.439  0.12%     -    4s\n",
      "     0     0 149361.439    0   53 149544.627 149361.439  0.12%     -    4s\n",
      "     0     0 149361.439    0   41 149544.627 149361.439  0.12%     -    4s\n",
      "     0     0 149366.278    0   39 149544.627 149366.278  0.12%     -    4s\n",
      "     0     0 149404.576    0   49 149544.627 149404.576  0.09%     -    4s\n",
      "     0     0 149440.182    0   44 149544.627 149440.182  0.07%     -    4s\n",
      "     0     0 149440.436    0   40 149544.627 149440.436  0.07%     -    4s\n",
      "     0     0 149531.143    0    2 149544.627 149531.143  0.01%     -    4s\n",
      "\n",
      "Cutting planes:\n",
      "  Lift-and-project: 4\n",
      "  Implied bound: 1\n",
      "  MIR: 6\n",
      "  Flow cover: 22\n",
      "  RLT: 5\n",
      "\n",
      "Explored 1 nodes (4789 simplex iterations) in 4.34 seconds (5.34 work units)\n",
      "Thread count was 16 (of 16 available processors)\n",
      "\n",
      "Solution count 6: 149545 149724 149774 ... 152099\n",
      "\n",
      "Optimal solution found (tolerance 1.00e-04)\n",
      "Best objective 1.495446267674e+05, best bound 1.495311433590e+05, gap 0.0090%\n"
     ]
    },
    {
     "name": "stderr",
     "output_type": "stream",
     "text": [
      "100%|██████████| 57/57 [00:00<00:00, 545.41it/s]\n",
      "100%|██████████| 57/57 [00:00<00:00, 560.13it/s]\n",
      " 47%|████▋     | 37/78 [17:58<19:11, 28.09s/it]"
     ]
    },
    {
     "name": "stdout",
     "output_type": "stream",
     "text": [
      "Warning for adding constraints: zero or small (< 1e-13) coefficients, ignored\n"
     ]
    },
    {
     "name": "stderr",
     "output_type": "stream",
     "text": [
      "Adding constraints...: 100%|██████████| 24/24 [00:24<00:00,  1.02s/it]"
     ]
    },
    {
     "name": "stdout",
     "output_type": "stream",
     "text": [
      "Gurobi Optimizer version 10.0.3 build v10.0.3rc0 (win64)\n",
      "\n",
      "CPU model: AMD Ryzen 7 5800H with Radeon Graphics, instruction set [SSE2|AVX|AVX2]\n",
      "Thread count: 8 physical cores, 16 logical processors, using up to 16 threads\n",
      "\n",
      "Optimize a model with 23006 rows, 3936 columns and 474938 nonzeros\n",
      "Model fingerprint: 0xd7c8ffc0\n",
      "Variable types: 1344 continuous, 2592 integer (2592 binary)\n"
     ]
    },
    {
     "name": "stderr",
     "output_type": "stream",
     "text": [
      "\n"
     ]
    },
    {
     "name": "stdout",
     "output_type": "stream",
     "text": [
      "Coefficient statistics:\n",
      "  Matrix range     [5e-07, 4e+02]\n",
      "  Objective range  [8e+00, 1e+03]\n",
      "  Bounds range     [1e+00, 1e+00]\n",
      "  RHS range        [1e+00, 1e+03]\n",
      "Presolve removed 4113 rows and 30 columns\n",
      "Presolve time: 0.52s\n",
      "Presolved: 18893 rows, 3906 columns, 312485 nonzeros\n",
      "Variable types: 1368 continuous, 2538 integer (2538 binary)\n",
      "\n",
      "Root relaxation: objective 1.280438e+05, 122 iterations, 0.01 seconds (0.01 work units)\n",
      "\n",
      "    Nodes    |    Current Node    |     Objective Bounds      |     Work\n",
      " Expl Unexpl |  Obj  Depth IntInf | Incumbent    BestBd   Gap | It/Node Time\n",
      "\n",
      "H    0     0                    128043.77254    0.00000   100%     -    0s\n",
      "     0     0          -    0      128043.773 128043.773  0.00%     -    0s\n",
      "\n",
      "Explored 1 nodes (169 simplex iterations) in 0.73 seconds (1.34 work units)\n",
      "Thread count was 16 (of 16 available processors)\n",
      "\n",
      "Solution count 1: 128044 \n",
      "\n",
      "Optimal solution found (tolerance 1.00e-04)\n",
      "Best objective 1.280437725422e+05, best bound 1.280437725422e+05, gap 0.0000%\n"
     ]
    },
    {
     "name": "stderr",
     "output_type": "stream",
     "text": [
      "100%|██████████| 57/57 [00:00<00:00, 490.80it/s]\n",
      "100%|██████████| 57/57 [00:00<00:00, 609.44it/s]\n",
      " 49%|████▊     | 38/78 [18:24<18:18, 27.47s/it]"
     ]
    },
    {
     "name": "stdout",
     "output_type": "stream",
     "text": [
      "Warning for adding constraints: zero or small (< 1e-13) coefficients, ignored\n"
     ]
    },
    {
     "name": "stderr",
     "output_type": "stream",
     "text": [
      "Adding constraints...: 100%|██████████| 24/24 [00:28<00:00,  1.18s/it]"
     ]
    },
    {
     "name": "stdout",
     "output_type": "stream",
     "text": [
      "Gurobi Optimizer version 10.0.3 build v10.0.3rc0 (win64)\n",
      "\n",
      "CPU model: AMD Ryzen 7 5800H with Radeon Graphics, instruction set [SSE2|AVX|AVX2]\n",
      "Thread count: 8 physical cores, 16 logical processors, using up to 16 threads\n",
      "\n",
      "Optimize a model with 23006 rows, 3936 columns and 474938 nonzeros\n",
      "Model fingerprint: 0xd1ac84bc\n",
      "Variable types: 1344 continuous, 2592 integer (2592 binary)\n",
      "Coefficient statistics:\n",
      "  Matrix range     [5e-07, 4e+02]\n",
      "  Objective range  [8e+00, 1e+03]\n",
      "  Bounds range     [1e+00, 1e+00]\n",
      "  RHS range        [1e-02, 2e+03]\n"
     ]
    },
    {
     "name": "stderr",
     "output_type": "stream",
     "text": [
      "\n"
     ]
    },
    {
     "name": "stdout",
     "output_type": "stream",
     "text": [
      "Presolve removed 4111 rows and 30 columns\n",
      "Presolve time: 0.55s\n",
      "Presolved: 18895 rows, 3906 columns, 312191 nonzeros\n",
      "Variable types: 1368 continuous, 2538 integer (2538 binary)\n",
      "Found heuristic solution: objective 428319.99779\n",
      "\n",
      "Root relaxation: objective 2.834351e+05, 628 iterations, 0.04 seconds (0.04 work units)\n",
      "\n",
      "    Nodes    |    Current Node    |     Objective Bounds      |     Work\n",
      " Expl Unexpl |  Obj  Depth IntInf | Incumbent    BestBd   Gap | It/Node Time\n",
      "\n",
      "     0     0 283435.072    0   11 428319.998 283435.072  33.8%     -    0s\n",
      "H    0     0                    338340.00547 283435.072  16.2%     -    1s\n",
      "     0     0 283503.728    0   13 338340.005 283503.728  16.2%     -    1s\n",
      "H    0     0                    284916.11938 283503.728  0.50%     -    1s\n",
      "H    0     0                    283966.33438 283503.728  0.16%     -    1s\n",
      "     0     0 283667.337    0   32 283966.334 283667.337  0.11%     -    1s\n",
      "     0     0 283675.468    0   15 283966.334 283675.468  0.10%     -    1s\n",
      "     0     0 283730.849    0   50 283966.334 283730.849  0.08%     -    2s\n",
      "H    0     0                    283785.84138 283751.481  0.01%     -    2s\n",
      "     0     0 283772.022    0   39 283785.841 283772.022  0.00%     -    2s\n",
      "\n",
      "Cutting planes:\n",
      "  Gomory: 2\n",
      "  MIR: 5\n",
      "  Flow cover: 6\n",
      "  Flow path: 1\n",
      "  RLT: 2\n",
      "\n",
      "Explored 1 nodes (1672 simplex iterations) in 2.56 seconds (3.11 work units)\n",
      "Thread count was 16 (of 16 available processors)\n",
      "\n",
      "Solution count 5: 283786 283966 284916 ... 428320\n",
      "\n",
      "Optimal solution found (tolerance 1.00e-04)\n",
      "Best objective 2.837858413762e+05, best bound 2.837720222469e+05, gap 0.0049%\n"
     ]
    },
    {
     "name": "stderr",
     "output_type": "stream",
     "text": [
      "100%|██████████| 57/57 [00:00<00:00, 575.13it/s]\n",
      "100%|██████████| 57/57 [00:00<00:00, 541.24it/s]\n",
      " 50%|█████     | 39/78 [18:56<18:40, 28.74s/it]"
     ]
    },
    {
     "name": "stdout",
     "output_type": "stream",
     "text": [
      "Warning for adding constraints: zero or small (< 1e-13) coefficients, ignored\n"
     ]
    },
    {
     "name": "stderr",
     "output_type": "stream",
     "text": [
      "Adding constraints...: 100%|██████████| 24/24 [00:24<00:00,  1.02s/it]"
     ]
    },
    {
     "name": "stdout",
     "output_type": "stream",
     "text": [
      "Gurobi Optimizer version 10.0.3 build v10.0.3rc0 (win64)\n",
      "\n",
      "CPU model: AMD Ryzen 7 5800H with Radeon Graphics, instruction set [SSE2|AVX|AVX2]\n",
      "Thread count: 8 physical cores, 16 logical processors, using up to 16 threads\n",
      "\n",
      "Optimize a model with 23006 rows, 3936 columns and 474938 nonzeros\n",
      "Model fingerprint: 0x6067c2cc\n",
      "Variable types: 1344 continuous, 2592 integer (2592 binary)\n",
      "Coefficient statistics:\n",
      "  Matrix range     [5e-07, 4e+02]\n",
      "  Objective range  [8e+00, 1e+03]\n",
      "  Bounds range     [1e+00, 1e+00]\n",
      "  RHS range        [1e+00, 2e+03]\n"
     ]
    },
    {
     "name": "stderr",
     "output_type": "stream",
     "text": [
      "\n"
     ]
    },
    {
     "name": "stdout",
     "output_type": "stream",
     "text": [
      "Presolve removed 4184 rows and 30 columns\n",
      "Presolve time: 0.54s\n",
      "Presolved: 18822 rows, 3906 columns, 309848 nonzeros\n",
      "Variable types: 1368 continuous, 2538 integer (2538 binary)\n",
      "Found heuristic solution: objective 636069.83018\n",
      "\n",
      "Root relaxation: objective 3.350080e+05, 403 iterations, 0.03 seconds (0.03 work units)\n",
      "\n",
      "    Nodes    |    Current Node    |     Objective Bounds      |     Work\n",
      " Expl Unexpl |  Obj  Depth IntInf | Incumbent    BestBd   Gap | It/Node Time\n",
      "\n",
      "     0     0 335008.039    0   15 636069.830 335008.039  47.3%     -    0s\n",
      "H    0     0                    335013.44860 335008.039  0.00%     -    0s\n",
      "\n",
      "Explored 1 nodes (535 simplex iterations) in 0.94 seconds (1.53 work units)\n",
      "Thread count was 16 (of 16 available processors)\n",
      "\n",
      "Solution count 2: 335013 636070 \n",
      "\n",
      "Optimal solution found (tolerance 1.00e-04)\n",
      "Best objective 3.350134486038e+05, best bound 3.350080387740e+05, gap 0.0016%\n"
     ]
    },
    {
     "name": "stderr",
     "output_type": "stream",
     "text": [
      "100%|██████████| 57/57 [00:00<00:00, 458.37it/s]\n",
      "100%|██████████| 57/57 [00:00<00:00, 439.83it/s]\n",
      " 51%|█████▏    | 40/78 [19:22<17:44, 28.01s/it]"
     ]
    },
    {
     "name": "stdout",
     "output_type": "stream",
     "text": [
      "Warning for adding constraints: zero or small (< 1e-13) coefficients, ignored\n"
     ]
    },
    {
     "name": "stderr",
     "output_type": "stream",
     "text": [
      "Adding constraints...: 100%|██████████| 24/24 [00:24<00:00,  1.02s/it]"
     ]
    },
    {
     "name": "stdout",
     "output_type": "stream",
     "text": [
      "Gurobi Optimizer version 10.0.3 build v10.0.3rc0 (win64)\n",
      "\n",
      "CPU model: AMD Ryzen 7 5800H with Radeon Graphics, instruction set [SSE2|AVX|AVX2]\n",
      "Thread count: 8 physical cores, 16 logical processors, using up to 16 threads\n",
      "\n",
      "Optimize a model with 23006 rows, 3936 columns and 474938 nonzeros\n",
      "Model fingerprint: 0x9368a21b\n",
      "Variable types: 1344 continuous, 2592 integer (2592 binary)\n",
      "Coefficient statistics:\n",
      "  Matrix range     [5e-07, 4e+02]\n",
      "  Objective range  [8e+00, 1e+03]\n",
      "  Bounds range     [1e+00, 1e+00]\n",
      "  RHS range        [3e-01, 2e+03]\n"
     ]
    },
    {
     "name": "stderr",
     "output_type": "stream",
     "text": [
      "\n"
     ]
    },
    {
     "name": "stdout",
     "output_type": "stream",
     "text": [
      "Presolve removed 4177 rows and 30 columns\n",
      "Presolve time: 0.55s\n",
      "Presolved: 18829 rows, 3906 columns, 309617 nonzeros\n",
      "Variable types: 1368 continuous, 2538 integer (2538 binary)\n",
      "\n",
      "Root relaxation: objective 4.203000e+05, 956 iterations, 0.05 seconds (0.07 work units)\n",
      "\n",
      "    Nodes    |    Current Node    |     Objective Bounds      |     Work\n",
      " Expl Unexpl |  Obj  Depth IntInf | Incumbent    BestBd   Gap | It/Node Time\n",
      "\n",
      "     0     0 420299.994    0   24          - 420299.994      -     -    0s\n",
      "H    0     0                    1305739.5632 420299.994  67.8%     -    1s\n",
      "H    0     0                    542001.17700 420299.994  22.5%     -    1s\n",
      "H    0     0                    529618.72344 420299.994  20.6%     -    1s\n",
      "H    0     0                    424740.34235 420299.994  1.05%     -    1s\n",
      "     0     0 420347.622    0   27 424740.342 420347.622  1.03%     -    1s\n",
      "H    0     0                    420886.79833 420347.622  0.13%     -    1s\n",
      "H    0     0                    420752.41939 420347.622  0.10%     -    1s\n",
      "     0     0 420717.584    0   27 420752.419 420717.584  0.01%     -    1s\n",
      "\n",
      "Cutting planes:\n",
      "  Gomory: 15\n",
      "  MIR: 21\n",
      "  Flow cover: 47\n",
      "  Flow path: 5\n",
      "\n",
      "Explored 1 nodes (2450 simplex iterations) in 1.72 seconds (2.68 work units)\n",
      "Thread count was 16 (of 16 available processors)\n",
      "\n",
      "Solution count 6: 420752 420887 424740 ... 1.30574e+06\n",
      "\n",
      "Optimal solution found (tolerance 1.00e-04)\n",
      "Best objective 4.207524193937e+05, best bound 4.207175843297e+05, gap 0.0083%\n"
     ]
    },
    {
     "name": "stderr",
     "output_type": "stream",
     "text": [
      "100%|██████████| 57/57 [00:00<00:00, 554.98it/s]\n",
      "100%|██████████| 57/57 [00:00<00:00, 561.91it/s]\n",
      " 53%|█████▎    | 41/78 [19:49<17:05, 27.71s/it]"
     ]
    },
    {
     "name": "stdout",
     "output_type": "stream",
     "text": [
      "Warning for adding constraints: zero or small (< 1e-13) coefficients, ignored\n"
     ]
    },
    {
     "name": "stderr",
     "output_type": "stream",
     "text": [
      "Adding constraints...: 100%|██████████| 24/24 [00:24<00:00,  1.03s/it]"
     ]
    },
    {
     "name": "stdout",
     "output_type": "stream",
     "text": [
      "Gurobi Optimizer version 10.0.3 build v10.0.3rc0 (win64)\n",
      "\n",
      "CPU model: AMD Ryzen 7 5800H with Radeon Graphics, instruction set [SSE2|AVX|AVX2]\n",
      "Thread count: 8 physical cores, 16 logical processors, using up to 16 threads\n",
      "\n",
      "Optimize a model with 23006 rows, 3936 columns and 474938 nonzeros\n",
      "Model fingerprint: 0x54e94bbe\n",
      "Variable types: 1344 continuous, 2592 integer (2592 binary)\n",
      "Coefficient statistics:\n",
      "  Matrix range     [5e-07, 4e+02]\n",
      "  Objective range  [8e+00, 1e+03]\n",
      "  Bounds range     [1e+00, 1e+00]\n",
      "  RHS range        [5e-01, 2e+03]\n"
     ]
    },
    {
     "name": "stderr",
     "output_type": "stream",
     "text": [
      "\n"
     ]
    },
    {
     "name": "stdout",
     "output_type": "stream",
     "text": [
      "Presolve removed 4160 rows and 30 columns\n",
      "Presolve time: 0.55s\n",
      "Presolved: 18846 rows, 3906 columns, 311792 nonzeros\n",
      "Variable types: 1368 continuous, 2538 integer (2538 binary)\n",
      "\n",
      "Root relaxation: objective 3.380671e+05, 522 iterations, 0.03 seconds (0.03 work units)\n",
      "\n",
      "    Nodes    |    Current Node    |     Objective Bounds      |     Work\n",
      " Expl Unexpl |  Obj  Depth IntInf | Incumbent    BestBd   Gap | It/Node Time\n",
      "\n",
      "     0     0 338067.052    0   13          - 338067.052      -     -    0s\n",
      "H    0     0                    338161.47725 338067.052  0.03%     -    0s\n",
      "     0     0 338089.351    0   45 338161.477 338089.351  0.02%     -    1s\n",
      "     0     0 338089.351    0   12 338161.477 338089.351  0.02%     -    1s\n",
      "\n",
      "Cutting planes:\n",
      "  Gomory: 1\n",
      "  Cover: 1\n",
      "  Implied bound: 2\n",
      "  MIR: 5\n",
      "  Flow cover: 7\n",
      "  Relax-and-lift: 1\n",
      "\n",
      "Explored 1 nodes (964 simplex iterations) in 1.29 seconds (1.85 work units)\n",
      "Thread count was 16 (of 16 available processors)\n",
      "\n",
      "Solution count 1: 338161 \n",
      "\n",
      "Optimal solution found (tolerance 1.00e-04)\n",
      "Best objective 3.381614772474e+05, best bound 3.381614772474e+05, gap 0.0000%\n"
     ]
    },
    {
     "name": "stderr",
     "output_type": "stream",
     "text": [
      "100%|██████████| 57/57 [00:00<00:00, 551.68it/s]\n",
      "100%|██████████| 57/57 [00:00<00:00, 556.56it/s]\n",
      " 54%|█████▍    | 42/78 [20:16<16:26, 27.41s/it]"
     ]
    },
    {
     "name": "stdout",
     "output_type": "stream",
     "text": [
      "Warning for adding constraints: zero or small (< 1e-13) coefficients, ignored\n"
     ]
    },
    {
     "name": "stderr",
     "output_type": "stream",
     "text": [
      "Adding constraints...: 100%|██████████| 24/24 [00:24<00:00,  1.02s/it]"
     ]
    },
    {
     "name": "stdout",
     "output_type": "stream",
     "text": [
      "Gurobi Optimizer version 10.0.3 build v10.0.3rc0 (win64)\n",
      "\n",
      "CPU model: AMD Ryzen 7 5800H with Radeon Graphics, instruction set [SSE2|AVX|AVX2]\n",
      "Thread count: 8 physical cores, 16 logical processors, using up to 16 threads\n",
      "\n",
      "Optimize a model with 23006 rows, 3936 columns and 474938 nonzeros\n",
      "Model fingerprint: 0x88aad293\n",
      "Variable types: 1344 continuous, 2592 integer (2592 binary)\n",
      "Coefficient statistics:\n",
      "  Matrix range     [5e-07, 4e+02]\n",
      "  Objective range  [8e+00, 1e+03]\n",
      "  Bounds range     [1e+00, 1e+00]\n",
      "  RHS range        [6e-01, 2e+03]\n"
     ]
    },
    {
     "name": "stderr",
     "output_type": "stream",
     "text": [
      "\n"
     ]
    },
    {
     "name": "stdout",
     "output_type": "stream",
     "text": [
      "Presolve removed 4148 rows and 30 columns\n",
      "Presolve time: 0.55s\n",
      "Presolved: 18858 rows, 3906 columns, 310782 nonzeros\n",
      "Variable types: 1368 continuous, 2538 integer (2538 binary)\n",
      "\n",
      "Root relaxation: objective 3.695721e+05, 994 iterations, 0.04 seconds (0.07 work units)\n",
      "\n",
      "    Nodes    |    Current Node    |     Objective Bounds      |     Work\n",
      " Expl Unexpl |  Obj  Depth IntInf | Incumbent    BestBd   Gap | It/Node Time\n",
      "\n",
      "     0     0 369572.066    0   37          - 369572.066      -     -    0s\n",
      "H    0     0                    2085825.8757 369572.066  82.3%     -    1s\n",
      "H    0     0                    369923.66306 369572.066  0.10%     -    1s\n",
      "     0     0 369629.594    0   54 369923.663 369629.594  0.08%     -    1s\n",
      "     0     0 369638.255    0   23 369923.663 369638.255  0.08%     -    1s\n",
      "     0     0 369661.093    0   42 369923.663 369661.093  0.07%     -    1s\n",
      "     0     0 369719.207    0   34 369923.663 369719.207  0.06%     -    1s\n",
      "     0     0 369719.519    0   45 369923.663 369719.519  0.06%     -    1s\n",
      "H    0     0                    369874.12989 369720.086  0.04%     -    2s\n",
      "     0     0 369781.426    0   65 369874.130 369781.426  0.03%     -    2s\n",
      "     0     0 369793.510    0   42 369874.130 369793.510  0.02%     -    2s\n",
      "     0     0 369836.064    0    6 369874.130 369836.064  0.01%     -    2s\n",
      "\n",
      "Cutting planes:\n",
      "  MIR: 7\n",
      "  Flow cover: 18\n",
      "\n",
      "Explored 1 nodes (2614 simplex iterations) in 2.67 seconds (3.32 work units)\n",
      "Thread count was 16 (of 16 available processors)\n",
      "\n",
      "Solution count 3: 369874 369924 2.08583e+06 \n",
      "\n",
      "Optimal solution found (tolerance 1.00e-04)\n",
      "Best objective 3.698741298893e+05, best bound 3.698741298893e+05, gap 0.0000%\n"
     ]
    },
    {
     "name": "stderr",
     "output_type": "stream",
     "text": [
      "100%|██████████| 57/57 [00:00<00:00, 524.07it/s]\n",
      "100%|██████████| 57/57 [00:00<00:00, 571.35it/s]\n",
      " 55%|█████▌    | 43/78 [20:44<16:04, 27.57s/it]"
     ]
    },
    {
     "name": "stdout",
     "output_type": "stream",
     "text": [
      "Warning for adding constraints: zero or small (< 1e-13) coefficients, ignored\n"
     ]
    },
    {
     "name": "stderr",
     "output_type": "stream",
     "text": [
      "Adding constraints...: 100%|██████████| 24/24 [00:29<00:00,  1.21s/it]"
     ]
    },
    {
     "name": "stdout",
     "output_type": "stream",
     "text": [
      "Gurobi Optimizer version 10.0.3 build v10.0.3rc0 (win64)\n",
      "\n",
      "CPU model: AMD Ryzen 7 5800H with Radeon Graphics, instruction set [SSE2|AVX|AVX2]\n",
      "Thread count: 8 physical cores, 16 logical processors, using up to 16 threads\n",
      "\n",
      "Optimize a model with 23006 rows, 3936 columns and 474938 nonzeros\n",
      "Model fingerprint: 0x8a40fb22\n",
      "Variable types: 1344 continuous, 2592 integer (2592 binary)\n",
      "Coefficient statistics:\n",
      "  Matrix range     [5e-07, 4e+02]\n",
      "  Objective range  [8e+00, 1e+03]\n",
      "  Bounds range     [1e+00, 1e+00]\n",
      "  RHS range        [1e+00, 2e+03]\n"
     ]
    },
    {
     "name": "stderr",
     "output_type": "stream",
     "text": [
      "\n"
     ]
    },
    {
     "name": "stdout",
     "output_type": "stream",
     "text": [
      "Presolve removed 4227 rows and 30 columns\n",
      "Presolve time: 0.53s\n",
      "Presolved: 18779 rows, 3906 columns, 307788 nonzeros\n",
      "Variable types: 1368 continuous, 2538 integer (2538 binary)\n",
      "\n",
      "Root relaxation: objective 5.020211e+05, 1566 iterations, 0.08 seconds (0.16 work units)\n",
      "\n",
      "    Nodes    |    Current Node    |     Objective Bounds      |     Work\n",
      " Expl Unexpl |  Obj  Depth IntInf | Incumbent    BestBd   Gap | It/Node Time\n",
      "\n",
      "     0     0 502021.146    0   50          - 502021.146      -     -    0s\n",
      "H    0     0                    502365.10179 502021.146  0.07%     -    1s\n",
      "     0     0 502095.520    0   15 502365.102 502095.520  0.05%     -    1s\n",
      "H    0     0                    502156.96748 502095.520  0.01%     -    1s\n",
      "     0     0 502149.892    0    1 502156.967 502149.892  0.00%     -    1s\n",
      "\n",
      "Cutting planes:\n",
      "  Gomory: 1\n",
      "  Cover: 15\n",
      "  Implied bound: 1\n",
      "  MIR: 41\n",
      "  Flow cover: 57\n",
      "  RLT: 2\n",
      "\n",
      "Explored 1 nodes (2196 simplex iterations) in 1.63 seconds (2.51 work units)\n",
      "Thread count was 16 (of 16 available processors)\n",
      "\n",
      "Solution count 2: 502157 502365 \n",
      "\n",
      "Optimal solution found (tolerance 1.00e-04)\n",
      "Best objective 5.021569674806e+05, best bound 5.021498916780e+05, gap 0.0014%\n"
     ]
    },
    {
     "name": "stderr",
     "output_type": "stream",
     "text": [
      "100%|██████████| 57/57 [00:00<00:00, 520.38it/s]\n",
      "100%|██████████| 57/57 [00:00<00:00, 557.73it/s]\n",
      " 56%|█████▋    | 44/78 [21:16<16:17, 28.75s/it]"
     ]
    },
    {
     "name": "stdout",
     "output_type": "stream",
     "text": [
      "Warning for adding constraints: zero or small (< 1e-13) coefficients, ignored\n"
     ]
    },
    {
     "name": "stderr",
     "output_type": "stream",
     "text": [
      "Adding constraints...: 100%|██████████| 24/24 [00:24<00:00,  1.02s/it]"
     ]
    },
    {
     "name": "stdout",
     "output_type": "stream",
     "text": [
      "Gurobi Optimizer version 10.0.3 build v10.0.3rc0 (win64)\n",
      "\n",
      "CPU model: AMD Ryzen 7 5800H with Radeon Graphics, instruction set [SSE2|AVX|AVX2]\n",
      "Thread count: 8 physical cores, 16 logical processors, using up to 16 threads\n",
      "\n",
      "Optimize a model with 23006 rows, 3936 columns and 474938 nonzeros\n",
      "Model fingerprint: 0x87beb76d\n",
      "Variable types: 1344 continuous, 2592 integer (2592 binary)\n",
      "Coefficient statistics:\n",
      "  Matrix range     [5e-07, 4e+02]\n",
      "  Objective range  [8e+00, 1e+03]\n",
      "  Bounds range     [1e+00, 1e+00]\n",
      "  RHS range        [9e-01, 3e+03]\n"
     ]
    },
    {
     "name": "stderr",
     "output_type": "stream",
     "text": [
      "\n"
     ]
    },
    {
     "name": "stdout",
     "output_type": "stream",
     "text": [
      "Presolve removed 4197 rows and 30 columns\n",
      "Presolve time: 0.56s\n",
      "Presolved: 18809 rows, 3906 columns, 309232 nonzeros\n",
      "Variable types: 1368 continuous, 2538 integer (2538 binary)\n",
      "\n",
      "Root relaxation: objective 5.832339e+05, 1436 iterations, 0.07 seconds (0.14 work units)\n",
      "\n",
      "    Nodes    |    Current Node    |     Objective Bounds      |     Work\n",
      " Expl Unexpl |  Obj  Depth IntInf | Incumbent    BestBd   Gap | It/Node Time\n",
      "\n",
      "     0     0 583233.928    0   24          - 583233.928      -     -    0s\n",
      "H    0     0                    1842949.7439 583233.928  68.4%     -    1s\n",
      "H    0     0                    618352.13748 583233.928  5.68%     -    1s\n",
      "     0     0 583248.190    0   65 618352.137 583248.190  5.68%     -    1s\n",
      "H    0     0                    583300.03655 583248.190  0.01%     -    1s\n",
      "\n",
      "Cutting planes:\n",
      "  Implied bound: 1\n",
      "  MIR: 4\n",
      "  Flow cover: 10\n",
      "\n",
      "Explored 1 nodes (2342 simplex iterations) in 1.43 seconds (2.21 work units)\n",
      "Thread count was 16 (of 16 available processors)\n",
      "\n",
      "Solution count 3: 583300 618352 1.84295e+06 \n",
      "\n",
      "Optimal solution found (tolerance 1.00e-04)\n",
      "Best objective 5.833000365544e+05, best bound 5.832481900057e+05, gap 0.0089%\n"
     ]
    },
    {
     "name": "stderr",
     "output_type": "stream",
     "text": [
      "100%|██████████| 57/57 [00:00<00:00, 506.15it/s]\n",
      "100%|██████████| 57/57 [00:00<00:00, 534.62it/s]\n",
      " 58%|█████▊    | 45/78 [21:42<15:28, 28.15s/it]"
     ]
    },
    {
     "name": "stdout",
     "output_type": "stream",
     "text": [
      "Warning for adding constraints: zero or small (< 1e-13) coefficients, ignored\n"
     ]
    },
    {
     "name": "stderr",
     "output_type": "stream",
     "text": [
      "Adding constraints...: 100%|██████████| 24/24 [00:25<00:00,  1.06s/it]"
     ]
    },
    {
     "name": "stdout",
     "output_type": "stream",
     "text": [
      "Gurobi Optimizer version 10.0.3 build v10.0.3rc0 (win64)\n",
      "\n",
      "CPU model: AMD Ryzen 7 5800H with Radeon Graphics, instruction set [SSE2|AVX|AVX2]\n",
      "Thread count: 8 physical cores, 16 logical processors, using up to 16 threads\n",
      "\n",
      "Optimize a model with 23006 rows, 3936 columns and 474938 nonzeros\n",
      "Model fingerprint: 0x7a22198b\n",
      "Variable types: 1344 continuous, 2592 integer (2592 binary)\n",
      "Coefficient statistics:\n",
      "  Matrix range     [5e-07, 4e+02]\n",
      "  Objective range  [8e+00, 1e+03]\n",
      "  Bounds range     [1e+00, 1e+00]\n",
      "  RHS range        [2e-01, 3e+03]\n"
     ]
    },
    {
     "name": "stderr",
     "output_type": "stream",
     "text": [
      "\n"
     ]
    },
    {
     "name": "stdout",
     "output_type": "stream",
     "text": [
      "Presolve removed 4168 rows and 30 columns\n",
      "Presolve time: 0.64s\n",
      "Presolved: 18838 rows, 3906 columns, 310448 nonzeros\n",
      "Variable types: 1368 continuous, 2538 integer (2538 binary)\n",
      "\n",
      "Root relaxation: objective 5.354845e+05, 1334 iterations, 0.09 seconds (0.12 work units)\n",
      "\n",
      "    Nodes    |    Current Node    |     Objective Bounds      |     Work\n",
      " Expl Unexpl |  Obj  Depth IntInf | Incumbent    BestBd   Gap | It/Node Time\n",
      "\n",
      "     0     0 535484.483    0   23          - 535484.483      -     -    0s\n",
      "H    0     0                    1660852.6161 535484.483  67.8%     -    1s\n",
      "H    0     0                    535520.07100 535484.483  0.01%     -    1s\n",
      "\n",
      "Cutting planes:\n",
      "  Gomory: 1\n",
      "  MIR: 10\n",
      "  Flow cover: 55\n",
      "\n",
      "Explored 1 nodes (1549 simplex iterations) in 1.25 seconds (1.83 work units)\n",
      "Thread count was 16 (of 16 available processors)\n",
      "\n",
      "Solution count 2: 535520 1.66085e+06 \n",
      "\n",
      "Optimal solution found (tolerance 1.00e-04)\n",
      "Best objective 5.355200710038e+05, best bound 5.354844828615e+05, gap 0.0066%\n"
     ]
    },
    {
     "name": "stderr",
     "output_type": "stream",
     "text": [
      "100%|██████████| 57/57 [00:00<00:00, 533.85it/s]\n",
      "100%|██████████| 57/57 [00:00<00:00, 497.53it/s]\n",
      " 59%|█████▉    | 46/78 [22:10<14:55, 27.97s/it]"
     ]
    },
    {
     "name": "stdout",
     "output_type": "stream",
     "text": [
      "Warning for adding constraints: zero or small (< 1e-13) coefficients, ignored\n"
     ]
    },
    {
     "name": "stderr",
     "output_type": "stream",
     "text": [
      "Adding constraints...: 100%|██████████| 24/24 [00:25<00:00,  1.05s/it]"
     ]
    },
    {
     "name": "stdout",
     "output_type": "stream",
     "text": [
      "Gurobi Optimizer version 10.0.3 build v10.0.3rc0 (win64)\n",
      "\n",
      "CPU model: AMD Ryzen 7 5800H with Radeon Graphics, instruction set [SSE2|AVX|AVX2]\n",
      "Thread count: 8 physical cores, 16 logical processors, using up to 16 threads\n",
      "\n",
      "Optimize a model with 23006 rows, 3936 columns and 474938 nonzeros\n",
      "Model fingerprint: 0x6ed0d9e1\n",
      "Variable types: 1344 continuous, 2592 integer (2592 binary)\n",
      "Coefficient statistics:\n",
      "  Matrix range     [5e-07, 4e+02]\n",
      "  Objective range  [8e+00, 1e+03]\n",
      "  Bounds range     [1e+00, 1e+00]\n",
      "  RHS range        [9e-03, 3e+03]\n"
     ]
    },
    {
     "name": "stderr",
     "output_type": "stream",
     "text": [
      "\n"
     ]
    },
    {
     "name": "stdout",
     "output_type": "stream",
     "text": [
      "Presolve removed 4218 rows and 30 columns\n",
      "Presolve time: 0.60s\n",
      "Presolved: 18788 rows, 3906 columns, 308079 nonzeros\n",
      "Variable types: 1368 continuous, 2538 integer (2538 binary)\n",
      "\n",
      "Root relaxation: objective 6.134005e+05, 1738 iterations, 0.10 seconds (0.18 work units)\n",
      "\n",
      "    Nodes    |    Current Node    |     Objective Bounds      |     Work\n",
      " Expl Unexpl |  Obj  Depth IntInf | Incumbent    BestBd   Gap | It/Node Time\n",
      "\n",
      "     0     0 613400.524    0   38          - 613400.524      -     -    0s\n",
      "H    0     0                    1703018.0194 613400.524  64.0%     -    1s\n",
      "H    0     0                    725285.80862 613400.524  15.4%     -    1s\n",
      "H    0     0                    713369.46194 613400.524  14.0%     -    1s\n",
      "H    0     0                    613572.46112 613416.770  0.03%     -    1s\n",
      "     0     0 613416.770    0   23 613572.461 613416.770  0.03%     -    1s\n",
      "H    0     0                    613503.73812 613416.770  0.01%     -    1s\n",
      "     0     0 613416.770    0   23 613503.738 613416.770  0.01%     -    1s\n",
      "\n",
      "Cutting planes:\n",
      "  Learned: 1\n",
      "  Gomory: 3\n",
      "  Cover: 7\n",
      "  Implied bound: 4\n",
      "  MIR: 41\n",
      "  StrongCG: 1\n",
      "  Flow cover: 80\n",
      "  Flow path: 3\n",
      "\n",
      "Explored 1 nodes (2553 simplex iterations) in 1.77 seconds (2.56 work units)\n",
      "Thread count was 16 (of 16 available processors)\n",
      "\n",
      "Solution count 5: 613504 613572 713369 ... 1.70302e+06\n",
      "\n",
      "Optimal solution found (tolerance 1.00e-04)\n",
      "Best objective 6.135037381203e+05, best bound 6.134613091203e+05, gap 0.0069%\n"
     ]
    },
    {
     "name": "stderr",
     "output_type": "stream",
     "text": [
      "100%|██████████| 57/57 [00:00<00:00, 531.28it/s]\n",
      "100%|██████████| 57/57 [00:00<00:00, 539.08it/s]\n",
      " 60%|██████    | 47/78 [22:38<14:25, 27.91s/it]"
     ]
    },
    {
     "name": "stdout",
     "output_type": "stream",
     "text": [
      "Warning for adding constraints: zero or small (< 1e-13) coefficients, ignored\n"
     ]
    },
    {
     "name": "stderr",
     "output_type": "stream",
     "text": [
      "Adding constraints...: 100%|██████████| 24/24 [00:24<00:00,  1.03s/it]"
     ]
    },
    {
     "name": "stdout",
     "output_type": "stream",
     "text": [
      "Gurobi Optimizer version 10.0.3 build v10.0.3rc0 (win64)\n",
      "\n",
      "CPU model: AMD Ryzen 7 5800H with Radeon Graphics, instruction set [SSE2|AVX|AVX2]\n",
      "Thread count: 8 physical cores, 16 logical processors, using up to 16 threads\n"
     ]
    },
    {
     "name": "stderr",
     "output_type": "stream",
     "text": [
      "\n"
     ]
    },
    {
     "name": "stdout",
     "output_type": "stream",
     "text": [
      "\n",
      "Optimize a model with 23006 rows, 3936 columns and 474938 nonzeros\n",
      "Model fingerprint: 0xe860bbc4\n",
      "Variable types: 1344 continuous, 2592 integer (2592 binary)\n",
      "Coefficient statistics:\n",
      "  Matrix range     [5e-07, 4e+02]\n",
      "  Objective range  [8e+00, 1e+03]\n",
      "  Bounds range     [1e+00, 1e+00]\n",
      "  RHS range        [2e-01, 2e+03]\n",
      "Presolve removed 4221 rows and 30 columns\n",
      "Presolve time: 0.54s\n",
      "Presolved: 18785 rows, 3906 columns, 308289 nonzeros\n",
      "Variable types: 1368 continuous, 2538 integer (2538 binary)\n",
      "\n",
      "Root relaxation: objective 5.232934e+05, 1466 iterations, 0.10 seconds (0.15 work units)\n",
      "\n",
      "    Nodes    |    Current Node    |     Objective Bounds      |     Work\n",
      " Expl Unexpl |  Obj  Depth IntInf | Incumbent    BestBd   Gap | It/Node Time\n",
      "\n",
      "     0     0 523293.374    0   45          - 523293.374      -     -    0s\n",
      "H    0     0                    523521.19806 523293.374  0.04%     -    1s\n",
      "H    0     0                    523476.59006 523293.374  0.03%     -    1s\n",
      "     0     0 523322.446    0   25 523476.590 523322.446  0.03%     -    1s\n",
      "H    0     0                    523421.64310 523322.446  0.02%     -    1s\n",
      "H    0     0                    523409.67806 523330.730  0.02%     -    1s\n",
      "     0     0 523330.730    0   32 523409.678 523330.730  0.02%     -    1s\n",
      "     0     0 523330.730    0   32 523409.678 523330.730  0.02%     -    1s\n",
      "\n",
      "Cutting planes:\n",
      "  Learned: 1\n",
      "  Gomory: 5\n",
      "  Lift-and-project: 2\n",
      "  Cover: 19\n",
      "  Implied bound: 2\n",
      "  MIR: 42\n",
      "  Flow cover: 93\n",
      "  Flow path: 2\n",
      "  Relax-and-lift: 1\n",
      "\n",
      "Explored 1 nodes (2168 simplex iterations) in 1.69 seconds (2.48 work units)\n",
      "Thread count was 16 (of 16 available processors)\n",
      "\n",
      "Solution count 4: 523410 523422 523477 523521 \n",
      "\n",
      "Optimal solution found (tolerance 1.00e-04)\n",
      "Best objective 5.234096780617e+05, best bound 5.234040443353e+05, gap 0.0011%\n"
     ]
    },
    {
     "name": "stderr",
     "output_type": "stream",
     "text": [
      "100%|██████████| 57/57 [00:00<00:00, 494.59it/s]\n",
      "100%|██████████| 57/57 [00:00<00:00, 572.85it/s]\n",
      " 62%|██████▏   | 48/78 [23:05<13:51, 27.71s/it]"
     ]
    },
    {
     "name": "stdout",
     "output_type": "stream",
     "text": [
      "Warning for adding constraints: zero or small (< 1e-13) coefficients, ignored\n"
     ]
    },
    {
     "name": "stderr",
     "output_type": "stream",
     "text": [
      "Adding constraints...: 100%|██████████| 24/24 [00:24<00:00,  1.02s/it]"
     ]
    },
    {
     "name": "stdout",
     "output_type": "stream",
     "text": [
      "Gurobi Optimizer version 10.0.3 build v10.0.3rc0 (win64)\n",
      "\n",
      "CPU model: AMD Ryzen 7 5800H with Radeon Graphics, instruction set [SSE2|AVX|AVX2]\n",
      "Thread count: 8 physical cores, 16 logical processors, using up to 16 threads\n",
      "\n",
      "Optimize a model with 23006 rows, 3936 columns and 474938 nonzeros\n",
      "Model fingerprint: 0x56fe6a89\n",
      "Variable types: 1344 continuous, 2592 integer (2592 binary)\n",
      "Coefficient statistics:\n",
      "  Matrix range     [5e-07, 4e+02]\n",
      "  Objective range  [8e+00, 1e+03]\n",
      "  Bounds range     [1e+00, 1e+00]\n",
      "  RHS range        [4e-01, 2e+03]\n"
     ]
    },
    {
     "name": "stderr",
     "output_type": "stream",
     "text": [
      "\n"
     ]
    },
    {
     "name": "stdout",
     "output_type": "stream",
     "text": [
      "Presolve removed 4183 rows and 30 columns\n",
      "Presolve time: 0.57s\n",
      "Presolved: 18823 rows, 3906 columns, 309680 nonzeros\n",
      "Variable types: 1368 continuous, 2538 integer (2538 binary)\n",
      "\n",
      "Root relaxation: objective 4.703404e+05, 1483 iterations, 0.08 seconds (0.14 work units)\n",
      "\n",
      "    Nodes    |    Current Node    |     Objective Bounds      |     Work\n",
      " Expl Unexpl |  Obj  Depth IntInf | Incumbent    BestBd   Gap | It/Node Time\n",
      "\n",
      "     0     0 470340.388    0   39          - 470340.388      -     -    0s\n",
      "H    0     0                    543127.85501 470340.388  13.4%     -    1s\n",
      "H    0     0                    477270.59220 470366.941  1.45%     -    1s\n",
      "     0     0 470366.941    0   77 477270.592 470366.941  1.45%     -    1s\n",
      "H    0     0                    470622.23256 470366.941  0.05%     -    1s\n",
      "H    0     0                    470441.01492 470366.941  0.02%     -    1s\n",
      "     0     0 470379.543    0   49 470441.015 470379.543  0.01%     -    1s\n",
      "     0     0 470379.543    0   60 470441.015 470379.543  0.01%     -    1s\n",
      "     0     0 470394.706    0    1 470441.015 470394.706  0.01%     -    1s\n",
      "\n",
      "Cutting planes:\n",
      "  Learned: 2\n",
      "  Gomory: 2\n",
      "  Lift-and-project: 4\n",
      "  Implied bound: 3\n",
      "  MIR: 39\n",
      "  Flow cover: 55\n",
      "  RLT: 2\n",
      "  Relax-and-lift: 2\n",
      "\n",
      "Explored 1 nodes (2296 simplex iterations) in 1.79 seconds (2.50 work units)\n",
      "Thread count was 16 (of 16 available processors)\n",
      "\n",
      "Solution count 4: 470441 470622 477271 543128 \n",
      "\n",
      "Optimal solution found (tolerance 1.00e-04)\n",
      "Best objective 4.704410149157e+05, best bound 4.703947055631e+05, gap 0.0098%\n"
     ]
    },
    {
     "name": "stderr",
     "output_type": "stream",
     "text": [
      "100%|██████████| 57/57 [00:00<00:00, 535.20it/s]\n",
      "100%|██████████| 57/57 [00:00<00:00, 544.15it/s]\n",
      " 63%|██████▎   | 49/78 [23:32<13:18, 27.52s/it]"
     ]
    },
    {
     "name": "stdout",
     "output_type": "stream",
     "text": [
      "Warning for adding constraints: zero or small (< 1e-13) coefficients, ignored\n"
     ]
    },
    {
     "name": "stderr",
     "output_type": "stream",
     "text": [
      "Adding constraints...: 100%|██████████| 24/24 [00:24<00:00,  1.02s/it]"
     ]
    },
    {
     "name": "stdout",
     "output_type": "stream",
     "text": [
      "Gurobi Optimizer version 10.0.3 build v10.0.3rc0 (win64)\n",
      "\n",
      "CPU model: AMD Ryzen 7 5800H with Radeon Graphics, instruction set [SSE2|AVX|AVX2]\n",
      "Thread count: 8 physical cores, 16 logical processors, using up to 16 threads\n",
      "\n",
      "Optimize a model with 23006 rows, 3936 columns and 474938 nonzeros\n",
      "Model fingerprint: 0x131d61f0\n",
      "Variable types: 1344 continuous, 2592 integer (2592 binary)\n",
      "Coefficient statistics:\n",
      "  Matrix range     [5e-07, 4e+02]\n",
      "  Objective range  [8e+00, 1e+03]\n",
      "  Bounds range     [1e+00, 1e+00]\n",
      "  RHS range        [3e-01, 2e+03]\n"
     ]
    },
    {
     "name": "stderr",
     "output_type": "stream",
     "text": [
      "\n"
     ]
    },
    {
     "name": "stdout",
     "output_type": "stream",
     "text": [
      "Presolve removed 4173 rows and 30 columns\n",
      "Presolve time: 0.56s\n",
      "Presolved: 18833 rows, 3906 columns, 310116 nonzeros\n",
      "Variable types: 1368 continuous, 2538 integer (2538 binary)\n",
      "\n",
      "Root relaxation: objective 4.343886e+05, 1223 iterations, 0.05 seconds (0.10 work units)\n",
      "\n",
      "    Nodes    |    Current Node    |     Objective Bounds      |     Work\n",
      " Expl Unexpl |  Obj  Depth IntInf | Incumbent    BestBd   Gap | It/Node Time\n",
      "\n",
      "     0     0 434388.632    0   30          - 434388.632      -     -    0s\n",
      "H    0     0                    524850.56763 434388.632  17.2%     -    1s\n",
      "H    0     0                    464667.42289 434388.632  6.52%     -    1s\n",
      "H    0     0                    449057.67437 434388.632  3.27%     -    1s\n",
      "H    0     0                    434626.65673 434429.804  0.05%     -    1s\n",
      "     0     0 434429.804    0   45 434626.657 434429.804  0.05%     -    1s\n",
      "     0     0 434429.804    0   45 434626.657 434429.804  0.05%     -    1s\n",
      "\n",
      "Cutting planes:\n",
      "  Learned: 1\n",
      "  Gomory: 6\n",
      "  Lift-and-project: 2\n",
      "  Implied bound: 1\n",
      "  MIR: 25\n",
      "  Flow cover: 61\n",
      "  Flow path: 4\n",
      "  Relax-and-lift: 1\n",
      "\n",
      "Explored 1 nodes (2225 simplex iterations) in 1.80 seconds (2.57 work units)\n",
      "Thread count was 16 (of 16 available processors)\n",
      "\n",
      "Solution count 4: 434627 449058 464667 524851 \n",
      "\n",
      "Optimal solution found (tolerance 1.00e-04)\n",
      "Best objective 4.346266567257e+05, best bound 4.346187133499e+05, gap 0.0018%\n"
     ]
    },
    {
     "name": "stderr",
     "output_type": "stream",
     "text": [
      "100%|██████████| 57/57 [00:00<00:00, 508.44it/s]\n",
      "100%|██████████| 57/57 [00:00<00:00, 535.85it/s]\n",
      " 64%|██████▍   | 50/78 [23:59<12:47, 27.40s/it]"
     ]
    },
    {
     "name": "stdout",
     "output_type": "stream",
     "text": [
      "Warning for adding constraints: zero or small (< 1e-13) coefficients, ignored\n"
     ]
    },
    {
     "name": "stderr",
     "output_type": "stream",
     "text": [
      "Adding constraints...: 100%|██████████| 24/24 [00:29<00:00,  1.23s/it]"
     ]
    },
    {
     "name": "stdout",
     "output_type": "stream",
     "text": [
      "Gurobi Optimizer version 10.0.3 build v10.0.3rc0 (win64)\n",
      "\n",
      "CPU model: AMD Ryzen 7 5800H with Radeon Graphics, instruction set [SSE2|AVX|AVX2]\n",
      "Thread count: 8 physical cores, 16 logical processors, using up to 16 threads\n",
      "\n",
      "Optimize a model with 23006 rows, 3936 columns and 474938 nonzeros\n",
      "Model fingerprint: 0xd4939239\n",
      "Variable types: 1344 continuous, 2592 integer (2592 binary)\n",
      "Coefficient statistics:\n",
      "  Matrix range     [5e-07, 4e+02]\n",
      "  Objective range  [8e+00, 1e+03]\n",
      "  Bounds range     [1e+00, 1e+00]\n",
      "  RHS range        [7e-01, 3e+03]\n"
     ]
    },
    {
     "name": "stderr",
     "output_type": "stream",
     "text": [
      "\n"
     ]
    },
    {
     "name": "stdout",
     "output_type": "stream",
     "text": [
      "Presolve removed 4224 rows and 30 columns\n",
      "Presolve time: 0.58s\n",
      "Presolved: 18782 rows, 3906 columns, 307998 nonzeros\n",
      "Variable types: 1368 continuous, 2538 integer (2538 binary)\n",
      "\n",
      "Root relaxation: objective 5.451121e+05, 1653 iterations, 0.11 seconds (0.20 work units)\n",
      "\n",
      "    Nodes    |    Current Node    |     Objective Bounds      |     Work\n",
      " Expl Unexpl |  Obj  Depth IntInf | Incumbent    BestBd   Gap | It/Node Time\n",
      "\n",
      "     0     0 545112.093    0   32          - 545112.093      -     -    0s\n",
      "H    0     0                    545126.27923 545112.093  0.00%     -    1s\n",
      "\n",
      "Explored 1 nodes (1984 simplex iterations) in 1.12 seconds (1.80 work units)\n",
      "Thread count was 16 (of 16 available processors)\n",
      "\n",
      "Solution count 1: 545126 \n",
      "\n",
      "Optimal solution found (tolerance 1.00e-04)\n",
      "Best objective 5.451262792278e+05, best bound 5.451120926654e+05, gap 0.0026%\n"
     ]
    },
    {
     "name": "stderr",
     "output_type": "stream",
     "text": [
      "100%|██████████| 57/57 [00:00<00:00, 572.83it/s]\n",
      "100%|██████████| 57/57 [00:00<00:00, 559.01it/s]\n",
      " 65%|██████▌   | 51/78 [24:31<12:52, 28.61s/it]"
     ]
    },
    {
     "name": "stdout",
     "output_type": "stream",
     "text": [
      "Warning for adding constraints: zero or small (< 1e-13) coefficients, ignored\n"
     ]
    },
    {
     "name": "stderr",
     "output_type": "stream",
     "text": [
      "Adding constraints...: 100%|██████████| 24/24 [00:24<00:00,  1.04s/it]"
     ]
    },
    {
     "name": "stdout",
     "output_type": "stream",
     "text": [
      "Gurobi Optimizer version 10.0.3 build v10.0.3rc0 (win64)\n",
      "\n",
      "CPU model: AMD Ryzen 7 5800H with Radeon Graphics, instruction set [SSE2|AVX|AVX2]\n",
      "Thread count: 8 physical cores, 16 logical processors, using up to 16 threads\n",
      "\n",
      "Optimize a model with 23006 rows, 3936 columns and 474938 nonzeros\n",
      "Model fingerprint: 0xedb1e362\n",
      "Variable types: 1344 continuous, 2592 integer (2592 binary)\n",
      "Coefficient statistics:\n",
      "  Matrix range     [5e-07, 4e+02]\n",
      "  Objective range  [8e+00, 1e+03]\n",
      "  Bounds range     [1e+00, 1e+00]\n",
      "  RHS range        [1e-01, 2e+03]\n"
     ]
    },
    {
     "name": "stderr",
     "output_type": "stream",
     "text": [
      "\n"
     ]
    },
    {
     "name": "stdout",
     "output_type": "stream",
     "text": [
      "Presolve removed 4200 rows and 30 columns\n",
      "Presolve time: 0.55s\n",
      "Presolved: 18806 rows, 3906 columns, 309632 nonzeros\n",
      "Variable types: 1368 continuous, 2538 integer (2538 binary)\n",
      "\n",
      "Root relaxation: objective 4.334077e+05, 1422 iterations, 0.08 seconds (0.12 work units)\n",
      "\n",
      "    Nodes    |    Current Node    |     Objective Bounds      |     Work\n",
      " Expl Unexpl |  Obj  Depth IntInf | Incumbent    BestBd   Gap | It/Node Time\n",
      "\n",
      "     0     0 433407.692    0   45          - 433407.692      -     -    0s\n",
      "H    0     0                    2121532.3083 433407.692  79.6%     -    1s\n",
      "H    0     0                    441281.35012 433407.692  1.78%     -    1s\n",
      "     0     0 433430.313    0   23 441281.350 433430.313  1.78%     -    1s\n",
      "H    0     0                    433934.87405 433430.313  0.12%     -    1s\n",
      "     0     0 433430.313    0   23 433934.874 433430.313  0.12%     -    1s\n",
      "H    0     0                    433874.87405 433430.313  0.10%     -    1s\n",
      "H    0     0                    433864.74905 433697.997  0.04%     -    1s\n",
      "H    0     0                    433827.75678 433697.997  0.03%     -    1s\n",
      "     0     0 433700.354    0   38 433827.757 433700.354  0.03%     -    2s\n",
      "     0     0 433724.963    0    9 433827.757 433724.963  0.02%     -    2s\n",
      "     0     0 433725.697    0    9 433827.757 433725.697  0.02%     -    2s\n",
      "H    0     0                    433750.33778 433725.697  0.01%     -    2s\n",
      "\n",
      "Cutting planes:\n",
      "  Learned: 1\n",
      "  Gomory: 1\n",
      "  Cover: 2\n",
      "  MIR: 14\n",
      "  Flow cover: 47\n",
      "  Flow path: 1\n",
      "\n",
      "Explored 1 nodes (3032 simplex iterations) in 2.37 seconds (3.37 work units)\n",
      "Thread count was 16 (of 16 available processors)\n",
      "\n",
      "Solution count 7: 433750 433828 433865 ... 2.12153e+06\n",
      "\n",
      "Optimal solution found (tolerance 1.00e-04)\n",
      "Best objective 4.337503377755e+05, best bound 4.337280820728e+05, gap 0.0051%\n"
     ]
    },
    {
     "name": "stderr",
     "output_type": "stream",
     "text": [
      "100%|██████████| 57/57 [00:00<00:00, 534.40it/s]\n",
      "100%|██████████| 57/57 [00:00<00:00, 528.40it/s]\n",
      " 67%|██████▋   | 52/78 [24:59<12:20, 28.47s/it]"
     ]
    },
    {
     "name": "stdout",
     "output_type": "stream",
     "text": [
      "Warning for adding constraints: zero or small (< 1e-13) coefficients, ignored\n"
     ]
    },
    {
     "name": "stderr",
     "output_type": "stream",
     "text": [
      "Adding constraints...: 100%|██████████| 24/24 [00:24<00:00,  1.04s/it]"
     ]
    },
    {
     "name": "stdout",
     "output_type": "stream",
     "text": [
      "Gurobi Optimizer version 10.0.3 build v10.0.3rc0 (win64)\n",
      "\n",
      "CPU model: AMD Ryzen 7 5800H with Radeon Graphics, instruction set [SSE2|AVX|AVX2]\n",
      "Thread count: 8 physical cores, 16 logical processors, using up to 16 threads\n",
      "\n",
      "Optimize a model with 23006 rows, 3936 columns and 474938 nonzeros\n",
      "Model fingerprint: 0xf62e7541\n",
      "Variable types: 1344 continuous, 2592 integer (2592 binary)\n",
      "Coefficient statistics:\n",
      "  Matrix range     [5e-07, 4e+02]\n",
      "  Objective range  [8e+00, 1e+03]\n",
      "  Bounds range     [1e+00, 1e+00]\n",
      "  RHS range        [1e+00, 2e+03]\n"
     ]
    },
    {
     "name": "stderr",
     "output_type": "stream",
     "text": [
      "\n"
     ]
    },
    {
     "name": "stdout",
     "output_type": "stream",
     "text": [
      "Presolve removed 4115 rows and 30 columns\n",
      "Presolve time: 0.56s\n",
      "Presolved: 18891 rows, 3906 columns, 312272 nonzeros\n",
      "Variable types: 1368 continuous, 2538 integer (2538 binary)\n",
      "\n",
      "Root relaxation: objective 4.146393e+05, 1059 iterations, 0.05 seconds (0.08 work units)\n",
      "\n",
      "    Nodes    |    Current Node    |     Objective Bounds      |     Work\n",
      " Expl Unexpl |  Obj  Depth IntInf | Incumbent    BestBd   Gap | It/Node Time\n",
      "\n",
      "     0     0 414639.335    0   37          - 414639.335      -     -    0s\n",
      "H    0     0                    1540890.9989 414639.335  73.1%     -    1s\n",
      "H    0     0                    418916.94251 414639.335  1.02%     -    1s\n",
      "     0     0 414697.647    0   63 418916.943 414697.647  1.01%     -    1s\n",
      "H    0     0                    415960.55520 414697.647  0.30%     -    1s\n",
      "H    0     0                    415257.77520 414700.464  0.13%     -    1s\n",
      "     0     0 414700.464    0   63 415257.775 414700.464  0.13%     -    1s\n",
      "     0     0 415118.548    0   68 415257.775 415118.548  0.03%     -    2s\n",
      "H    0     0                    415123.95120 415123.951  0.00%     -    2s\n",
      "     0     0          -    0      415123.951 415123.951  0.00%     -    2s\n",
      "\n",
      "Cutting planes:\n",
      "  Gomory: 1\n",
      "  MIR: 11\n",
      "  Flow cover: 27\n",
      "  Flow path: 1\n",
      "\n",
      "Explored 1 nodes (2639 simplex iterations) in 2.26 seconds (3.19 work units)\n",
      "Thread count was 16 (of 16 available processors)\n",
      "\n",
      "Solution count 5: 415124 415258 415961 ... 1.54089e+06\n",
      "\n",
      "Optimal solution found (tolerance 1.00e-04)\n",
      "Best objective 4.151239512012e+05, best bound 4.151239512012e+05, gap 0.0000%\n"
     ]
    },
    {
     "name": "stderr",
     "output_type": "stream",
     "text": [
      "100%|██████████| 57/57 [00:00<00:00, 492.96it/s]\n",
      "100%|██████████| 57/57 [00:00<00:00, 537.00it/s]\n",
      " 68%|██████▊   | 53/78 [25:27<11:47, 28.31s/it]"
     ]
    },
    {
     "name": "stdout",
     "output_type": "stream",
     "text": [
      "Warning for adding constraints: zero or small (< 1e-13) coefficients, ignored\n"
     ]
    },
    {
     "name": "stderr",
     "output_type": "stream",
     "text": [
      "Adding constraints...: 100%|██████████| 24/24 [00:24<00:00,  1.02s/it]"
     ]
    },
    {
     "name": "stdout",
     "output_type": "stream",
     "text": [
      "Gurobi Optimizer version 10.0.3 build v10.0.3rc0 (win64)\n",
      "\n",
      "CPU model: AMD Ryzen 7 5800H with Radeon Graphics, instruction set [SSE2|AVX|AVX2]\n",
      "Thread count: 8 physical cores, 16 logical processors, using up to 16 threads\n",
      "\n",
      "Optimize a model with 23006 rows, 3936 columns and 474938 nonzeros\n",
      "Model fingerprint: 0xffe06168\n",
      "Variable types: 1344 continuous, 2592 integer (2592 binary)\n",
      "Coefficient statistics:\n",
      "  Matrix range     [5e-07, 4e+02]\n",
      "  Objective range  [8e+00, 1e+03]\n",
      "  Bounds range     [1e+00, 1e+00]\n",
      "  RHS range        [1e+00, 2e+03]\n"
     ]
    },
    {
     "name": "stderr",
     "output_type": "stream",
     "text": [
      "\n"
     ]
    },
    {
     "name": "stdout",
     "output_type": "stream",
     "text": [
      "Presolve removed 4174 rows and 30 columns\n",
      "Presolve time: 0.57s\n",
      "Presolved: 18832 rows, 3906 columns, 309797 nonzeros\n",
      "Variable types: 1368 continuous, 2538 integer (2538 binary)\n",
      "Found heuristic solution: objective 425809.84211\n",
      "\n",
      "Root relaxation: objective 2.818070e+05, 601 iterations, 0.04 seconds (0.04 work units)\n",
      "\n",
      "    Nodes    |    Current Node    |     Objective Bounds      |     Work\n",
      " Expl Unexpl |  Obj  Depth IntInf | Incumbent    BestBd   Gap | It/Node Time\n",
      "\n",
      "     0     0 281806.974    0   22 425809.842 281806.974  33.8%     -    0s\n",
      "H    0     0                    308416.02597 281806.974  8.63%     -    1s\n",
      "     0     0 281833.084    0   25 308416.026 281833.084  8.62%     -    1s\n",
      "H    0     0                    282381.31290 281833.084  0.19%     -    1s\n",
      "     0     0 282029.464    0   34 282381.313 282029.464  0.12%     -    1s\n",
      "     0     0 282029.464    0   23 282381.313 282029.464  0.12%     -    1s\n",
      "     0     0 282040.624    0   19 282381.313 282040.624  0.12%     -    1s\n",
      "     0     0 282047.475    0   32 282381.313 282047.475  0.12%     -    1s\n",
      "     0     0 282048.407    0   30 282381.313 282048.407  0.12%     -    2s\n",
      "     0     0 282056.647    0   19 282381.313 282056.647  0.11%     -    2s\n",
      "H    0     0                    282259.81023 282062.144  0.07%     -    2s\n",
      "     0     0 282064.314    0   16 282259.810 282064.314  0.07%     -    2s\n",
      "     0     0 282112.892    0   20 282259.810 282112.892  0.05%     -    2s\n",
      "H    0     0                    282200.81990 282112.892  0.03%     -    2s\n",
      "\n",
      "Cutting planes:\n",
      "  Gomory: 1\n",
      "  Implied bound: 1\n",
      "  MIR: 15\n",
      "  Flow cover: 29\n",
      "  RLT: 6\n",
      "  Relax-and-lift: 4\n",
      "\n",
      "Explored 1 nodes (1800 simplex iterations) in 2.80 seconds (3.48 work units)\n",
      "Thread count was 16 (of 16 available processors)\n",
      "\n",
      "Solution count 5: 282201 282260 282381 ... 425810\n",
      "\n",
      "Optimal solution found (tolerance 1.00e-04)\n",
      "Best objective 2.822008198978e+05, best bound 2.822008198978e+05, gap 0.0000%\n"
     ]
    },
    {
     "name": "stderr",
     "output_type": "stream",
     "text": [
      "100%|██████████| 57/57 [00:00<00:00, 566.75it/s]\n",
      "100%|██████████| 57/57 [00:00<00:00, 526.99it/s]\n",
      " 69%|██████▉   | 54/78 [25:55<11:17, 28.24s/it]"
     ]
    },
    {
     "name": "stdout",
     "output_type": "stream",
     "text": [
      "Warning for adding constraints: zero or small (< 1e-13) coefficients, ignored\n"
     ]
    },
    {
     "name": "stderr",
     "output_type": "stream",
     "text": [
      "Adding constraints...: 100%|██████████| 24/24 [00:24<00:00,  1.04s/it]"
     ]
    },
    {
     "name": "stdout",
     "output_type": "stream",
     "text": [
      "Gurobi Optimizer version 10.0.3 build v10.0.3rc0 (win64)\n",
      "\n",
      "CPU model: AMD Ryzen 7 5800H with Radeon Graphics, instruction set [SSE2|AVX|AVX2]\n",
      "Thread count: 8 physical cores, 16 logical processors, using up to 16 threads\n",
      "\n",
      "Optimize a model with 23006 rows, 3936 columns and 474938 nonzeros\n",
      "Model fingerprint: 0x1c3c607b\n",
      "Variable types: 1344 continuous, 2592 integer (2592 binary)\n",
      "Coefficient statistics:\n",
      "  Matrix range     [5e-07, 4e+02]\n",
      "  Objective range  [8e+00, 1e+03]\n",
      "  Bounds range     [1e+00, 1e+00]\n",
      "  RHS range        [2e-02, 2e+03]\n"
     ]
    },
    {
     "name": "stderr",
     "output_type": "stream",
     "text": [
      "\n"
     ]
    },
    {
     "name": "stdout",
     "output_type": "stream",
     "text": [
      "Presolve removed 4212 rows and 30 columns\n",
      "Presolve time: 0.55s\n",
      "Presolved: 18794 rows, 3906 columns, 308416 nonzeros\n",
      "Variable types: 1368 continuous, 2538 integer (2538 binary)\n",
      "\n",
      "Root relaxation: objective 4.967267e+05, 1952 iterations, 0.11 seconds (0.22 work units)\n",
      "\n",
      "    Nodes    |    Current Node    |     Objective Bounds      |     Work\n",
      " Expl Unexpl |  Obj  Depth IntInf | Incumbent    BestBd   Gap | It/Node Time\n",
      "\n",
      "     0     0 496726.742    0   45          - 496726.742      -     -    0s\n",
      "H    0     0                    507863.72738 496726.742  2.19%     -    1s\n",
      "     0     0 496793.903    0   15 507863.727 496793.903  2.18%     -    1s\n",
      "H    0     0                    496861.59615 496793.903  0.01%     -    1s\n",
      "H    0     0                    496851.59615 496793.903  0.01%     -    1s\n",
      "\n",
      "Cutting planes:\n",
      "  Gomory: 1\n",
      "  Cover: 2\n",
      "  Implied bound: 3\n",
      "  MIR: 28\n",
      "  Flow cover: 57\n",
      "  RLT: 5\n",
      "  Relax-and-lift: 1\n",
      "\n",
      "Explored 1 nodes (2800 simplex iterations) in 1.60 seconds (2.45 work units)\n",
      "Thread count was 16 (of 16 available processors)\n",
      "\n",
      "Solution count 3: 496852 496862 507864 \n",
      "\n",
      "Optimal solution found (tolerance 1.00e-04)\n",
      "Best objective 4.968515961522e+05, best bound 4.968515961522e+05, gap 0.0000%\n"
     ]
    },
    {
     "name": "stderr",
     "output_type": "stream",
     "text": [
      "100%|██████████| 57/57 [00:00<00:00, 525.86it/s]\n",
      "100%|██████████| 57/57 [00:00<00:00, 546.86it/s]\n",
      " 71%|███████   | 55/78 [26:22<10:43, 27.96s/it]"
     ]
    },
    {
     "name": "stdout",
     "output_type": "stream",
     "text": [
      "Warning for adding constraints: zero or small (< 1e-13) coefficients, ignored\n"
     ]
    },
    {
     "name": "stderr",
     "output_type": "stream",
     "text": [
      "Adding constraints...: 100%|██████████| 24/24 [00:25<00:00,  1.05s/it]"
     ]
    },
    {
     "name": "stdout",
     "output_type": "stream",
     "text": [
      "Gurobi Optimizer version 10.0.3 build v10.0.3rc0 (win64)\n",
      "\n",
      "CPU model: AMD Ryzen 7 5800H with Radeon Graphics, instruction set [SSE2|AVX|AVX2]\n",
      "Thread count: 8 physical cores, 16 logical processors, using up to 16 threads\n",
      "\n",
      "Optimize a model with 23006 rows, 3936 columns and 474938 nonzeros\n",
      "Model fingerprint: 0x3e01a5dc\n",
      "Variable types: 1344 continuous, 2592 integer (2592 binary)\n",
      "Coefficient statistics:\n",
      "  Matrix range     [5e-07, 4e+02]\n",
      "  Objective range  [8e+00, 1e+03]\n",
      "  Bounds range     [1e+00, 1e+00]\n",
      "  RHS range        [1e+00, 2e+03]\n"
     ]
    },
    {
     "name": "stderr",
     "output_type": "stream",
     "text": [
      "\n"
     ]
    },
    {
     "name": "stdout",
     "output_type": "stream",
     "text": [
      "Presolve removed 4180 rows and 30 columns\n",
      "Presolve time: 0.54s\n",
      "Presolved: 18826 rows, 3906 columns, 309585 nonzeros\n",
      "Variable types: 1368 continuous, 2538 integer (2538 binary)\n",
      "\n",
      "Root relaxation: objective 5.150490e+05, 1432 iterations, 0.07 seconds (0.14 work units)\n",
      "\n",
      "    Nodes    |    Current Node    |     Objective Bounds      |     Work\n",
      " Expl Unexpl |  Obj  Depth IntInf | Incumbent    BestBd   Gap | It/Node Time\n",
      "\n",
      "     0     0 515048.970    0   24          - 515048.970      -     -    0s\n",
      "H    0     0                    1836329.8296 515048.970  72.0%     -    1s\n",
      "H    0     0                    519405.39533 515048.970  0.84%     -    1s\n",
      "H    0     0                    516339.52927 515056.449  0.25%     -    1s\n",
      "     0     0 515056.449    0   58 516339.529 515056.449  0.25%     -    1s\n",
      "H    0     0                    515184.96063 515056.449  0.02%     -    1s\n",
      "H    0     0                    515167.20563 515060.036  0.02%     -    1s\n",
      "     0     0 515060.036    0   73 515167.206 515060.036  0.02%     -    1s\n",
      "     0     0 515060.036    0   73 515167.206 515060.036  0.02%     -    1s\n",
      "     0     0 515130.903    0   43 515167.206 515130.903  0.01%     -    1s\n",
      "\n",
      "Cutting planes:\n",
      "  Learned: 1\n",
      "  Gomory: 8\n",
      "  Lift-and-project: 7\n",
      "  Cover: 7\n",
      "  Implied bound: 4\n",
      "  MIR: 48\n",
      "  StrongCG: 1\n",
      "  Flow cover: 65\n",
      "  Flow path: 1\n",
      "  Relax-and-lift: 1\n",
      "\n",
      "Explored 1 nodes (2385 simplex iterations) in 1.70 seconds (2.47 work units)\n",
      "Thread count was 16 (of 16 available processors)\n",
      "\n",
      "Solution count 5: 515167 515185 516340 ... 1.83633e+06\n",
      "\n",
      "Optimal solution found (tolerance 1.00e-04)\n",
      "Best objective 5.151672056269e+05, best bound 5.151309034655e+05, gap 0.0070%\n"
     ]
    },
    {
     "name": "stderr",
     "output_type": "stream",
     "text": [
      "100%|██████████| 57/57 [00:00<00:00, 535.78it/s]\n",
      "100%|██████████| 57/57 [00:00<00:00, 563.26it/s]\n",
      " 72%|███████▏  | 56/78 [26:50<10:12, 27.84s/it]"
     ]
    },
    {
     "name": "stdout",
     "output_type": "stream",
     "text": [
      "Warning for adding constraints: zero or small (< 1e-13) coefficients, ignored\n"
     ]
    },
    {
     "name": "stderr",
     "output_type": "stream",
     "text": [
      "Adding constraints...: 100%|██████████| 24/24 [00:24<00:00,  1.03s/it]"
     ]
    },
    {
     "name": "stdout",
     "output_type": "stream",
     "text": [
      "Gurobi Optimizer version 10.0.3 build v10.0.3rc0 (win64)\n",
      "\n",
      "CPU model: AMD Ryzen 7 5800H with Radeon Graphics, instruction set [SSE2|AVX|AVX2]\n",
      "Thread count: 8 physical cores, 16 logical processors, using up to 16 threads\n",
      "\n",
      "Optimize a model with 23006 rows, 3936 columns and 474938 nonzeros\n",
      "Model fingerprint: 0xb450d9e2\n",
      "Variable types: 1344 continuous, 2592 integer (2592 binary)\n",
      "Coefficient statistics:\n",
      "  Matrix range     [5e-07, 4e+02]\n",
      "  Objective range  [8e+00, 1e+03]\n",
      "  Bounds range     [1e+00, 1e+00]\n",
      "  RHS range        [1e+00, 2e+03]\n"
     ]
    },
    {
     "name": "stderr",
     "output_type": "stream",
     "text": [
      "\n"
     ]
    },
    {
     "name": "stdout",
     "output_type": "stream",
     "text": [
      "Presolve removed 4149 rows and 30 columns\n",
      "Presolve time: 0.57s\n",
      "Presolved: 18857 rows, 3906 columns, 311356 nonzeros\n",
      "Variable types: 1368 continuous, 2538 integer (2538 binary)\n",
      "Found heuristic solution: objective 713822.41556\n",
      "\n",
      "Root relaxation: objective 3.622253e+05, 495 iterations, 0.03 seconds (0.03 work units)\n",
      "\n",
      "    Nodes    |    Current Node    |     Objective Bounds      |     Work\n",
      " Expl Unexpl |  Obj  Depth IntInf | Incumbent    BestBd   Gap | It/Node Time\n",
      "\n",
      "     0     0 362225.347    0   18 713822.416 362225.347  49.3%     -    0s\n",
      "H    0     0                    462061.67717 362225.347  21.6%     -    1s\n",
      "H    0     0                    438051.67490 362225.347  17.3%     -    1s\n",
      "H    0     0                    367979.41492 362225.347  1.56%     -    1s\n",
      "     0     0 362331.815    0   12 367979.415 362331.815  1.53%     -    1s\n",
      "H    0     0                    362796.56167 362331.815  0.13%     -    1s\n",
      "     0     0 362332.040    0   13 362796.562 362332.040  0.13%     -    1s\n",
      "H    0     0                    362339.55667 362332.040  0.00%     -    1s\n",
      "\n",
      "Cutting planes:\n",
      "  Gomory: 2\n",
      "  Lift-and-project: 1\n",
      "  MIR: 7\n",
      "  Flow cover: 20\n",
      "  Relax-and-lift: 3\n",
      "\n",
      "Explored 1 nodes (953 simplex iterations) in 1.53 seconds (2.26 work units)\n",
      "Thread count was 16 (of 16 available processors)\n",
      "\n",
      "Solution count 6: 362340 362797 367979 ... 713822\n",
      "\n",
      "Optimal solution found (tolerance 1.00e-04)\n",
      "Best objective 3.623395566726e+05, best bound 3.623395566726e+05, gap 0.0000%\n"
     ]
    },
    {
     "name": "stderr",
     "output_type": "stream",
     "text": [
      "100%|██████████| 57/57 [00:00<00:00, 515.19it/s]\n",
      "100%|██████████| 57/57 [00:00<00:00, 562.02it/s]\n",
      " 73%|███████▎  | 57/78 [27:17<09:39, 27.61s/it]"
     ]
    },
    {
     "name": "stdout",
     "output_type": "stream",
     "text": [
      "Warning for adding constraints: zero or small (< 1e-13) coefficients, ignored\n"
     ]
    },
    {
     "name": "stderr",
     "output_type": "stream",
     "text": [
      "Adding constraints...: 100%|██████████| 24/24 [00:24<00:00,  1.03s/it]"
     ]
    },
    {
     "name": "stdout",
     "output_type": "stream",
     "text": [
      "Gurobi Optimizer version 10.0.3 build v10.0.3rc0 (win64)\n",
      "\n",
      "CPU model: AMD Ryzen 7 5800H with Radeon Graphics, instruction set [SSE2|AVX|AVX2]\n",
      "Thread count: 8 physical cores, 16 logical processors, using up to 16 threads\n",
      "\n",
      "Optimize a model with 23006 rows, 3936 columns and 474938 nonzeros\n",
      "Model fingerprint: 0xbff036bd\n",
      "Variable types: 1344 continuous, 2592 integer (2592 binary)\n",
      "Coefficient statistics:\n",
      "  Matrix range     [5e-07, 4e+02]\n",
      "  Objective range  [8e+00, 1e+03]\n",
      "  Bounds range     [1e+00, 1e+00]\n",
      "  RHS range        [1e-01, 2e+03]\n"
     ]
    },
    {
     "name": "stderr",
     "output_type": "stream",
     "text": [
      "\n"
     ]
    },
    {
     "name": "stdout",
     "output_type": "stream",
     "text": [
      "Presolve removed 4139 rows and 30 columns\n",
      "Presolve time: 0.55s\n",
      "Presolved: 18867 rows, 3906 columns, 311347 nonzeros\n",
      "Variable types: 1368 continuous, 2538 integer (2538 binary)\n",
      "\n",
      "Root relaxation: objective 4.946063e+05, 1377 iterations, 0.07 seconds (0.14 work units)\n",
      "\n",
      "    Nodes    |    Current Node    |     Objective Bounds      |     Work\n",
      " Expl Unexpl |  Obj  Depth IntInf | Incumbent    BestBd   Gap | It/Node Time\n",
      "\n",
      "     0     0 494606.317    0   26          - 494606.317      -     -    0s\n",
      "H    0     0                    1663976.3196 494606.317  70.3%     -    1s\n",
      "H    0     0                    500135.49995 494606.317  1.11%     -    1s\n",
      "H    0     0                    498438.32376 494659.497  0.76%     -    1s\n",
      "     0     0 494659.497    0   55 498438.324 494659.497  0.76%     -    1s\n",
      "H    0     0                    494740.30480 494659.497  0.02%     -    1s\n",
      "     0     0 494728.327    0   30 494740.305 494728.327  0.00%     -    1s\n",
      "\n",
      "Cutting planes:\n",
      "  Gomory: 2\n",
      "  Lift-and-project: 5\n",
      "  Cover: 2\n",
      "  Implied bound: 1\n",
      "  MIR: 30\n",
      "  StrongCG: 1\n",
      "  Flow cover: 52\n",
      "  RLT: 2\n",
      "\n",
      "Explored 1 nodes (2640 simplex iterations) in 1.55 seconds (2.37 work units)\n",
      "Thread count was 16 (of 16 available processors)\n",
      "\n",
      "Solution count 4: 494740 498438 500135 1.66398e+06 \n",
      "\n",
      "Optimal solution found (tolerance 1.00e-04)\n",
      "Best objective 4.947403048030e+05, best bound 4.947283270421e+05, gap 0.0024%\n"
     ]
    },
    {
     "name": "stderr",
     "output_type": "stream",
     "text": [
      "100%|██████████| 57/57 [00:00<00:00, 575.74it/s]\n",
      "100%|██████████| 57/57 [00:00<00:00, 562.31it/s]\n",
      " 74%|███████▍  | 58/78 [27:44<09:09, 27.45s/it]"
     ]
    },
    {
     "name": "stdout",
     "output_type": "stream",
     "text": [
      "Warning for adding constraints: zero or small (< 1e-13) coefficients, ignored\n"
     ]
    },
    {
     "name": "stderr",
     "output_type": "stream",
     "text": [
      "Adding constraints...: 100%|██████████| 24/24 [00:30<00:00,  1.27s/it]"
     ]
    },
    {
     "name": "stdout",
     "output_type": "stream",
     "text": [
      "Gurobi Optimizer version 10.0.3 build v10.0.3rc0 (win64)\n",
      "\n",
      "CPU model: AMD Ryzen 7 5800H with Radeon Graphics, instruction set [SSE2|AVX|AVX2]\n",
      "Thread count: 8 physical cores, 16 logical processors, using up to 16 threads\n",
      "\n",
      "Optimize a model with 23006 rows, 3936 columns and 474938 nonzeros\n",
      "Model fingerprint: 0x55bb376f\n",
      "Variable types: 1344 continuous, 2592 integer (2592 binary)\n",
      "Coefficient statistics:\n",
      "  Matrix range     [5e-07, 4e+02]\n",
      "  Objective range  [8e+00, 1e+03]\n",
      "  Bounds range     [1e+00, 1e+00]\n",
      "  RHS range        [1e-01, 3e+03]\n"
     ]
    },
    {
     "name": "stderr",
     "output_type": "stream",
     "text": [
      "\n"
     ]
    },
    {
     "name": "stdout",
     "output_type": "stream",
     "text": [
      "Presolve removed 4352 rows and 30 columns\n",
      "Presolve time: 0.54s\n",
      "Presolved: 18654 rows, 3906 columns, 304002 nonzeros\n",
      "Variable types: 1368 continuous, 2538 integer (2538 binary)\n",
      "\n",
      "Root relaxation: objective 5.975268e+05, 1982 iterations, 0.11 seconds (0.22 work units)\n",
      "\n",
      "    Nodes    |    Current Node    |     Objective Bounds      |     Work\n",
      " Expl Unexpl |  Obj  Depth IntInf | Incumbent    BestBd   Gap | It/Node Time\n",
      "\n",
      "     0     0 597526.779    0   39          - 597526.779      -     -    0s\n",
      "H    0     0                    604220.88676 597526.779  1.11%     -    0s\n",
      "H    0     0                    597658.32573 597526.779  0.02%     -    1s\n",
      "     0     0 597539.114    0   54 597658.326 597539.114  0.02%     -    1s\n",
      "     0     0 597539.114    0   20 597658.326 597539.114  0.02%     -    1s\n",
      "     0     0 597540.582    0   60 597658.326 597540.582  0.02%     -    1s\n",
      "     0     0 597636.022    0    4 597658.326 597636.022  0.00%     -    1s\n",
      "\n",
      "Cutting planes:\n",
      "  Gomory: 11\n",
      "  Lift-and-project: 1\n",
      "  Cover: 13\n",
      "  MIR: 40\n",
      "  StrongCG: 1\n",
      "  Flow cover: 39\n",
      "  Relax-and-lift: 1\n",
      "\n",
      "Explored 1 nodes (5298 simplex iterations) in 1.72 seconds (2.47 work units)\n",
      "Thread count was 16 (of 16 available processors)\n",
      "\n",
      "Solution count 2: 597658 604221 \n",
      "\n",
      "Optimal solution found (tolerance 1.00e-04)\n",
      "Best objective 5.976583257325e+05, best bound 5.976360217325e+05, gap 0.0037%\n"
     ]
    },
    {
     "name": "stderr",
     "output_type": "stream",
     "text": [
      "100%|██████████| 57/57 [00:00<00:00, 514.95it/s]\n",
      "100%|██████████| 57/57 [00:00<00:00, 515.20it/s]\n",
      " 76%|███████▌  | 59/78 [28:17<09:13, 29.13s/it]"
     ]
    },
    {
     "name": "stdout",
     "output_type": "stream",
     "text": [
      "Warning for adding constraints: zero or small (< 1e-13) coefficients, ignored\n"
     ]
    },
    {
     "name": "stderr",
     "output_type": "stream",
     "text": [
      "Adding constraints...: 100%|██████████| 24/24 [00:24<00:00,  1.03s/it]"
     ]
    },
    {
     "name": "stdout",
     "output_type": "stream",
     "text": [
      "Gurobi Optimizer version 10.0.3 build v10.0.3rc0 (win64)\n",
      "\n",
      "CPU model: AMD Ryzen 7 5800H with Radeon Graphics, instruction set [SSE2|AVX|AVX2]\n",
      "Thread count: 8 physical cores, 16 logical processors, using up to 16 threads\n",
      "\n",
      "Optimize a model with 23006 rows, 3936 columns and 474938 nonzeros\n",
      "Model fingerprint: 0xfdb781f8\n",
      "Variable types: 1344 continuous, 2592 integer (2592 binary)\n",
      "Coefficient statistics:\n",
      "  Matrix range     [5e-07, 4e+02]\n",
      "  Objective range  [8e+00, 1e+03]\n",
      "  Bounds range     [1e+00, 1e+00]\n",
      "  RHS range        [1e-02, 3e+03]\n"
     ]
    },
    {
     "name": "stderr",
     "output_type": "stream",
     "text": [
      "\n"
     ]
    },
    {
     "name": "stdout",
     "output_type": "stream",
     "text": [
      "Presolve removed 4210 rows and 30 columns\n",
      "Presolve time: 0.55s\n",
      "Presolved: 18796 rows, 3906 columns, 308469 nonzeros\n",
      "Variable types: 1368 continuous, 2538 integer (2538 binary)\n",
      "\n",
      "Root relaxation: objective 5.917135e+05, 1751 iterations, 0.10 seconds (0.21 work units)\n",
      "\n",
      "    Nodes    |    Current Node    |     Objective Bounds      |     Work\n",
      " Expl Unexpl |  Obj  Depth IntInf | Incumbent    BestBd   Gap | It/Node Time\n",
      "\n",
      "     0     0 591713.491    0   38          - 591713.491      -     -    0s\n",
      "H    0     0                    1369437.8458 591713.491  56.8%     -    1s\n",
      "H    0     0                    617717.43468 591713.491  4.21%     -    1s\n",
      "H    0     0                    614383.24832 591713.491  3.69%     -    1s\n",
      "H    0     0                    591957.63284 591728.240  0.04%     -    1s\n",
      "     0     0 591728.240    0   71 591957.633 591728.240  0.04%     -    1s\n",
      "H    0     0                    591857.63284 591728.240  0.02%     -    1s\n",
      "     0     0 591728.240    0   83 591857.633 591728.240  0.02%     -    1s\n",
      "\n",
      "Cutting planes:\n",
      "  Gomory: 4\n",
      "  Lift-and-project: 2\n",
      "  Cover: 2\n",
      "  Implied bound: 3\n",
      "  MIR: 44\n",
      "  Flow cover: 81\n",
      "  Flow path: 3\n",
      "\n",
      "Explored 1 nodes (2874 simplex iterations) in 1.85 seconds (2.65 work units)\n",
      "Thread count was 16 (of 16 available processors)\n",
      "\n",
      "Solution count 5: 591858 591958 614383 ... 1.36944e+06\n",
      "\n",
      "Optimal solution found (tolerance 1.00e-04)\n",
      "Best objective 5.918576328421e+05, best bound 5.918464808421e+05, gap 0.0019%\n"
     ]
    },
    {
     "name": "stderr",
     "output_type": "stream",
     "text": [
      "100%|██████████| 57/57 [00:00<00:00, 582.32it/s]\n",
      "100%|██████████| 57/57 [00:00<00:00, 574.46it/s]\n",
      " 77%|███████▋  | 60/78 [28:44<08:34, 28.56s/it]"
     ]
    },
    {
     "name": "stdout",
     "output_type": "stream",
     "text": [
      "Warning for adding constraints: zero or small (< 1e-13) coefficients, ignored\n"
     ]
    },
    {
     "name": "stderr",
     "output_type": "stream",
     "text": [
      "Adding constraints...: 100%|██████████| 24/24 [00:24<00:00,  1.03s/it]"
     ]
    },
    {
     "name": "stdout",
     "output_type": "stream",
     "text": [
      "Gurobi Optimizer version 10.0.3 build v10.0.3rc0 (win64)\n",
      "\n",
      "CPU model: AMD Ryzen 7 5800H with Radeon Graphics, instruction set [SSE2|AVX|AVX2]\n",
      "Thread count: 8 physical cores, 16 logical processors, using up to 16 threads\n",
      "\n",
      "Optimize a model with 23006 rows, 3936 columns and 474938 nonzeros\n",
      "Model fingerprint: 0xa260634d\n",
      "Variable types: 1344 continuous, 2592 integer (2592 binary)\n",
      "Coefficient statistics:\n",
      "  Matrix range     [5e-07, 4e+02]\n",
      "  Objective range  [8e+00, 1e+03]\n",
      "  Bounds range     [1e+00, 1e+00]\n",
      "  RHS range        [1e+00, 2e+03]\n"
     ]
    },
    {
     "name": "stderr",
     "output_type": "stream",
     "text": [
      "\n"
     ]
    },
    {
     "name": "stdout",
     "output_type": "stream",
     "text": [
      "Presolve removed 4155 rows and 30 columns\n",
      "Presolve time: 0.56s\n",
      "Presolved: 18851 rows, 3906 columns, 310668 nonzeros\n",
      "Variable types: 1368 continuous, 2538 integer (2538 binary)\n",
      "\n",
      "Root relaxation: objective 4.188868e+05, 904 iterations, 0.05 seconds (0.06 work units)\n",
      "\n",
      "    Nodes    |    Current Node    |     Objective Bounds      |     Work\n",
      " Expl Unexpl |  Obj  Depth IntInf | Incumbent    BestBd   Gap | It/Node Time\n",
      "\n",
      "     0     0 418886.788    0   41          - 418886.788      -     -    0s\n",
      "H    0     0                    1506142.0422 418886.788  72.2%     -    1s\n",
      "H    0     0                    434388.10025 418886.788  3.57%     -    1s\n",
      "H    0     0                    423107.16056 418886.788  1.00%     -    1s\n",
      "     0     0 418956.490    0   47 423107.161 418956.490  0.98%     -    1s\n",
      "H    0     0                    419415.27161 418956.490  0.11%     -    1s\n",
      "H    0     0                    419214.31864 418956.490  0.06%     -    1s\n",
      "     0     0 419189.342    0   58 419214.319 419189.342  0.01%     -    1s\n",
      "\n",
      "Cutting planes:\n",
      "  Gomory: 6\n",
      "  Lift-and-project: 3\n",
      "  MIR: 29\n",
      "  Flow cover: 55\n",
      "  Flow path: 2\n",
      "\n",
      "Explored 1 nodes (2421 simplex iterations) in 1.88 seconds (2.81 work units)\n",
      "Thread count was 16 (of 16 available processors)\n",
      "\n",
      "Solution count 5: 419214 419415 423107 ... 1.50614e+06\n",
      "\n",
      "Optimal solution found (tolerance 1.00e-04)\n",
      "Best objective 4.192143186420e+05, best bound 4.191893423451e+05, gap 0.0060%\n"
     ]
    },
    {
     "name": "stderr",
     "output_type": "stream",
     "text": [
      "100%|██████████| 57/57 [00:00<00:00, 541.94it/s]\n",
      "100%|██████████| 57/57 [00:00<00:00, 530.10it/s]\n",
      " 78%|███████▊  | 61/78 [29:11<07:59, 28.20s/it]"
     ]
    },
    {
     "name": "stdout",
     "output_type": "stream",
     "text": [
      "Warning for adding constraints: zero or small (< 1e-13) coefficients, ignored\n"
     ]
    },
    {
     "name": "stderr",
     "output_type": "stream",
     "text": [
      "Adding constraints...: 100%|██████████| 24/24 [00:24<00:00,  1.03s/it]"
     ]
    },
    {
     "name": "stdout",
     "output_type": "stream",
     "text": [
      "Gurobi Optimizer version 10.0.3 build v10.0.3rc0 (win64)\n",
      "\n",
      "CPU model: AMD Ryzen 7 5800H with Radeon Graphics, instruction set [SSE2|AVX|AVX2]\n",
      "Thread count: 8 physical cores, 16 logical processors, using up to 16 threads\n",
      "\n",
      "Optimize a model with 23006 rows, 3936 columns and 474938 nonzeros\n",
      "Model fingerprint: 0x904b70fc\n",
      "Variable types: 1344 continuous, 2592 integer (2592 binary)\n",
      "Coefficient statistics:\n",
      "  Matrix range     [5e-07, 4e+02]\n",
      "  Objective range  [8e+00, 1e+03]\n",
      "  Bounds range     [1e+00, 1e+00]\n",
      "  RHS range        [1e+00, 2e+03]\n"
     ]
    },
    {
     "name": "stderr",
     "output_type": "stream",
     "text": [
      "\n"
     ]
    },
    {
     "name": "stdout",
     "output_type": "stream",
     "text": [
      "Presolve removed 4116 rows and 30 columns\n",
      "Presolve time: 0.54s\n",
      "Presolved: 18890 rows, 3906 columns, 311951 nonzeros\n",
      "Variable types: 1368 continuous, 2538 integer (2538 binary)\n",
      "Found heuristic solution: objective 419558.68638\n",
      "\n",
      "Root relaxation: objective 2.654222e+05, 235 iterations, 0.02 seconds (0.02 work units)\n",
      "\n",
      "    Nodes    |    Current Node    |     Objective Bounds      |     Work\n",
      " Expl Unexpl |  Obj  Depth IntInf | Incumbent    BestBd   Gap | It/Node Time\n",
      "\n",
      "     0     0 265422.187    0   25 419558.686 265422.187  36.7%     -    0s\n",
      "H    0     0                    265611.34278 265422.187  0.07%     -    0s\n",
      "     0     0          -    0      265611.343 265608.805  0.00%     -    1s\n",
      "\n",
      "Cutting planes:\n",
      "  Gomory: 3\n",
      "  Cover: 16\n",
      "  MIR: 20\n",
      "  Flow cover: 34\n",
      "  Relax-and-lift: 1\n",
      "\n",
      "Explored 1 nodes (375 simplex iterations) in 1.10 seconds (1.67 work units)\n",
      "Thread count was 16 (of 16 available processors)\n",
      "\n",
      "Solution count 2: 265611 419559 \n",
      "\n",
      "Optimal solution found (tolerance 1.00e-04)\n",
      "Best objective 2.656113427800e+05, best bound 2.656088049757e+05, gap 0.0010%\n"
     ]
    },
    {
     "name": "stderr",
     "output_type": "stream",
     "text": [
      "100%|██████████| 57/57 [00:00<00:00, 572.69it/s]\n",
      "100%|██████████| 57/57 [00:00<00:00, 575.61it/s]\n",
      " 79%|███████▉  | 62/78 [29:38<07:23, 27.69s/it]"
     ]
    },
    {
     "name": "stdout",
     "output_type": "stream",
     "text": [
      "Warning for adding constraints: zero or small (< 1e-13) coefficients, ignored\n"
     ]
    },
    {
     "name": "stderr",
     "output_type": "stream",
     "text": [
      "Adding constraints...: 100%|██████████| 24/24 [00:24<00:00,  1.03s/it]"
     ]
    },
    {
     "name": "stdout",
     "output_type": "stream",
     "text": [
      "Gurobi Optimizer version 10.0.3 build v10.0.3rc0 (win64)\n",
      "\n",
      "CPU model: AMD Ryzen 7 5800H with Radeon Graphics, instruction set [SSE2|AVX|AVX2]\n",
      "Thread count: 8 physical cores, 16 logical processors, using up to 16 threads\n",
      "\n",
      "Optimize a model with 23006 rows, 3936 columns and 474938 nonzeros\n",
      "Model fingerprint: 0x44b4bf12\n"
     ]
    },
    {
     "name": "stderr",
     "output_type": "stream",
     "text": [
      "\n"
     ]
    },
    {
     "name": "stdout",
     "output_type": "stream",
     "text": [
      "Variable types: 1344 continuous, 2592 integer (2592 binary)\n",
      "Coefficient statistics:\n",
      "  Matrix range     [5e-07, 4e+02]\n",
      "  Objective range  [8e+00, 1e+03]\n",
      "  Bounds range     [1e+00, 1e+00]\n",
      "  RHS range        [6e-01, 2e+03]\n",
      "Presolve removed 4137 rows and 30 columns\n",
      "Presolve time: 0.56s\n",
      "Presolved: 18869 rows, 3906 columns, 311993 nonzeros\n",
      "Variable types: 1368 continuous, 2538 integer (2538 binary)\n",
      "Found heuristic solution: objective 458678.66144\n",
      "\n",
      "Root relaxation: objective 3.124785e+05, 523 iterations, 0.03 seconds (0.03 work units)\n",
      "\n",
      "    Nodes    |    Current Node    |     Objective Bounds      |     Work\n",
      " Expl Unexpl |  Obj  Depth IntInf | Incumbent    BestBd   Gap | It/Node Time\n",
      "\n",
      "     0     0 312478.491    0   29 458678.661 312478.491  31.9%     -    0s\n",
      "H    0     0                    350167.20016 312478.491  10.8%     -    1s\n",
      "H    0     0                    315066.84809 312478.491  0.82%     -    1s\n",
      "     0     0 312684.826    0    8 315066.848 312684.826  0.76%     -    1s\n",
      "H    0     0                    312690.41820 312684.826  0.00%     -    1s\n",
      "\n",
      "Cutting planes:\n",
      "  Gomory: 1\n",
      "  MIR: 14\n",
      "  Flow cover: 33\n",
      "  Relax-and-lift: 2\n",
      "\n",
      "Explored 1 nodes (1265 simplex iterations) in 1.32 seconds (1.89 work units)\n",
      "Thread count was 16 (of 16 available processors)\n",
      "\n",
      "Solution count 4: 312690 315067 350167 458679 \n",
      "\n",
      "Optimal solution found (tolerance 1.00e-04)\n",
      "Best objective 3.126904181997e+05, best bound 3.126848263694e+05, gap 0.0018%\n"
     ]
    },
    {
     "name": "stderr",
     "output_type": "stream",
     "text": [
      "100%|██████████| 57/57 [00:00<00:00, 570.30it/s]\n",
      "100%|██████████| 57/57 [00:00<00:00, 526.77it/s]\n",
      " 81%|████████  | 63/78 [30:05<06:51, 27.45s/it]"
     ]
    },
    {
     "name": "stdout",
     "output_type": "stream",
     "text": [
      "Warning for adding constraints: zero or small (< 1e-13) coefficients, ignored\n"
     ]
    },
    {
     "name": "stderr",
     "output_type": "stream",
     "text": [
      "Adding constraints...: 100%|██████████| 24/24 [00:24<00:00,  1.03s/it]"
     ]
    },
    {
     "name": "stdout",
     "output_type": "stream",
     "text": [
      "Gurobi Optimizer version 10.0.3 build v10.0.3rc0 (win64)\n",
      "\n",
      "CPU model: AMD Ryzen 7 5800H with Radeon Graphics, instruction set [SSE2|AVX|AVX2]\n",
      "Thread count: 8 physical cores, 16 logical processors, using up to 16 threads\n",
      "\n",
      "Optimize a model with 23006 rows, 3936 columns and 474938 nonzeros\n",
      "Model fingerprint: 0x2ae5660a\n",
      "Variable types: 1344 continuous, 2592 integer (2592 binary)\n",
      "Coefficient statistics:\n",
      "  Matrix range     [5e-07, 4e+02]\n",
      "  Objective range  [8e+00, 1e+03]\n",
      "  Bounds range     [1e+00, 1e+00]\n",
      "  RHS range        [1e-01, 2e+03]\n"
     ]
    },
    {
     "name": "stderr",
     "output_type": "stream",
     "text": [
      "\n"
     ]
    },
    {
     "name": "stdout",
     "output_type": "stream",
     "text": [
      "Presolve removed 4212 rows and 30 columns\n",
      "Presolve time: 0.53s\n",
      "Presolved: 18794 rows, 3906 columns, 308289 nonzeros\n",
      "Variable types: 1368 continuous, 2538 integer (2538 binary)\n",
      "\n",
      "Root relaxation: objective 5.212953e+05, 1516 iterations, 0.09 seconds (0.16 work units)\n",
      "\n",
      "    Nodes    |    Current Node    |     Objective Bounds      |     Work\n",
      " Expl Unexpl |  Obj  Depth IntInf | Incumbent    BestBd   Gap | It/Node Time\n",
      "\n",
      "     0     0 521295.279    0   41          - 521295.279      -     -    0s\n",
      "H    0     0                    521440.60300 521295.279  0.03%     -    1s\n",
      "     0     0 521318.954    0   20 521440.603 521318.954  0.02%     -    1s\n",
      "     0     0 521318.954    0   43 521440.603 521318.954  0.02%     -    1s\n",
      "     0     0 521330.015    0   21 521440.603 521330.015  0.02%     -    1s\n",
      "H    0     0                    521411.12609 521330.015  0.02%     -    1s\n",
      "     0     0 521387.499    0   21 521411.126 521387.499  0.00%     -    1s\n",
      "\n",
      "Cutting planes:\n",
      "  Gomory: 6\n",
      "  Cover: 14\n",
      "  Implied bound: 1\n",
      "  MIR: 24\n",
      "  Flow cover: 38\n",
      "  GUB cover: 1\n",
      "  RLT: 1\n",
      "\n",
      "Explored 1 nodes (4574 simplex iterations) in 1.62 seconds (2.46 work units)\n",
      "Thread count was 16 (of 16 available processors)\n",
      "\n",
      "Solution count 2: 521411 521441 \n",
      "\n",
      "Optimal solution found (tolerance 1.00e-04)\n",
      "Best objective 5.214111260855e+05, best bound 5.213874991475e+05, gap 0.0045%\n"
     ]
    },
    {
     "name": "stderr",
     "output_type": "stream",
     "text": [
      "100%|██████████| 57/57 [00:00<00:00, 431.73it/s]\n",
      "100%|██████████| 57/57 [00:00<00:00, 559.95it/s]\n",
      " 82%|████████▏ | 64/78 [30:32<06:22, 27.36s/it]"
     ]
    },
    {
     "name": "stdout",
     "output_type": "stream",
     "text": [
      "Warning for adding constraints: zero or small (< 1e-13) coefficients, ignored\n"
     ]
    },
    {
     "name": "stderr",
     "output_type": "stream",
     "text": [
      "Adding constraints...: 100%|██████████| 24/24 [00:24<00:00,  1.03s/it]"
     ]
    },
    {
     "name": "stdout",
     "output_type": "stream",
     "text": [
      "Gurobi Optimizer version 10.0.3 build v10.0.3rc0 (win64)\n",
      "\n",
      "CPU model: AMD Ryzen 7 5800H with Radeon Graphics, instruction set [SSE2|AVX|AVX2]\n",
      "Thread count: 8 physical cores, 16 logical processors, using up to 16 threads\n",
      "\n",
      "Optimize a model with 23006 rows, 3936 columns and 474938 nonzeros\n",
      "Model fingerprint: 0x529ca6c6\n",
      "Variable types: 1344 continuous, 2592 integer (2592 binary)\n",
      "Coefficient statistics:\n",
      "  Matrix range     [5e-07, 4e+02]\n",
      "  Objective range  [8e+00, 1e+03]\n",
      "  Bounds range     [1e+00, 1e+00]\n",
      "  RHS range        [3e-01, 3e+03]\n"
     ]
    },
    {
     "name": "stderr",
     "output_type": "stream",
     "text": [
      "\n"
     ]
    },
    {
     "name": "stdout",
     "output_type": "stream",
     "text": [
      "Presolve removed 4223 rows and 30 columns\n",
      "Presolve time: 0.55s\n",
      "Presolved: 18783 rows, 3906 columns, 307890 nonzeros\n",
      "Variable types: 1368 continuous, 2538 integer (2538 binary)\n",
      "\n",
      "Root relaxation: objective 6.454668e+05, 1573 iterations, 0.08 seconds (0.16 work units)\n",
      "\n",
      "    Nodes    |    Current Node    |     Objective Bounds      |     Work\n",
      " Expl Unexpl |  Obj  Depth IntInf | Incumbent    BestBd   Gap | It/Node Time\n",
      "\n",
      "     0     0 645466.815    0   37          - 645466.815      -     -    0s\n",
      "H    0     0                    1494302.6281 645466.815  56.8%     -    1s\n",
      "H    0     0                    731621.21076 645466.815  11.8%     -    1s\n",
      "H    0     0                    645557.51979 645476.367  0.01%     -    1s\n",
      "     0     0 645476.367    0   17 645557.520 645476.367  0.01%     -    1s\n",
      "     0     0 645547.533    0    3 645557.520 645547.533  0.00%     -    1s\n",
      "\n",
      "Cutting planes:\n",
      "  Gomory: 1\n",
      "  Lift-and-project: 3\n",
      "  Cover: 3\n",
      "  Implied bound: 1\n",
      "  MIR: 26\n",
      "  StrongCG: 1\n",
      "  Flow cover: 56\n",
      "  Flow path: 7\n",
      "  Relax-and-lift: 1\n",
      "\n",
      "Explored 1 nodes (2729 simplex iterations) in 1.61 seconds (2.46 work units)\n",
      "Thread count was 16 (of 16 available processors)\n",
      "\n",
      "Solution count 3: 645558 731621 1.4943e+06 \n",
      "\n",
      "Optimal solution found (tolerance 1.00e-04)\n",
      "Best objective 6.455575197889e+05, best bound 6.455475326366e+05, gap 0.0015%\n"
     ]
    },
    {
     "name": "stderr",
     "output_type": "stream",
     "text": [
      "100%|██████████| 57/57 [00:00<00:00, 577.22it/s]\n",
      "100%|██████████| 57/57 [00:00<00:00, 533.74it/s]\n",
      " 83%|████████▎ | 65/78 [30:59<05:54, 27.26s/it]"
     ]
    },
    {
     "name": "stdout",
     "output_type": "stream",
     "text": [
      "Warning for adding constraints: zero or small (< 1e-13) coefficients, ignored\n"
     ]
    },
    {
     "name": "stderr",
     "output_type": "stream",
     "text": [
      "Adding constraints...: 100%|██████████| 24/24 [00:24<00:00,  1.03s/it]"
     ]
    },
    {
     "name": "stdout",
     "output_type": "stream",
     "text": [
      "Gurobi Optimizer version 10.0.3 build v10.0.3rc0 (win64)\n",
      "\n",
      "CPU model: AMD Ryzen 7 5800H with Radeon Graphics, instruction set [SSE2|AVX|AVX2]\n",
      "Thread count: 8 physical cores, 16 logical processors, using up to 16 threads\n",
      "\n",
      "Optimize a model with 23006 rows, 3936 columns and 474938 nonzeros\n",
      "Model fingerprint: 0x7ce84fb3\n",
      "Variable types: 1344 continuous, 2592 integer (2592 binary)\n",
      "Coefficient statistics:\n",
      "  Matrix range     [5e-07, 4e+02]\n",
      "  Objective range  [8e+00, 1e+03]\n",
      "  Bounds range     [1e+00, 1e+00]\n",
      "  RHS range        [1e+00, 2e+03]\n"
     ]
    },
    {
     "name": "stderr",
     "output_type": "stream",
     "text": [
      "\n"
     ]
    },
    {
     "name": "stdout",
     "output_type": "stream",
     "text": [
      "Presolve removed 4152 rows and 30 columns\n",
      "Presolve time: 0.56s\n",
      "Presolved: 18854 rows, 3906 columns, 310656 nonzeros\n",
      "Variable types: 1368 continuous, 2538 integer (2538 binary)\n",
      "\n",
      "Root relaxation: objective 4.492890e+05, 1294 iterations, 0.06 seconds (0.11 work units)\n",
      "\n",
      "    Nodes    |    Current Node    |     Objective Bounds      |     Work\n",
      " Expl Unexpl |  Obj  Depth IntInf | Incumbent    BestBd   Gap | It/Node Time\n",
      "\n",
      "     0     0 449288.986    0   29          - 449288.986      -     -    0s\n",
      "H    0     0                    1193015.8512 449288.986  62.3%     -    1s\n",
      "H    0     0                    482050.03210 449288.986  6.80%     -    1s\n",
      "H    0     0                    481827.96460 449288.986  6.75%     -    1s\n",
      "H    0     0                    460483.28713 449288.986  2.43%     -    1s\n",
      "     0     0 449316.930    0   30 460483.287 449316.930  2.42%     -    1s\n",
      "H    0     0                    449442.80554 449316.930  0.03%     -    1s\n",
      "H    0     0                    449387.49025 449323.201  0.01%     -    1s\n",
      "     0     0 449380.769    0   37 449387.490 449380.769  0.00%     -    1s\n",
      "\n",
      "Cutting planes:\n",
      "  Learned: 1\n",
      "  Gomory: 5\n",
      "  Implied bound: 1\n",
      "  MIR: 14\n",
      "  Flow cover: 31\n",
      "  RLT: 2\n",
      "\n",
      "Explored 1 nodes (2161 simplex iterations) in 1.59 seconds (2.22 work units)\n",
      "Thread count was 16 (of 16 available processors)\n",
      "\n",
      "Solution count 6: 449387 449443 460483 ... 1.19302e+06\n",
      "\n",
      "Optimal solution found (tolerance 1.00e-04)\n",
      "Best objective 4.493874902525e+05, best bound 4.493807690196e+05, gap 0.0015%\n"
     ]
    },
    {
     "name": "stderr",
     "output_type": "stream",
     "text": [
      "100%|██████████| 57/57 [00:00<00:00, 541.67it/s]\n",
      "100%|██████████| 57/57 [00:00<00:00, 518.55it/s]\n",
      " 85%|████████▍ | 66/78 [31:26<05:26, 27.19s/it]"
     ]
    },
    {
     "name": "stdout",
     "output_type": "stream",
     "text": [
      "Warning for adding constraints: zero or small (< 1e-13) coefficients, ignored\n"
     ]
    },
    {
     "name": "stderr",
     "output_type": "stream",
     "text": [
      "Adding constraints...: 100%|██████████| 24/24 [00:24<00:00,  1.03s/it]"
     ]
    },
    {
     "name": "stdout",
     "output_type": "stream",
     "text": [
      "Gurobi Optimizer version 10.0.3 build v10.0.3rc0 (win64)\n",
      "\n",
      "CPU model: AMD Ryzen 7 5800H with Radeon Graphics, instruction set [SSE2|AVX|AVX2]\n",
      "Thread count: 8 physical cores, 16 logical processors, using up to 16 threads\n",
      "\n",
      "Optimize a model with 23006 rows, 3936 columns and 474938 nonzeros\n",
      "Model fingerprint: 0xbd5230a3\n",
      "Variable types: 1344 continuous, 2592 integer (2592 binary)\n",
      "Coefficient statistics:\n",
      "  Matrix range     [5e-07, 4e+02]\n",
      "  Objective range  [8e+00, 1e+03]\n",
      "  Bounds range     [1e+00, 1e+00]\n",
      "  RHS range        [2e-01, 3e+03]\n"
     ]
    },
    {
     "name": "stderr",
     "output_type": "stream",
     "text": [
      "\n"
     ]
    },
    {
     "name": "stdout",
     "output_type": "stream",
     "text": [
      "Presolve removed 4304 rows and 30 columns\n",
      "Presolve time: 0.55s\n",
      "Presolved: 18702 rows, 3906 columns, 304326 nonzeros\n",
      "Variable types: 1368 continuous, 2538 integer (2538 binary)\n",
      "\n",
      "Root relaxation: objective 5.953918e+05, 1670 iterations, 0.08 seconds (0.17 work units)\n",
      "\n",
      "    Nodes    |    Current Node    |     Objective Bounds      |     Work\n",
      " Expl Unexpl |  Obj  Depth IntInf | Incumbent    BestBd   Gap | It/Node Time\n",
      "\n",
      "     0     0 595391.804    0   36          - 595391.804      -     -    0s\n",
      "H    0     0                    599638.43904 595391.804  0.71%     -    0s\n",
      "H    0     0                    595704.42173 595391.804  0.05%     -    1s\n",
      "     0     0 595405.424    0   24 595704.422 595405.424  0.05%     -    1s\n",
      "H    0     0                    595537.50973 595405.424  0.02%     -    1s\n",
      "\n",
      "Cutting planes:\n",
      "  Gomory: 5\n",
      "  Lift-and-project: 1\n",
      "  Cover: 3\n",
      "  MIR: 26\n",
      "  Flow cover: 71\n",
      "  Flow path: 5\n",
      "\n",
      "Explored 1 nodes (2879 simplex iterations) in 1.80 seconds (2.57 work units)\n",
      "Thread count was 16 (of 16 available processors)\n",
      "\n",
      "Solution count 3: 595538 595704 599638 \n",
      "\n",
      "Optimal solution found (tolerance 1.00e-04)\n",
      "Best objective 5.955375097283e+05, best bound 5.954954379655e+05, gap 0.0071%\n"
     ]
    },
    {
     "name": "stderr",
     "output_type": "stream",
     "text": [
      "100%|██████████| 57/57 [00:00<00:00, 527.71it/s]\n",
      "100%|██████████| 57/57 [00:00<00:00, 523.27it/s]\n",
      " 86%|████████▌ | 67/78 [31:53<04:59, 27.23s/it]"
     ]
    },
    {
     "name": "stdout",
     "output_type": "stream",
     "text": [
      "Warning for adding constraints: zero or small (< 1e-13) coefficients, ignored\n"
     ]
    },
    {
     "name": "stderr",
     "output_type": "stream",
     "text": [
      "Adding constraints...: 100%|██████████| 24/24 [00:31<00:00,  1.31s/it]"
     ]
    },
    {
     "name": "stdout",
     "output_type": "stream",
     "text": [
      "Gurobi Optimizer version 10.0.3 build v10.0.3rc0 (win64)\n",
      "\n",
      "CPU model: AMD Ryzen 7 5800H with Radeon Graphics, instruction set [SSE2|AVX|AVX2]\n",
      "Thread count: 8 physical cores, 16 logical processors, using up to 16 threads\n",
      "\n",
      "Optimize a model with 23006 rows, 3936 columns and 474938 nonzeros\n",
      "Model fingerprint: 0xa1744222\n",
      "Variable types: 1344 continuous, 2592 integer (2592 binary)\n",
      "Coefficient statistics:\n",
      "  Matrix range     [5e-07, 4e+02]\n",
      "  Objective range  [8e+00, 1e+03]\n",
      "  Bounds range     [1e+00, 1e+00]\n",
      "  RHS range        [1e+00, 2e+03]\n"
     ]
    },
    {
     "name": "stderr",
     "output_type": "stream",
     "text": [
      "\n"
     ]
    },
    {
     "name": "stdout",
     "output_type": "stream",
     "text": [
      "Presolve removed 4194 rows and 30 columns\n",
      "Presolve time: 0.56s\n",
      "Presolved: 18812 rows, 3906 columns, 308956 nonzeros\n",
      "Variable types: 1368 continuous, 2538 integer (2538 binary)\n",
      "\n",
      "Root relaxation: objective 4.076199e+05, 657 iterations, 0.03 seconds (0.04 work units)\n",
      "\n",
      "    Nodes    |    Current Node    |     Objective Bounds      |     Work\n",
      " Expl Unexpl |  Obj  Depth IntInf | Incumbent    BestBd   Gap | It/Node Time\n",
      "\n",
      "     0     0 407619.895    0   13          - 407619.895      -     -    0s\n",
      "H    0     0                    1660940.8705 407619.895  75.5%     -    1s\n",
      "H    0     0                    482764.85815 407619.895  15.6%     -    1s\n",
      "H    0     0                    410692.75499 407619.895  0.75%     -    1s\n",
      "     0     0 407654.772    0   11 410692.755 407654.772  0.74%     -    1s\n",
      "H    0     0                    408195.88124 407654.772  0.13%     -    1s\n",
      "H    0     0                    407950.82724 407654.772  0.07%     -    1s\n",
      "     0     0 407876.598    0   31 407950.827 407876.598  0.02%     -    1s\n",
      "     0     0 407876.598    0   20 407950.827 407876.598  0.02%     -    1s\n",
      "     0     0 407877.471    0   15 407950.827 407877.471  0.02%     -    1s\n",
      "H    0     0                    407911.73454 407877.471  0.01%     -    1s\n",
      "     0     0 407877.471    0   16 407911.735 407877.471  0.01%     -    1s\n",
      "\n",
      "Cutting planes:\n",
      "  Gomory: 2\n",
      "  MIR: 2\n",
      "  StrongCG: 1\n",
      "  Flow cover: 15\n",
      "  Flow path: 2\n",
      "\n",
      "Explored 1 nodes (1573 simplex iterations) in 1.91 seconds (2.60 work units)\n",
      "Thread count was 16 (of 16 available processors)\n",
      "\n",
      "Solution count 6: 407912 407951 408196 ... 1.66094e+06\n",
      "\n",
      "Optimal solution found (tolerance 1.00e-04)\n",
      "Best objective 4.079117345353e+05, best bound 4.078774712263e+05, gap 0.0084%\n"
     ]
    },
    {
     "name": "stderr",
     "output_type": "stream",
     "text": [
      "100%|██████████| 57/57 [00:00<00:00, 513.13it/s]\n",
      "100%|██████████| 57/57 [00:00<00:00, 517.87it/s]\n",
      " 87%|████████▋ | 68/78 [32:27<04:52, 29.29s/it]"
     ]
    },
    {
     "name": "stdout",
     "output_type": "stream",
     "text": [
      "Warning for adding constraints: zero or small (< 1e-13) coefficients, ignored\n"
     ]
    },
    {
     "name": "stderr",
     "output_type": "stream",
     "text": [
      "Adding constraints...: 100%|██████████| 24/24 [00:24<00:00,  1.03s/it]"
     ]
    },
    {
     "name": "stdout",
     "output_type": "stream",
     "text": [
      "Gurobi Optimizer version 10.0.3 build v10.0.3rc0 (win64)\n",
      "\n",
      "CPU model: AMD Ryzen 7 5800H with Radeon Graphics, instruction set [SSE2|AVX|AVX2]\n",
      "Thread count: 8 physical cores, 16 logical processors, using up to 16 threads\n",
      "\n",
      "Optimize a model with 23006 rows, 3936 columns and 474938 nonzeros\n",
      "Model fingerprint: 0x692fe7b3\n",
      "Variable types: 1344 continuous, 2592 integer (2592 binary)\n",
      "Coefficient statistics:\n",
      "  Matrix range     [5e-07, 4e+02]\n",
      "  Objective range  [8e+00, 1e+03]\n",
      "  Bounds range     [1e+00, 1e+00]\n",
      "  RHS range        [8e-01, 2e+03]\n"
     ]
    },
    {
     "name": "stderr",
     "output_type": "stream",
     "text": [
      "\n"
     ]
    },
    {
     "name": "stdout",
     "output_type": "stream",
     "text": [
      "Presolve removed 4165 rows and 30 columns\n",
      "Presolve time: 0.55s\n",
      "Presolved: 18841 rows, 3906 columns, 310290 nonzeros\n",
      "Variable types: 1368 continuous, 2538 integer (2538 binary)\n",
      "Found heuristic solution: objective 565974.73544\n",
      "\n",
      "Root relaxation: objective 2.953045e+05, 713 iterations, 0.04 seconds (0.05 work units)\n",
      "\n",
      "    Nodes    |    Current Node    |     Objective Bounds      |     Work\n",
      " Expl Unexpl |  Obj  Depth IntInf | Incumbent    BestBd   Gap | It/Node Time\n",
      "\n",
      "     0     0 295304.533    0   33 565974.735 295304.533  47.8%     -    0s\n",
      "H    0     0                    536017.58390 295524.447  44.9%     -    1s\n",
      "     0     0 295524.447    0   23 536017.584 295524.447  44.9%     -    1s\n",
      "H    0     0                    298041.68032 295524.447  0.84%     -    1s\n",
      "H    0     0                    295882.04154 295524.895  0.12%     -    1s\n",
      "     0     0 295764.413    0   57 295882.042 295764.413  0.04%     -    1s\n",
      "     0     0 295801.884    0   47 295882.042 295801.884  0.03%     -    1s\n",
      "     0     0 295853.331    0   30 295882.042 295853.331  0.01%     -    1s\n",
      "\n",
      "Cutting planes:\n",
      "  MIR: 5\n",
      "  Flow cover: 21\n",
      "  Relax-and-lift: 1\n",
      "\n",
      "Explored 1 nodes (2130 simplex iterations) in 1.68 seconds (2.48 work units)\n",
      "Thread count was 16 (of 16 available processors)\n",
      "\n",
      "Solution count 4: 295882 298042 536018 565975 \n",
      "\n",
      "Optimal solution found (tolerance 1.00e-04)\n",
      "Best objective 2.958820415361e+05, best bound 2.958533308695e+05, gap 0.0097%\n"
     ]
    },
    {
     "name": "stderr",
     "output_type": "stream",
     "text": [
      "100%|██████████| 57/57 [00:00<00:00, 570.34it/s]\n",
      "100%|██████████| 57/57 [00:00<00:00, 552.55it/s]\n",
      " 88%|████████▊ | 69/78 [32:55<04:18, 28.69s/it]"
     ]
    },
    {
     "name": "stdout",
     "output_type": "stream",
     "text": [
      "Warning for adding constraints: zero or small (< 1e-13) coefficients, ignored\n"
     ]
    },
    {
     "name": "stderr",
     "output_type": "stream",
     "text": [
      "Adding constraints...: 100%|██████████| 24/24 [00:24<00:00,  1.03s/it]"
     ]
    },
    {
     "name": "stdout",
     "output_type": "stream",
     "text": [
      "Gurobi Optimizer version 10.0.3 build v10.0.3rc0 (win64)\n",
      "\n",
      "CPU model: AMD Ryzen 7 5800H with Radeon Graphics, instruction set [SSE2|AVX|AVX2]\n",
      "Thread count: 8 physical cores, 16 logical processors, using up to 16 threads\n",
      "\n",
      "Optimize a model with 23006 rows, 3936 columns and 474938 nonzeros\n",
      "Model fingerprint: 0xa3ad2c9a\n",
      "Variable types: 1344 continuous, 2592 integer (2592 binary)\n",
      "Coefficient statistics:\n",
      "  Matrix range     [5e-07, 4e+02]\n",
      "  Objective range  [8e+00, 1e+03]\n",
      "  Bounds range     [1e+00, 1e+00]\n",
      "  RHS range        [1e+00, 2e+03]\n"
     ]
    },
    {
     "name": "stderr",
     "output_type": "stream",
     "text": [
      "\n"
     ]
    },
    {
     "name": "stdout",
     "output_type": "stream",
     "text": [
      "Presolve removed 4191 rows and 30 columns\n",
      "Presolve time: 0.58s\n",
      "Presolved: 18815 rows, 3906 columns, 308981 nonzeros\n",
      "Variable types: 1368 continuous, 2538 integer (2538 binary)\n",
      "Found heuristic solution: objective 553622.69556\n",
      "\n",
      "Root relaxation: objective 3.905034e+05, 391 iterations, 0.03 seconds (0.03 work units)\n",
      "\n",
      "    Nodes    |    Current Node    |     Objective Bounds      |     Work\n",
      " Expl Unexpl |  Obj  Depth IntInf | Incumbent    BestBd   Gap | It/Node Time\n",
      "\n",
      "     0     0 390503.396    0   28 553622.696 390503.396  29.5%     -    0s\n",
      "H    0     0                    417379.51698 390503.396  6.44%     -    1s\n",
      "H    0     0                    404822.96496 390503.396  3.54%     -    1s\n",
      "     0     0 390781.203    0   14 404822.965 390781.203  3.47%     -    1s\n",
      "H    0     0                    390880.71311 390781.203  0.03%     -    1s\n",
      "H    0     0                    390880.71181 390781.203  0.03%     -    1s\n",
      "     0     0 390875.087    0   17 390880.712 390875.087  0.00%     -    1s\n",
      "\n",
      "Cutting planes:\n",
      "  Cover: 2\n",
      "  MIR: 10\n",
      "  StrongCG: 2\n",
      "  Flow cover: 27\n",
      "  Relax-and-lift: 2\n",
      "\n",
      "Explored 1 nodes (770 simplex iterations) in 1.44 seconds (2.05 work units)\n",
      "Thread count was 16 (of 16 available processors)\n",
      "\n",
      "Solution count 5: 390881 390881 404823 ... 553623\n",
      "\n",
      "Optimal solution found (tolerance 1.00e-04)\n",
      "Best objective 3.908807118076e+05, best bound 3.908750873812e+05, gap 0.0014%\n"
     ]
    },
    {
     "name": "stderr",
     "output_type": "stream",
     "text": [
      "100%|██████████| 57/57 [00:00<00:00, 495.11it/s]\n",
      "100%|██████████| 57/57 [00:00<00:00, 545.30it/s]\n",
      " 90%|████████▉ | 70/78 [33:22<03:45, 28.17s/it]"
     ]
    },
    {
     "name": "stdout",
     "output_type": "stream",
     "text": [
      "Warning for adding constraints: zero or small (< 1e-13) coefficients, ignored\n"
     ]
    },
    {
     "name": "stderr",
     "output_type": "stream",
     "text": [
      "Adding constraints...: 100%|██████████| 24/24 [00:24<00:00,  1.03s/it]"
     ]
    },
    {
     "name": "stdout",
     "output_type": "stream",
     "text": [
      "Gurobi Optimizer version 10.0.3 build v10.0.3rc0 (win64)\n",
      "\n",
      "CPU model: AMD Ryzen 7 5800H with Radeon Graphics, instruction set [SSE2|AVX|AVX2]\n",
      "Thread count: 8 physical cores, 16 logical processors, using up to 16 threads\n",
      "\n",
      "Optimize a model with 23006 rows, 3936 columns and 474938 nonzeros\n",
      "Model fingerprint: 0xd2b3eb28\n",
      "Variable types: 1344 continuous, 2592 integer (2592 binary)\n",
      "Coefficient statistics:\n",
      "  Matrix range     [5e-07, 4e+02]\n",
      "  Objective range  [8e+00, 1e+03]\n",
      "  Bounds range     [1e+00, 1e+00]\n",
      "  RHS range        [4e-01, 2e+03]\n"
     ]
    },
    {
     "name": "stderr",
     "output_type": "stream",
     "text": [
      "\n"
     ]
    },
    {
     "name": "stdout",
     "output_type": "stream",
     "text": [
      "Presolve removed 4176 rows and 30 columns\n",
      "Presolve time: 0.55s\n",
      "Presolved: 18830 rows, 3906 columns, 310392 nonzeros\n",
      "Variable types: 1368 continuous, 2538 integer (2538 binary)\n",
      "\n",
      "Root relaxation: objective 4.443501e+05, 1288 iterations, 0.07 seconds (0.11 work units)\n",
      "\n",
      "    Nodes    |    Current Node    |     Objective Bounds      |     Work\n",
      " Expl Unexpl |  Obj  Depth IntInf | Incumbent    BestBd   Gap | It/Node Time\n",
      "\n",
      "     0     0 444350.136    0   28          - 444350.136      -     -    0s\n",
      "H    0     0                    1636099.3388 444350.136  72.8%     -    1s\n",
      "H    0     0                    526417.80964 444350.136  15.6%     -    1s\n",
      "H    0     0                    504460.02600 444350.136  11.9%     -    1s\n",
      "H    0     0                    450033.71139 444394.981  1.25%     -    1s\n",
      "     0     0 444394.981    0   43 450033.711 444394.981  1.25%     -    1s\n",
      "H    0     0                    444567.29095 444394.981  0.04%     -    1s\n",
      "H    0     0                    444515.59190 444394.981  0.03%     -    1s\n",
      "H    0     0                    444492.95772 444394.981  0.02%     -    1s\n",
      "\n",
      "Cutting planes:\n",
      "  Learned: 1\n",
      "  Gomory: 12\n",
      "  Lift-and-project: 1\n",
      "  Implied bound: 2\n",
      "  MIR: 42\n",
      "  StrongCG: 1\n",
      "  Flow cover: 73\n",
      "  Flow path: 2\n",
      "  RLT: 2\n",
      "\n",
      "Explored 1 nodes (2132 simplex iterations) in 1.75 seconds (2.52 work units)\n",
      "Thread count was 16 (of 16 available processors)\n",
      "\n",
      "Solution count 7: 444493 444516 444567 ... 1.6361e+06\n",
      "\n",
      "Optimal solution found (tolerance 1.00e-04)\n",
      "Best objective 4.444929577155e+05, best bound 4.444929577155e+05, gap 0.0000%\n"
     ]
    },
    {
     "name": "stderr",
     "output_type": "stream",
     "text": [
      "100%|██████████| 57/57 [00:00<00:00, 503.43it/s]\n",
      "100%|██████████| 57/57 [00:00<00:00, 499.21it/s]\n",
      " 91%|█████████ | 71/78 [33:49<03:15, 27.93s/it]"
     ]
    },
    {
     "name": "stdout",
     "output_type": "stream",
     "text": [
      "Warning for adding constraints: zero or small (< 1e-13) coefficients, ignored\n"
     ]
    },
    {
     "name": "stderr",
     "output_type": "stream",
     "text": [
      "Adding constraints...: 100%|██████████| 24/24 [00:24<00:00,  1.04s/it]"
     ]
    },
    {
     "name": "stdout",
     "output_type": "stream",
     "text": [
      "Gurobi Optimizer version 10.0.3 build v10.0.3rc0 (win64)\n",
      "\n",
      "CPU model: AMD Ryzen 7 5800H with Radeon Graphics, instruction set [SSE2|AVX|AVX2]\n",
      "Thread count: 8 physical cores, 16 logical processors, using up to 16 threads\n",
      "\n",
      "Optimize a model with 23006 rows, 3936 columns and 474938 nonzeros\n",
      "Model fingerprint: 0xe064e6df\n",
      "Variable types: 1344 continuous, 2592 integer (2592 binary)\n",
      "Coefficient statistics:\n",
      "  Matrix range     [5e-07, 4e+02]\n",
      "  Objective range  [8e+00, 1e+03]\n",
      "  Bounds range     [1e+00, 1e+00]\n",
      "  RHS range        [1e+00, 2e+03]\n"
     ]
    },
    {
     "name": "stderr",
     "output_type": "stream",
     "text": [
      "\n"
     ]
    },
    {
     "name": "stdout",
     "output_type": "stream",
     "text": [
      "Presolve removed 4162 rows and 30 columns\n",
      "Presolve time: 0.55s\n",
      "Presolved: 18844 rows, 3906 columns, 310217 nonzeros\n",
      "Variable types: 1368 continuous, 2538 integer (2538 binary)\n",
      "\n",
      "Root relaxation: objective 3.915569e+05, 737 iterations, 0.03 seconds (0.05 work units)\n",
      "\n",
      "    Nodes    |    Current Node    |     Objective Bounds      |     Work\n",
      " Expl Unexpl |  Obj  Depth IntInf | Incumbent    BestBd   Gap | It/Node Time\n",
      "\n",
      "     0     0 391556.905    0   39          - 391556.905      -     -    0s\n",
      "H    0     0                    392638.21884 391556.905  0.28%     -    0s\n",
      "     0     0 391601.936    0   34 392638.219 391601.936  0.26%     -    1s\n",
      "H    0     0                    392181.22805 391601.936  0.15%     -    1s\n",
      "     0     0 391605.027    0   33 392181.228 391605.027  0.15%     -    1s\n",
      "H    0     0                    392069.70805 391696.707  0.10%     -    1s\n",
      "     0     0 391697.928    0   51 392069.708 391697.928  0.09%     -    2s\n",
      "     0     0 391698.854    0   45 392069.708 391698.854  0.09%     -    2s\n",
      "     0     0 391737.234    0   45 392069.708 391737.234  0.08%     -    2s\n",
      "     0     0 391834.303    0   94 392069.708 391834.303  0.06%     -    3s\n",
      "     0     0 391837.568    0   76 392069.708 391837.568  0.06%     -    3s\n",
      "     0     0 391837.849    0   75 392069.708 391837.849  0.06%     -    3s\n",
      "     0     0 391838.014    0   78 392069.708 391838.014  0.06%     -    3s\n",
      "     0     0 391838.446    0   60 392069.708 391838.446  0.06%     -    3s\n",
      "     0     0 391838.458    0   61 392069.708 391838.458  0.06%     -    3s\n",
      "     0     0 391860.364    0   93 392069.708 391860.364  0.05%     -    3s\n",
      "     0     0 391911.204    0   61 392069.708 391911.204  0.04%     -    4s\n",
      "     0     0 391920.830    0   86 392069.708 391920.830  0.04%     -    4s\n",
      "     0     0 391947.545    0   69 392069.708 391947.545  0.03%     -    4s\n",
      "     0     0 391947.545    0   69 392069.708 391947.545  0.03%     -    4s\n",
      "     0     0 391964.487    0   81 392069.708 391964.487  0.03%     -    4s\n",
      "     0     0 391964.487    0   45 392069.708 391964.487  0.03%     -    5s\n",
      "     0     0 391964.487    0   20 392069.708 391964.487  0.03%     -    5s\n",
      "     0     0 391964.487    0   14 392069.708 391964.487  0.03%     -    5s\n",
      "     0     0 391964.487    0   13 392069.708 391964.487  0.03%     -    5s\n",
      "     0     0 391964.487    0   13 392069.708 391964.487  0.03%     -    5s\n",
      "     0     0 391972.664    0   65 392069.708 391972.664  0.02%     -    5s\n",
      "     0     0 391972.668    0   64 392069.708 391972.668  0.02%     -    5s\n",
      "     0     0 391975.319    0   33 392069.708 391975.319  0.02%     -    5s\n",
      "     0     0     cutoff    0      392069.708 392069.708  0.00%     -    5s\n",
      "\n",
      "Cutting planes:\n",
      "  Lift-and-project: 2\n",
      "  Cover: 1\n",
      "  Implied bound: 12\n",
      "  MIR: 16\n",
      "  Flow cover: 24\n",
      "  RLT: 7\n",
      "  Relax-and-lift: 2\n",
      "\n",
      "Explored 1 nodes (4228 simplex iterations) in 5.20 seconds (5.23 work units)\n",
      "Thread count was 16 (of 16 available processors)\n",
      "\n",
      "Solution count 3: 392070 392181 392638 \n",
      "\n",
      "Optimal solution found (tolerance 1.00e-04)\n",
      "Best objective 3.920697080529e+05, best bound 3.920697080529e+05, gap 0.0000%\n"
     ]
    },
    {
     "name": "stderr",
     "output_type": "stream",
     "text": [
      "100%|██████████| 57/57 [00:00<00:00, 524.34it/s]\n",
      "100%|██████████| 57/57 [00:00<00:00, 545.20it/s]\n",
      " 92%|█████████▏| 72/78 [34:20<02:52, 28.81s/it]"
     ]
    },
    {
     "name": "stdout",
     "output_type": "stream",
     "text": [
      "Warning for adding constraints: zero or small (< 1e-13) coefficients, ignored\n"
     ]
    },
    {
     "name": "stderr",
     "output_type": "stream",
     "text": [
      "Adding constraints...: 100%|██████████| 24/24 [00:25<00:00,  1.04s/it]"
     ]
    },
    {
     "name": "stdout",
     "output_type": "stream",
     "text": [
      "Gurobi Optimizer version 10.0.3 build v10.0.3rc0 (win64)\n",
      "\n",
      "CPU model: AMD Ryzen 7 5800H with Radeon Graphics, instruction set [SSE2|AVX|AVX2]\n",
      "Thread count: 8 physical cores, 16 logical processors, using up to 16 threads\n",
      "\n",
      "Optimize a model with 23006 rows, 3936 columns and 474938 nonzeros\n",
      "Model fingerprint: 0x95d70219\n",
      "Variable types: 1344 continuous, 2592 integer (2592 binary)\n",
      "Coefficient statistics:\n",
      "  Matrix range     [5e-07, 4e+02]\n",
      "  Objective range  [8e+00, 1e+03]\n",
      "  Bounds range     [1e+00, 1e+00]\n",
      "  RHS range        [1e+00, 2e+03]\n"
     ]
    },
    {
     "name": "stderr",
     "output_type": "stream",
     "text": [
      "\n"
     ]
    },
    {
     "name": "stdout",
     "output_type": "stream",
     "text": [
      "Presolve removed 4145 rows and 30 columns\n",
      "Presolve time: 0.55s\n",
      "Presolved: 18861 rows, 3906 columns, 311734 nonzeros\n",
      "Variable types: 1368 continuous, 2538 integer (2538 binary)\n",
      "Found heuristic solution: objective 579205.46885\n",
      "\n",
      "Root relaxation: objective 2.733695e+05, 271 iterations, 0.02 seconds (0.02 work units)\n",
      "\n",
      "    Nodes    |    Current Node    |     Objective Bounds      |     Work\n",
      " Expl Unexpl |  Obj  Depth IntInf | Incumbent    BestBd   Gap | It/Node Time\n",
      "\n",
      "     0     0 273369.450    0   25 579205.469 273369.450  52.8%     -    0s\n",
      "H    0     0                    273406.80764 273369.450  0.01%     -    0s\n",
      "     0     0     cutoff    0      273406.808 273406.808  0.00%     -    1s\n",
      "\n",
      "Cutting planes:\n",
      "  Gomory: 1\n",
      "  MIR: 1\n",
      "  Flow cover: 2\n",
      "\n",
      "Explored 1 nodes (327 simplex iterations) in 1.07 seconds (1.59 work units)\n",
      "Thread count was 16 (of 16 available processors)\n",
      "\n",
      "Solution count 2: 273407 579205 \n",
      "\n",
      "Optimal solution found (tolerance 1.00e-04)\n",
      "Best objective 2.734068076408e+05, best bound 2.734068076408e+05, gap 0.0000%\n"
     ]
    },
    {
     "name": "stderr",
     "output_type": "stream",
     "text": [
      "100%|██████████| 57/57 [00:00<00:00, 481.49it/s]\n",
      "100%|██████████| 57/57 [00:00<00:00, 501.69it/s]\n",
      " 94%|█████████▎| 73/78 [34:47<02:21, 28.23s/it]"
     ]
    },
    {
     "name": "stdout",
     "output_type": "stream",
     "text": [
      "Warning for adding constraints: zero or small (< 1e-13) coefficients, ignored\n"
     ]
    },
    {
     "name": "stderr",
     "output_type": "stream",
     "text": [
      "Adding constraints...: 100%|██████████| 24/24 [00:25<00:00,  1.05s/it]"
     ]
    },
    {
     "name": "stdout",
     "output_type": "stream",
     "text": [
      "Gurobi Optimizer version 10.0.3 build v10.0.3rc0 (win64)\n",
      "\n",
      "CPU model: AMD Ryzen 7 5800H with Radeon Graphics, instruction set [SSE2|AVX|AVX2]\n",
      "Thread count: 8 physical cores, 16 logical processors, using up to 16 threads\n",
      "\n",
      "Optimize a model with 23006 rows, 3936 columns and 474938 nonzeros\n",
      "Model fingerprint: 0x8e814393\n",
      "Variable types: 1344 continuous, 2592 integer (2592 binary)\n",
      "Coefficient statistics:\n",
      "  Matrix range     [5e-07, 4e+02]\n",
      "  Objective range  [8e+00, 1e+03]\n",
      "  Bounds range     [1e+00, 1e+00]\n",
      "  RHS range        [9e-01, 2e+03]\n"
     ]
    },
    {
     "name": "stderr",
     "output_type": "stream",
     "text": [
      "\n"
     ]
    },
    {
     "name": "stdout",
     "output_type": "stream",
     "text": [
      "Presolve removed 4253 rows and 30 columns\n",
      "Presolve time: 0.58s\n",
      "Presolved: 18753 rows, 3906 columns, 307467 nonzeros\n",
      "Variable types: 1368 continuous, 2538 integer (2538 binary)\n",
      "Found heuristic solution: objective 464321.79240\n",
      "\n",
      "Root relaxation: objective 3.124978e+05, 557 iterations, 0.03 seconds (0.08 work units)\n",
      "\n",
      "    Nodes    |    Current Node    |     Objective Bounds      |     Work\n",
      " Expl Unexpl |  Obj  Depth IntInf | Incumbent    BestBd   Gap | It/Node Time\n",
      "\n",
      "     0     0 312497.795    0   41 464321.792 312497.795  32.7%     -    0s\n",
      "H    0     0                    321134.10540 312497.795  2.69%     -    1s\n",
      "H    0     0                    321020.15777 312497.795  2.65%     -    1s\n",
      "H    0     0                    313557.07753 312951.873  0.19%     -    1s\n",
      "     0     0 312951.873    0   55 313557.078 312951.873  0.19%     -    1s\n",
      "H    0     0                    313319.24645 313025.000  0.09%     -    1s\n",
      "H    0     0                    313048.18395 313025.000  0.01%     -    1s\n",
      "     0     0 313031.966    0   41 313048.184 313031.966  0.01%     -    1s\n",
      "\n",
      "Cutting planes:\n",
      "  Gomory: 1\n",
      "  MIR: 2\n",
      "  Flow cover: 22\n",
      "  Relax-and-lift: 3\n",
      "\n",
      "Explored 1 nodes (2085 simplex iterations) in 1.76 seconds (2.40 work units)\n",
      "Thread count was 16 (of 16 available processors)\n",
      "\n",
      "Solution count 6: 313048 313319 313557 ... 464322\n",
      "\n",
      "Optimal solution found (tolerance 1.00e-04)\n",
      "Best objective 3.130481839548e+05, best bound 3.130319657083e+05, gap 0.0052%\n"
     ]
    },
    {
     "name": "stderr",
     "output_type": "stream",
     "text": [
      "100%|██████████| 57/57 [00:00<00:00, 501.04it/s]\n",
      "100%|██████████| 57/57 [00:00<00:00, 520.95it/s]\n",
      " 95%|█████████▍| 74/78 [35:15<01:52, 28.10s/it]"
     ]
    },
    {
     "name": "stdout",
     "output_type": "stream",
     "text": [
      "Warning for adding constraints: zero or small (< 1e-13) coefficients, ignored\n"
     ]
    },
    {
     "name": "stderr",
     "output_type": "stream",
     "text": [
      "Adding constraints...: 100%|██████████| 24/24 [00:24<00:00,  1.04s/it]"
     ]
    },
    {
     "name": "stdout",
     "output_type": "stream",
     "text": [
      "Gurobi Optimizer version 10.0.3 build v10.0.3rc0 (win64)\n",
      "\n",
      "CPU model: AMD Ryzen 7 5800H with Radeon Graphics, instruction set [SSE2|AVX|AVX2]\n",
      "Thread count: 8 physical cores, 16 logical processors, using up to 16 threads\n",
      "\n",
      "Optimize a model with 23006 rows, 3936 columns and 474938 nonzeros\n",
      "Model fingerprint: 0xaa72b486\n",
      "Variable types: 1344 continuous, 2592 integer (2592 binary)\n",
      "Coefficient statistics:\n",
      "  Matrix range     [5e-07, 4e+02]\n",
      "  Objective range  [8e+00, 1e+03]\n",
      "  Bounds range     [1e+00, 1e+00]\n",
      "  RHS range        [1e+00, 2e+03]\n"
     ]
    },
    {
     "name": "stderr",
     "output_type": "stream",
     "text": [
      "\n"
     ]
    },
    {
     "name": "stdout",
     "output_type": "stream",
     "text": [
      "Presolve removed 4303 rows and 30 columns\n",
      "Presolve time: 0.55s\n",
      "Presolved: 18703 rows, 3906 columns, 304277 nonzeros\n",
      "Variable types: 1368 continuous, 2538 integer (2538 binary)\n",
      "\n",
      "Root relaxation: objective 3.043921e+05, 815 iterations, 0.05 seconds (0.05 work units)\n",
      "\n",
      "    Nodes    |    Current Node    |     Objective Bounds      |     Work\n",
      " Expl Unexpl |  Obj  Depth IntInf | Incumbent    BestBd   Gap | It/Node Time\n",
      "\n",
      "     0     0 304392.132    0   28          - 304392.132      -     -    0s\n",
      "H    0     0                    305129.43841 304392.132  0.24%     -    0s\n",
      "H    0     0                    304714.09353 304392.132  0.11%     -    1s\n",
      "     0     0     cutoff    0      304714.094 304714.094  0.00%     -    1s\n",
      "\n",
      "Cutting planes:\n",
      "  Gomory: 6\n",
      "  MIR: 26\n",
      "  Flow cover: 37\n",
      "\n",
      "Explored 1 nodes (1423 simplex iterations) in 1.37 seconds (1.99 work units)\n",
      "Thread count was 16 (of 16 available processors)\n",
      "\n",
      "Solution count 2: 304714 305129 \n",
      "\n",
      "Optimal solution found (tolerance 1.00e-04)\n",
      "Best objective 3.047140935344e+05, best bound 3.047140935344e+05, gap 0.0000%\n"
     ]
    },
    {
     "name": "stderr",
     "output_type": "stream",
     "text": [
      "100%|██████████| 57/57 [00:00<00:00, 456.48it/s]\n",
      "100%|██████████| 57/57 [00:00<00:00, 451.85it/s]\n",
      " 96%|█████████▌| 75/78 [35:42<01:23, 27.81s/it]"
     ]
    },
    {
     "name": "stdout",
     "output_type": "stream",
     "text": [
      "Warning for adding constraints: zero or small (< 1e-13) coefficients, ignored\n"
     ]
    },
    {
     "name": "stderr",
     "output_type": "stream",
     "text": [
      "Adding constraints...: 100%|██████████| 24/24 [00:24<00:00,  1.04s/it]"
     ]
    },
    {
     "name": "stdout",
     "output_type": "stream",
     "text": [
      "Gurobi Optimizer version 10.0.3 build v10.0.3rc0 (win64)\n",
      "\n",
      "CPU model: AMD Ryzen 7 5800H with Radeon Graphics, instruction set [SSE2|AVX|AVX2]\n",
      "Thread count: 8 physical cores, 16 logical processors, using up to 16 threads\n",
      "\n",
      "Optimize a model with 23006 rows, 3936 columns and 474938 nonzeros\n",
      "Model fingerprint: 0x85774e2e\n",
      "Variable types: 1344 continuous, 2592 integer (2592 binary)\n",
      "Coefficient statistics:\n",
      "  Matrix range     [5e-07, 4e+02]\n",
      "  Objective range  [8e+00, 1e+03]\n",
      "  Bounds range     [1e+00, 1e+00]\n",
      "  RHS range        [1e+00, 2e+03]\n"
     ]
    },
    {
     "name": "stderr",
     "output_type": "stream",
     "text": [
      "\n"
     ]
    },
    {
     "name": "stdout",
     "output_type": "stream",
     "text": [
      "Presolve removed 4096 rows and 30 columns\n",
      "Presolve time: 0.61s\n",
      "Presolved: 18910 rows, 3906 columns, 313182 nonzeros\n",
      "Variable types: 1368 continuous, 2538 integer (2538 binary)\n",
      "Found heuristic solution: objective 399380.40622\n",
      "\n",
      "Root relaxation: objective 2.619908e+05, 271 iterations, 0.01 seconds (0.02 work units)\n",
      "\n",
      "    Nodes    |    Current Node    |     Objective Bounds      |     Work\n",
      " Expl Unexpl |  Obj  Depth IntInf | Incumbent    BestBd   Gap | It/Node Time\n",
      "\n",
      "     0     0 261990.848    0   24 399380.406 261990.848  34.4%     -    0s\n",
      "H    0     0                    262302.80295 261990.848  0.12%     -    0s\n",
      "     0     0          -    0      262302.803 262288.414  0.01%     -    1s\n",
      "\n",
      "Cutting planes:\n",
      "  Gomory: 3\n",
      "  Cover: 9\n",
      "  MIR: 15\n",
      "  Flow cover: 36\n",
      "  Relax-and-lift: 5\n",
      "\n",
      "Explored 1 nodes (521 simplex iterations) in 1.22 seconds (1.75 work units)\n",
      "Thread count was 16 (of 16 available processors)\n",
      "\n",
      "Solution count 2: 262303 399380 \n",
      "\n",
      "Optimal solution found (tolerance 1.00e-04)\n",
      "Best objective 2.623028029488e+05, best bound 2.622884140273e+05, gap 0.0055%\n"
     ]
    },
    {
     "name": "stderr",
     "output_type": "stream",
     "text": [
      "100%|██████████| 57/57 [00:00<00:00, 571.39it/s]\n",
      "100%|██████████| 57/57 [00:00<00:00, 528.42it/s]\n",
      " 97%|█████████▋| 76/78 [36:08<00:55, 27.52s/it]"
     ]
    },
    {
     "name": "stdout",
     "output_type": "stream",
     "text": [
      "Warning for adding constraints: zero or small (< 1e-13) coefficients, ignored\n"
     ]
    },
    {
     "name": "stderr",
     "output_type": "stream",
     "text": [
      "Adding constraints...: 100%|██████████| 24/24 [00:24<00:00,  1.02s/it]"
     ]
    },
    {
     "name": "stdout",
     "output_type": "stream",
     "text": [
      "Gurobi Optimizer version 10.0.3 build v10.0.3rc0 (win64)\n",
      "\n",
      "CPU model: AMD Ryzen 7 5800H with Radeon Graphics, instruction set [SSE2|AVX|AVX2]\n",
      "Thread count: 8 physical cores, 16 logical processors, using up to 16 threads\n",
      "\n",
      "Optimize a model with 23006 rows, 3936 columns and 474938 nonzeros\n",
      "Model fingerprint: 0xd6b1afe8\n",
      "Variable types: 1344 continuous, 2592 integer (2592 binary)\n",
      "Coefficient statistics:\n",
      "  Matrix range     [5e-07, 4e+02]\n",
      "  Objective range  [8e+00, 1e+03]\n",
      "  Bounds range     [1e+00, 1e+00]\n",
      "  RHS range        [9e-01, 2e+03]\n"
     ]
    },
    {
     "name": "stderr",
     "output_type": "stream",
     "text": [
      "\n"
     ]
    },
    {
     "name": "stdout",
     "output_type": "stream",
     "text": [
      "Presolve removed 4179 rows and 30 columns\n",
      "Presolve time: 0.59s\n",
      "Presolved: 18827 rows, 3906 columns, 309672 nonzeros\n",
      "Variable types: 1368 continuous, 2538 integer (2538 binary)\n",
      "\n",
      "Root relaxation: objective 4.232450e+05, 1117 iterations, 0.06 seconds (0.09 work units)\n",
      "\n",
      "    Nodes    |    Current Node    |     Objective Bounds      |     Work\n",
      " Expl Unexpl |  Obj  Depth IntInf | Incumbent    BestBd   Gap | It/Node Time\n",
      "\n",
      "     0     0 423245.011    0   24          - 423245.011      -     -    0s\n",
      "H    0     0                    1572190.7360 423245.011  73.1%     -    1s\n",
      "H    0     0                    579766.71050 423245.011  27.0%     -    1s\n",
      "     0     0 423293.867    0   28 579766.710 423293.867  27.0%     -    1s\n",
      "H    0     0                    423764.09814 423293.867  0.11%     -    1s\n",
      "H    0     0                    423640.20258 423315.274  0.08%     -    1s\n",
      "     0     0 423315.274    0   32 423640.203 423315.274  0.08%     -    1s\n",
      "     0     0 423315.274    0   34 423640.203 423315.274  0.08%     -    1s\n",
      "     0     0     cutoff    0      423640.203 423640.203  0.00%     -    2s\n",
      "\n",
      "Cutting planes:\n",
      "  Gomory: 13\n",
      "  Lift-and-project: 2\n",
      "  MIR: 22\n",
      "  Flow cover: 58\n",
      "  Flow path: 3\n",
      "  RLT: 2\n",
      "\n",
      "Explored 1 nodes (2772 simplex iterations) in 2.21 seconds (3.01 work units)\n",
      "Thread count was 16 (of 16 available processors)\n",
      "\n",
      "Solution count 4: 423640 423764 579767 1.57219e+06 \n",
      "\n",
      "Optimal solution found (tolerance 1.00e-04)\n",
      "Best objective 4.236402025783e+05, best bound 4.236402025783e+05, gap 0.0000%\n"
     ]
    },
    {
     "name": "stderr",
     "output_type": "stream",
     "text": [
      "100%|██████████| 57/57 [00:00<00:00, 496.64it/s]\n",
      "100%|██████████| 57/57 [00:00<00:00, 529.35it/s]\n",
      " 99%|█████████▊| 77/78 [36:36<00:27, 27.51s/it]"
     ]
    },
    {
     "name": "stdout",
     "output_type": "stream",
     "text": [
      "Warning for adding constraints: zero or small (< 1e-13) coefficients, ignored\n"
     ]
    },
    {
     "name": "stderr",
     "output_type": "stream",
     "text": [
      "Adding constraints...: 100%|██████████| 24/24 [00:32<00:00,  1.36s/it]"
     ]
    },
    {
     "name": "stdout",
     "output_type": "stream",
     "text": [
      "Gurobi Optimizer version 10.0.3 build v10.0.3rc0 (win64)\n",
      "\n",
      "CPU model: AMD Ryzen 7 5800H with Radeon Graphics, instruction set [SSE2|AVX|AVX2]\n",
      "Thread count: 8 physical cores, 16 logical processors, using up to 16 threads\n",
      "\n",
      "Optimize a model with 23006 rows, 3936 columns and 474938 nonzeros\n",
      "Model fingerprint: 0x6dc7d475\n",
      "Variable types: 1344 continuous, 2592 integer (2592 binary)\n",
      "Coefficient statistics:\n",
      "  Matrix range     [5e-07, 4e+02]\n",
      "  Objective range  [8e+00, 1e+03]\n",
      "  Bounds range     [1e+00, 1e+00]\n",
      "  RHS range        [1e+00, 2e+03]\n"
     ]
    },
    {
     "name": "stderr",
     "output_type": "stream",
     "text": [
      "\n"
     ]
    },
    {
     "name": "stdout",
     "output_type": "stream",
     "text": [
      "Presolve removed 4144 rows and 30 columns\n",
      "Presolve time: 0.57s\n",
      "Presolved: 18862 rows, 3906 columns, 311001 nonzeros\n",
      "Variable types: 1368 continuous, 2538 integer (2538 binary)\n",
      "Found heuristic solution: objective 868232.43135\n",
      "\n",
      "Root relaxation: objective 3.062873e+05, 650 iterations, 0.02 seconds (0.04 work units)\n",
      "\n",
      "    Nodes    |    Current Node    |     Objective Bounds      |     Work\n",
      " Expl Unexpl |  Obj  Depth IntInf | Incumbent    BestBd   Gap | It/Node Time\n",
      "\n",
      "     0     0 306287.299    0   29 868232.431 306287.299  64.7%     -    0s\n",
      "H    0     0                    308598.91039 306287.299  0.75%     -    1s\n",
      "H    0     0                    307602.21340 306287.299  0.43%     -    1s\n",
      "     0     0 306562.214    0   10 307602.213 306562.214  0.34%     -    1s\n",
      "H    0     0                    306771.82007 306562.214  0.07%     -    1s\n",
      "H    0     0                    306636.48907 306562.214  0.02%     -    1s\n",
      "H    0     0                    306623.72444 306565.200  0.02%     -    1s\n",
      "     0     0     cutoff    0      306623.724 306623.724  0.00%     -    1s\n",
      "\n",
      "Cutting planes:\n",
      "  Learned: 1\n",
      "  MIR: 11\n",
      "  Flow cover: 21\n",
      "  Relax-and-lift: 1\n",
      "\n",
      "Explored 1 nodes (1640 simplex iterations) in 1.53 seconds (2.08 work units)\n",
      "Thread count was 16 (of 16 available processors)\n",
      "\n",
      "Solution count 6: 306624 306636 306772 ... 868232\n",
      "\n",
      "Optimal solution found (tolerance 1.00e-04)\n",
      "Best objective 3.066237244374e+05, best bound 3.066237244374e+05, gap 0.0000%\n"
     ]
    },
    {
     "name": "stderr",
     "output_type": "stream",
     "text": [
      "100%|██████████| 57/57 [00:00<00:00, 535.46it/s]\n",
      "100%|██████████| 57/57 [00:00<00:00, 548.28it/s]\n",
      "100%|██████████| 78/78 [37:11<00:00, 28.61s/it]\n"
     ]
    }
   ],
   "source": [
    "# Create an internal for loop to run and save the data\n",
    "for i in tqdm(range(2000, 2500, 1)):\n",
    "    # Select a load profile\n",
    "    load_profile = samples.iloc[i, :].values[np.newaxis, :]\n",
    "\n",
    "    # Optimize system with specified load profile\n",
    "    opt = system.optimize(load_profile, M=1000)\n",
    "\n",
    "    # Prepare data format for results\n",
    "    on_off      = -1 * np.ones((system.N_g, system.N_t))\n",
    "    start_up    = -1 * np.ones((system.N_g, system.N_t))\n",
    "\n",
    "    # Extract results\n",
    "    for t in range(24):\n",
    "        for g in range(N_g):\n",
    "            # Generator dependent results\n",
    "            on_off[g, t]    = system.b[g, t].x\n",
    "            start_up[g, t]  = system.u[g, t].x\n",
    "\n",
    "    # For some reason, some zeros get a minus in front - taking the absolute value does not change the value, only the visual outline of the matrix\n",
    "    on_off      = pd.DataFrame(abs(on_off),     columns=[f'Hour {i}' for i in range(1, system.N_t+1)], index=[f'Gen {i}' for i in range(1, system.N_g+1)])\n",
    "    start_up    = pd.DataFrame(abs(start_up),   columns=[f'Hour {i}' for i in range(1, system.N_t+1)], index=[f'Gen {i}' for i in range(1, system.N_g+1)])\n",
    "\n",
    "    constraints = pd.DataFrame([{\n",
    "    'constr_type': c.ConstrName.split('[')[0] if '[' in c.ConstrName else c.ConstrName, \n",
    "    'constr_level': '[' + c.ConstrName.split('[')[1] if '[' in c.ConstrName else '-', \n",
    "    'constraint_slack': c.Slack, \n",
    "    'rhs': c.getAttr('rhs')\n",
    "    } for c in system.model.getConstrs()])\n",
    "\n",
    "\n",
    "    grouped_constraints = {}\n",
    "    for name in tqdm(constraints['constr_type'].unique()):\n",
    "        grouped_constraints[name] = constraints.query('constr_type == @name').reset_index(drop=True)\n",
    "\n",
    "    line_flow_limits = grouped_constraints['pos_line_flow_limit']\n",
    "    slack_line_vals_pos = line_flow_limits['constraint_slack'] - line_flow_limits['rhs']\n",
    "\n",
    "    grouped_constraints = {}\n",
    "    for name in tqdm(constraints['constr_type'].unique()):\n",
    "        grouped_constraints[name] = constraints.query('constr_type == @name').reset_index(drop=True)\n",
    "\n",
    "    line_flow_limits = grouped_constraints['neg_line_flow_limit']\n",
    "    slack_line_vals_neg = line_flow_limits['constraint_slack'] - line_flow_limits['rhs']\n",
    "\n",
    "\n",
    "    # Save the results\n",
    "    save_res = pd.concat([on_off.T, start_up.T], axis=1)\n",
    "    save_res.to_csv(f'saved_binary_var_2000_2500.csv', index=False, header=False, mode='a')\n",
    "\n",
    "    pos_val = slack_line_vals_neg.values.reshape(24,186)\n",
    "    neg_val = slack_line_vals_neg.values.reshape(24,186)\n",
    "\n",
    "    res_aux = np.concatenate((pos_val, neg_val), axis=1)\n",
    "    df_test = pd.DataFrame(res_aux)\n",
    "\n",
    "    df_test.to_csv(f'saved_active_constraints_2000_2500.csv', index=False, header=False, mode='a')\n",
    "    "
   ]
  },
  {
   "cell_type": "code",
   "execution_count": 87,
   "metadata": {},
   "outputs": [
    {
     "name": "stderr",
     "output_type": "stream",
     "text": [
      "Adding constraints...:   0%|          | 0/24 [00:00<?, ?it/s]"
     ]
    },
    {
     "name": "stdout",
     "output_type": "stream",
     "text": [
      "Warning for adding constraints: zero or small (< 1e-13) coefficients, ignored\n"
     ]
    },
    {
     "name": "stderr",
     "output_type": "stream",
     "text": [
      "Adding constraints...: 100%|██████████| 24/24 [00:36<00:00,  1.54s/it]"
     ]
    },
    {
     "name": "stdout",
     "output_type": "stream",
     "text": [
      "Gurobi Optimizer version 10.0.3 build v10.0.3rc0 (win64)\n"
     ]
    },
    {
     "name": "stderr",
     "output_type": "stream",
     "text": [
      "\n"
     ]
    },
    {
     "name": "stdout",
     "output_type": "stream",
     "text": [
      "\n",
      "CPU model: AMD Ryzen 7 5800H with Radeon Graphics, instruction set [SSE2|AVX|AVX2]\n",
      "Thread count: 8 physical cores, 16 logical processors, using up to 16 threads\n",
      "\n",
      "Optimize a model with 23006 rows, 3936 columns and 474938 nonzeros\n",
      "Model fingerprint: 0x3a174355\n",
      "Variable types: 1344 continuous, 2592 integer (2592 binary)\n",
      "Coefficient statistics:\n",
      "  Matrix range     [5e-07, 4e+02]\n",
      "  Objective range  [8e+00, 1e+03]\n",
      "  Bounds range     [1e+00, 1e+00]\n",
      "  RHS range        [1e+00, 2e+03]\n",
      "Presolve removed 4163 rows and 30 columns\n",
      "Presolve time: 0.64s\n",
      "Presolved: 18843 rows, 3906 columns, 310325 nonzeros\n",
      "Variable types: 1368 continuous, 2538 integer (2538 binary)\n",
      "\n",
      "Root relaxation: objective 3.573689e+05, 520 iterations, 0.04 seconds (0.03 work units)\n",
      "\n",
      "    Nodes    |    Current Node    |     Objective Bounds      |     Work\n",
      " Expl Unexpl |  Obj  Depth IntInf | Incumbent    BestBd   Gap | It/Node Time\n",
      "\n",
      "     0     0 357368.850    0   18          - 357368.850      -     -    1s\n",
      "H    0     0                    357556.62408 357368.850  0.05%     -    1s\n",
      "     0     0 357460.701    0   44 357556.624 357460.701  0.03%     -    1s\n",
      "     0     0 357460.701    0   18 357556.624 357460.701  0.03%     -    1s\n",
      "     0     0 357556.624    0   29 357556.624 357556.624  0.00%     -    1s\n",
      "\n",
      "Cutting planes:\n",
      "  Gomory: 3\n",
      "  Cover: 1\n",
      "  MIR: 9\n",
      "  Flow cover: 26\n",
      "  Relax-and-lift: 5\n",
      "\n",
      "Explored 1 nodes (1849 simplex iterations) in 1.74 seconds (2.13 work units)\n",
      "Thread count was 16 (of 16 available processors)\n",
      "\n",
      "Solution count 1: 357557 \n",
      "\n",
      "Optimal solution found (tolerance 1.00e-04)\n",
      "Best objective 3.575566240847e+05, best bound 3.575566240847e+05, gap 0.0000%\n"
     ]
    }
   ],
   "source": [
    "# Select a load profile\n",
    "load_profile = samples.iloc[0, :].values[np.newaxis, :]\n",
    "\n",
    "# Optimize system with specified load profile\n",
    "opt = system.optimize(load_profile, M=1000)"
   ]
  },
  {
   "cell_type": "code",
   "execution_count": 16,
   "metadata": {},
   "outputs": [],
   "source": [
    "# Prepare data format for results\n",
    "on_off      = -1 * np.ones((system.N_g, system.N_t))\n",
    "start_up    = -1 * np.ones((system.N_g, system.N_t))\n",
    "power       = -1 * np.ones((system.N_g, system.N_t))\n",
    "cost        = -1 * np.ones((system.N_g, system.N_t))\n",
    "delta       = -1 * np.ones((system.N_t, 1))\n",
    "eps         = -1 * np.ones((system.N_t, 1))\n",
    "\n",
    "# Extract results\n",
    "for t in range(24):\n",
    "    for g in range(N_g):\n",
    "        # Generator dependent results\n",
    "        on_off[g, t]    = system.b[g, t].x\n",
    "        start_up[g, t]  = system.u[g, t].x\n",
    "        power[g, t]     = system.p[g, t].x\n",
    "        cost[g, t]      = system.c_op.iloc[g, 0] * system.p[g, t].x + system.c_st.iloc[g, 0] * system.u[g, t].x\n",
    "\n",
    "    # Slack variables\n",
    "    eps[t, 0]   = system.eps[t, 0].x\n",
    "    delta[t, 0] = system.delta[t, 0].x\n",
    "\n",
    "# For some reason, some zeros get a minus in front - taking the absolute value does not change the value, only the visual outline of the matrix\n",
    "on_off      = pd.DataFrame(abs(on_off),     columns=[f'Hour {i}' for i in range(1, system.N_t+1)], index=[f'Gen {i}' for i in range(1, system.N_g+1)])\n",
    "start_up    = pd.DataFrame(abs(start_up),   columns=[f'Hour {i}' for i in range(1, system.N_t+1)], index=[f'Gen {i}' for i in range(1, system.N_g+1)])\n",
    "power       = pd.DataFrame(power,           columns=[f'Hour {i}' for i in range(1, system.N_t+1)], index=[f'Gen {i}' for i in range(1, system.N_g+1)])\n",
    "cost        = pd.DataFrame(cost,            columns=[f'Hour {i}' for i in range(1, system.N_t+1)], index=[f'Gen {i}' for i in range(1, system.N_g+1)])"
   ]
  },
  {
   "cell_type": "code",
   "execution_count": 82,
   "metadata": {},
   "outputs": [
    {
     "name": "stdout",
     "output_type": "stream",
     "text": [
      "        Hour 1  Hour 2  Hour 3  Hour 4  Hour 5  Hour 6  Hour 7  Hour 8  \\\n",
      "Gen 1      0.0     0.0     0.0     0.0     0.0     0.0     0.0     0.0   \n",
      "Gen 2      0.0     0.0     0.0     0.0     0.0     0.0     0.0     0.0   \n",
      "Gen 3      0.0     0.0     0.0     0.0     0.0     0.0     0.0     0.0   \n",
      "Gen 4      0.0     0.0     0.0     0.0     0.0     0.0     0.0     0.0   \n",
      "Gen 5      0.0     0.0     0.0     0.0     0.0     0.0     0.0     0.0   \n",
      "Gen 6      0.0     0.0     0.0     0.0     0.0     0.0     0.0     0.0   \n",
      "Gen 7      0.0     0.0     0.0     0.0     0.0     0.0     0.0     0.0   \n",
      "Gen 8      0.0     0.0     0.0     0.0     0.0     0.0     0.0     0.0   \n",
      "Gen 9      0.0     0.0     0.0     0.0     0.0     0.0     0.0     0.0   \n",
      "Gen 10     0.0     0.0     0.0     0.0     0.0     0.0     0.0     0.0   \n",
      "Gen 11     1.0     1.0     1.0     1.0     1.0     1.0     1.0     1.0   \n",
      "Gen 12     0.0     0.0     0.0     0.0     0.0     0.0     0.0     0.0   \n",
      "Gen 13     0.0     0.0     0.0     0.0     0.0     0.0     0.0     0.0   \n",
      "Gen 14     0.0     0.0     0.0     0.0     0.0     0.0     0.0     0.0   \n",
      "Gen 15     0.0     0.0     0.0     0.0     0.0     0.0     0.0     0.0   \n",
      "Gen 16     0.0     0.0     0.0     0.0     0.0     0.0     0.0     0.0   \n",
      "Gen 17     0.0     0.0     0.0     0.0     0.0     0.0     0.0     0.0   \n",
      "Gen 18     0.0     0.0     0.0     0.0     0.0     0.0     0.0     0.0   \n",
      "Gen 19     0.0     0.0     0.0     0.0     0.0     0.0     0.0     0.0   \n",
      "Gen 20     0.0     0.0     0.0     0.0     0.0     0.0     0.0     1.0   \n",
      "Gen 21     0.0     0.0     0.0     0.0     0.0     0.0     0.0     0.0   \n",
      "Gen 22     0.0     0.0     0.0     0.0     0.0     0.0     0.0     0.0   \n",
      "Gen 23     0.0     0.0     0.0     0.0     0.0     0.0     0.0     0.0   \n",
      "Gen 24     0.0     0.0     0.0     0.0     0.0     0.0     0.0     0.0   \n",
      "Gen 25     0.0     0.0     0.0     0.0     0.0     0.0     0.0     0.0   \n",
      "Gen 26     0.0     0.0     0.0     0.0     0.0     0.0     0.0     0.0   \n",
      "Gen 27     1.0     1.0     1.0     1.0     1.0     1.0     1.0     1.0   \n",
      "Gen 28     1.0     1.0     1.0     1.0     1.0     1.0     1.0     1.0   \n",
      "Gen 29     0.0     0.0     0.0     0.0     0.0     0.0     0.0     0.0   \n",
      "Gen 30     0.0     0.0     0.0     0.0     0.0     0.0     0.0     0.0   \n",
      "Gen 31     0.0     0.0     0.0     0.0     0.0     0.0     0.0     0.0   \n",
      "Gen 32     0.0     0.0     0.0     0.0     0.0     0.0     0.0     0.0   \n",
      "Gen 33     0.0     0.0     0.0     0.0     0.0     0.0     0.0     0.0   \n",
      "Gen 34     0.0     0.0     0.0     0.0     0.0     0.0     0.0     0.0   \n",
      "Gen 35     0.0     0.0     0.0     0.0     0.0     0.0     0.0     0.0   \n",
      "Gen 36     0.0     0.0     0.0     0.0     0.0     0.0     0.0     0.0   \n",
      "Gen 37     0.0     0.0     0.0     0.0     0.0     0.0     0.0     0.0   \n",
      "Gen 38     0.0     0.0     0.0     0.0     0.0     0.0     0.0     0.0   \n",
      "Gen 39     1.0     1.0     1.0     1.0     1.0     1.0     1.0     1.0   \n",
      "Gen 40     0.0     0.0     0.0     0.0     0.0     0.0     0.0     0.0   \n",
      "Gen 41     0.0     0.0     0.0     0.0     0.0     0.0     0.0     0.0   \n",
      "Gen 42     0.0     0.0     0.0     0.0     0.0     0.0     0.0     0.0   \n",
      "Gen 43     0.0     0.0     0.0     0.0     0.0     0.0     0.0     0.0   \n",
      "Gen 44     0.0     0.0     0.0     0.0     0.0     0.0     0.0     0.0   \n",
      "Gen 45     0.0     0.0     0.0     0.0     0.0     0.0     0.0     0.0   \n",
      "Gen 46     0.0     0.0     0.0     0.0     0.0     0.0     0.0     0.0   \n",
      "Gen 47     0.0     0.0     0.0     0.0     0.0     0.0     0.0     0.0   \n",
      "Gen 48     0.0     0.0     0.0     0.0     0.0     0.0     0.0     0.0   \n",
      "Gen 49     0.0     0.0     0.0     0.0     0.0     0.0     0.0     0.0   \n",
      "Gen 50     0.0     0.0     0.0     0.0     0.0     0.0     0.0     0.0   \n",
      "Gen 51     0.0     0.0     0.0     0.0     0.0     0.0     0.0     0.0   \n",
      "Gen 52     0.0     0.0     0.0     0.0     0.0     0.0     0.0     0.0   \n",
      "Gen 53     0.0     0.0     0.0     0.0     0.0     0.0     0.0     0.0   \n",
      "Gen 54     0.0     0.0     0.0     0.0     0.0     0.0     0.0     0.0   \n",
      "\n",
      "        Hour 9  Hour 10  ...  Hour 15  Hour 16  Hour 17  Hour 18  Hour 19  \\\n",
      "Gen 1      0.0      0.0  ...      0.0      0.0      0.0      0.0      0.0   \n",
      "Gen 2      0.0      0.0  ...      0.0      0.0      0.0      0.0      0.0   \n",
      "Gen 3      0.0      0.0  ...      0.0      0.0      0.0      0.0      0.0   \n",
      "Gen 4      0.0      0.0  ...      0.0      0.0      0.0      0.0      0.0   \n",
      "Gen 5      0.0      0.0  ...      0.0      0.0      0.0      0.0      0.0   \n",
      "Gen 6      0.0      0.0  ...      0.0      0.0      0.0      0.0      0.0   \n",
      "Gen 7      0.0      0.0  ...      0.0      0.0      0.0      0.0      0.0   \n",
      "Gen 8      0.0      0.0  ...      0.0      0.0      0.0      0.0      0.0   \n",
      "Gen 9      0.0      0.0  ...      0.0      0.0      0.0      0.0      0.0   \n",
      "Gen 10     0.0      0.0  ...      0.0      0.0      0.0      0.0      0.0   \n",
      "Gen 11     1.0      1.0  ...      1.0      1.0      1.0      1.0      1.0   \n",
      "Gen 12     0.0      0.0  ...      0.0      0.0      0.0      0.0      0.0   \n",
      "Gen 13     0.0      0.0  ...      0.0      0.0      0.0      0.0      0.0   \n",
      "Gen 14     0.0      0.0  ...      0.0      0.0      0.0      0.0      0.0   \n",
      "Gen 15     0.0      0.0  ...      0.0      0.0      0.0      0.0      0.0   \n",
      "Gen 16     0.0      0.0  ...      0.0      0.0      0.0      0.0      0.0   \n",
      "Gen 17     0.0      0.0  ...      0.0      0.0      0.0      0.0      0.0   \n",
      "Gen 18     0.0      0.0  ...      0.0      0.0      0.0      0.0      0.0   \n",
      "Gen 19     0.0      0.0  ...      0.0      0.0      0.0      0.0      0.0   \n",
      "Gen 20     1.0      1.0  ...      1.0      1.0      1.0      1.0      1.0   \n",
      "Gen 21     1.0      1.0  ...      1.0      1.0      1.0      1.0      1.0   \n",
      "Gen 22     0.0      0.0  ...      0.0      0.0      0.0      0.0      0.0   \n",
      "Gen 23     0.0      0.0  ...      0.0      0.0      0.0      0.0      0.0   \n",
      "Gen 24     0.0      0.0  ...      0.0      0.0      0.0      0.0      0.0   \n",
      "Gen 25     0.0      0.0  ...      0.0      0.0      0.0      0.0      0.0   \n",
      "Gen 26     0.0      0.0  ...      0.0      0.0      0.0      0.0      0.0   \n",
      "Gen 27     1.0      1.0  ...      1.0      1.0      1.0      1.0      1.0   \n",
      "Gen 28     1.0      1.0  ...      1.0      1.0      1.0      1.0      1.0   \n",
      "Gen 29     0.0      0.0  ...      0.0      0.0      0.0      0.0      0.0   \n",
      "Gen 30     0.0      0.0  ...      0.0      0.0      0.0      0.0      0.0   \n",
      "Gen 31     0.0      0.0  ...      0.0      0.0      0.0      0.0      0.0   \n",
      "Gen 32     0.0      0.0  ...      0.0      0.0      0.0      0.0      0.0   \n",
      "Gen 33     0.0      0.0  ...      0.0      0.0      0.0      0.0      0.0   \n",
      "Gen 34     0.0      0.0  ...      0.0      0.0      0.0      0.0      0.0   \n",
      "Gen 35     0.0      0.0  ...      0.0      0.0      0.0      0.0      0.0   \n",
      "Gen 36     0.0      0.0  ...      0.0      0.0      0.0      0.0      0.0   \n",
      "Gen 37     0.0      0.0  ...      0.0      0.0      0.0      0.0      0.0   \n",
      "Gen 38     0.0      0.0  ...      0.0      0.0      0.0      0.0      0.0   \n",
      "Gen 39     1.0      1.0  ...      1.0      1.0      1.0      1.0      1.0   \n",
      "Gen 40     0.0      0.0  ...      0.0      0.0      0.0      0.0      0.0   \n",
      "Gen 41     0.0      0.0  ...      0.0      0.0      0.0      0.0      0.0   \n",
      "Gen 42     0.0      0.0  ...      0.0      0.0      0.0      0.0      0.0   \n",
      "Gen 43     0.0      0.0  ...      0.0      0.0      0.0      0.0      0.0   \n",
      "Gen 44     0.0      0.0  ...      0.0      0.0      0.0      0.0      0.0   \n",
      "Gen 45     0.0      0.0  ...      0.0      0.0      0.0      0.0      0.0   \n",
      "Gen 46     0.0      0.0  ...      0.0      0.0      0.0      0.0      0.0   \n",
      "Gen 47     0.0      0.0  ...      0.0      0.0      0.0      0.0      0.0   \n",
      "Gen 48     0.0      0.0  ...      0.0      0.0      0.0      0.0      0.0   \n",
      "Gen 49     0.0      0.0  ...      0.0      0.0      0.0      0.0      0.0   \n",
      "Gen 50     0.0      0.0  ...      0.0      0.0      0.0      0.0      0.0   \n",
      "Gen 51     0.0      0.0  ...      0.0      0.0      0.0      0.0      0.0   \n",
      "Gen 52     0.0      0.0  ...      0.0      0.0      0.0      0.0      0.0   \n",
      "Gen 53     0.0      0.0  ...      0.0      0.0      0.0      0.0      0.0   \n",
      "Gen 54     0.0      0.0  ...      0.0      0.0      0.0      0.0      0.0   \n",
      "\n",
      "        Hour 20  Hour 21  Hour 22  Hour 23  Hour 24  \n",
      "Gen 1       0.0      0.0      0.0      0.0      0.0  \n",
      "Gen 2       0.0      0.0      0.0      0.0      0.0  \n",
      "Gen 3       0.0      0.0      0.0      0.0      0.0  \n",
      "Gen 4       0.0      0.0      0.0      0.0      0.0  \n",
      "Gen 5       0.0      0.0      0.0      0.0      0.0  \n",
      "Gen 6       0.0      0.0      0.0      0.0      0.0  \n",
      "Gen 7       0.0      0.0      0.0      0.0      0.0  \n",
      "Gen 8       0.0      0.0      0.0      0.0      0.0  \n",
      "Gen 9       0.0      0.0      0.0      0.0      0.0  \n",
      "Gen 10      0.0      0.0      0.0      0.0      0.0  \n",
      "Gen 11      1.0      1.0      1.0      1.0      1.0  \n",
      "Gen 12      0.0      0.0      0.0      0.0      0.0  \n",
      "Gen 13      0.0      0.0      0.0      0.0      0.0  \n",
      "Gen 14      0.0      0.0      0.0      0.0      0.0  \n",
      "Gen 15      0.0      0.0      0.0      0.0      0.0  \n",
      "Gen 16      0.0      0.0      0.0      0.0      0.0  \n",
      "Gen 17      0.0      0.0      0.0      0.0      0.0  \n",
      "Gen 18      0.0      0.0      0.0      0.0      0.0  \n",
      "Gen 19      0.0      0.0      0.0      0.0      0.0  \n",
      "Gen 20      1.0      1.0      1.0      1.0      0.0  \n",
      "Gen 21      1.0      1.0      1.0      0.0      0.0  \n",
      "Gen 22      0.0      0.0      0.0      0.0      0.0  \n",
      "Gen 23      0.0      0.0      0.0      0.0      0.0  \n",
      "Gen 24      0.0      0.0      0.0      0.0      0.0  \n",
      "Gen 25      0.0      0.0      0.0      0.0      0.0  \n",
      "Gen 26      0.0      0.0      0.0      0.0      0.0  \n",
      "Gen 27      1.0      1.0      1.0      1.0      1.0  \n",
      "Gen 28      1.0      1.0      1.0      1.0      1.0  \n",
      "Gen 29      0.0      0.0      0.0      0.0      0.0  \n",
      "Gen 30      0.0      0.0      0.0      0.0      0.0  \n",
      "Gen 31      0.0      0.0      0.0      0.0      0.0  \n",
      "Gen 32      0.0      0.0      0.0      0.0      0.0  \n",
      "Gen 33      0.0      0.0      0.0      0.0      0.0  \n",
      "Gen 34      0.0      0.0      0.0      0.0      0.0  \n",
      "Gen 35      0.0      0.0      0.0      0.0      0.0  \n",
      "Gen 36      0.0      0.0      0.0      0.0      0.0  \n",
      "Gen 37      0.0      0.0      0.0      0.0      0.0  \n",
      "Gen 38      0.0      0.0      0.0      0.0      0.0  \n",
      "Gen 39      1.0      1.0      1.0      1.0      1.0  \n",
      "Gen 40      0.0      0.0      0.0      0.0      0.0  \n",
      "Gen 41      0.0      0.0      0.0      0.0      0.0  \n",
      "Gen 42      0.0      0.0      0.0      0.0      0.0  \n",
      "Gen 43      0.0      0.0      0.0      0.0      0.0  \n",
      "Gen 44      0.0      0.0      0.0      0.0      0.0  \n",
      "Gen 45      0.0      0.0      0.0      0.0      0.0  \n",
      "Gen 46      0.0      0.0      0.0      0.0      0.0  \n",
      "Gen 47      0.0      0.0      0.0      0.0      0.0  \n",
      "Gen 48      0.0      0.0      0.0      0.0      0.0  \n",
      "Gen 49      0.0      0.0      0.0      0.0      0.0  \n",
      "Gen 50      0.0      0.0      0.0      0.0      0.0  \n",
      "Gen 51      0.0      0.0      0.0      0.0      0.0  \n",
      "Gen 52      0.0      0.0      0.0      0.0      0.0  \n",
      "Gen 53      0.0      0.0      0.0      0.0      0.0  \n",
      "Gen 54      0.0      0.0      0.0      0.0      0.0  \n",
      "\n",
      "[54 rows x 24 columns]\n"
     ]
    }
   ],
   "source": [
    "save_res = pd.concat([on_off.T, start_up.T], axis=1)\n",
    "#print(save_res)\n",
    "save_res.to_csv(f'saved_binary_var.csv', index=False, header=False, mode='a')"
   ]
  },
  {
   "cell_type": "code",
   "execution_count": 18,
   "metadata": {},
   "outputs": [
    {
     "data": {
      "image/png": "[encoded data removed]",
      "text/plain": [
       "<Figure size 1500x400 with 3 Axes>"
      ]
     },
     "metadata": {},
     "output_type": "display_data"
    }
   ],
   "source": [
    "generators_turned_on = on_off.sum(axis=1) != 0\n",
    "\n",
    "system.pmax['index'] = [f'Gen {i}' for i in range(1, system.N_g+1)]\n",
    "system.pmax = system.pmax.set_index('index')\n",
    "\n",
    "system.pmin['index'] = [f'Gen {i}' for i in range(1, system.N_g+1)]\n",
    "system.pmin = system.pmin.set_index('index')\n",
    "\n",
    "# Check if power balance equation is satisfied \n",
    "power_balance = pd.DataFrame(\n",
    "    [system.demand_profile.sum(axis=1).values, power.sum(axis=0).values, eps.flatten(), delta.flatten(), (eps + delta).flatten()], \n",
    "    index=['demand', 'power', 'eps', 'delta', 'slack_sum'\n",
    "]).T\n",
    "assert np.allclose(power_balance['demand'], power_balance[['power', 'eps', 'delta']].sum(axis=1)), 'Power balance equation not satisfied !'\n",
    "\n",
    "power['total_production'] = power[generators_turned_on].cumsum(axis=1)['Hour 24']\n",
    "\n",
    "\n",
    "fig, axs = plt.subplots(1, 3, figsize=(15, 4), sharey=False, sharex=True)\n",
    "axs[0].stackplot(\n",
    "    np.arange(1, 25), \n",
    "    power[generators_turned_on].sort_values(by='total_production', ascending=False).drop(columns='total_production'), \n",
    "    labels=power[generators_turned_on].sort_values(by='total_production', ascending=False).drop(columns='total_production').index,\n",
    "    alpha=0.9,\n",
    ")\n",
    "axs[0].plot(np.arange(1,25), power_balance['demand'], color='k', ls='--', alpha=0.8, label='Demand \\nprofile')\n",
    "axs[0].set_title('Stacked production profile')\n",
    "axs[0].legend(loc='lower center', ncols=2)\n",
    "\n",
    "power[generators_turned_on].sort_values(by='total_production', ascending=False).drop(columns='total_production').T.plot(title='Production profile', ax=axs[1], legend=False)\n",
    "cost['total_production'] = power['total_production']\n",
    "cost[generators_turned_on].sort_values(by='total_production', ascending=False).drop(columns='total_production').T.plot(title='Price curves', ax=axs[2], legend=False)\n",
    "\n",
    "plt.show()"
   ]
  },
  {
   "cell_type": "code",
   "execution_count": 19,
   "metadata": {},
   "outputs": [
    {
     "data": {
      "image/png": "[encoded data removed]",
      "text/plain": [
       "<Figure size 1600x400 with 2 Axes>"
      ]
     },
     "metadata": {},
     "output_type": "display_data"
    }
   ],
   "source": [
    "fig, axs = plt.subplots(1, 2, figsize=(16, 4)) \n",
    "power_balance[:-1].plot(y=['demand'], color='C1', ls='-', alpha=0.8, ax=axs[0])\n",
    "power_balance[:-1].plot(y=['power'], color='C0', ls='--', alpha=0.8, ax=axs[0])\n",
    "power_balance[:-1].plot(y=['delta', 'eps'],      ax=axs[1])\n",
    "power_balance[:-1].plot(y='slack_sum', ls='--',  ax=axs[1])\n",
    "plt.xlabel('Hour of day')\n",
    "plt.ylabel('Power [MW]')\n",
    "plt.show()"
   ]
  },
  {
   "cell_type": "code",
   "execution_count": 20,
   "metadata": {},
   "outputs": [
    {
     "name": "stdout",
     "output_type": "stream",
     "text": [
      "Total cost of the system:  357556.62408468715\n"
     ]
    },
    {
     "data": {
      "image/png": "[encoded data removed]",
      "text/plain": [
       "<Figure size 1600x300 with 1 Axes>"
      ]
     },
     "metadata": {},
     "output_type": "display_data"
    },
    {
     "data": {
      "image/png": "[encoded data removed]",
      "text/plain": [
       "<Figure size 1600x400 with 2 Axes>"
      ]
     },
     "metadata": {},
     "output_type": "display_data"
    },
    {
     "data": {
      "text/html": [
       "<div>\n",
       "<style scoped>\n",
       "    .dataframe tbody tr th:only-of-type {\n",
       "        vertical-align: middle;\n",
       "    }\n",
       "\n",
       "    .dataframe tbody tr th {\n",
       "        vertical-align: top;\n",
       "    }\n",
       "\n",
       "    .dataframe thead th {\n",
       "        text-align: right;\n",
       "    }\n",
       "</style>\n",
       "<table border=\"1\" class=\"dataframe\">\n",
       "  <thead>\n",
       "    <tr style=\"text-align: right;\">\n",
       "      <th></th>\n",
       "      <th>Hour 6</th>\n",
       "      <th>Hour 7</th>\n",
       "      <th>Hour 8</th>\n",
       "      <th>Hour 9</th>\n",
       "      <th>Hour 10</th>\n",
       "      <th>Hour 11</th>\n",
       "      <th>Hour 12</th>\n",
       "      <th>Hour 13</th>\n",
       "      <th>Hour 14</th>\n",
       "      <th>Hour 15</th>\n",
       "      <th>Hour 16</th>\n",
       "      <th>Hour 17</th>\n",
       "      <th>Hour 18</th>\n",
       "      <th>Hour 19</th>\n",
       "      <th>Hour 20</th>\n",
       "      <th>Hour 21</th>\n",
       "      <th>Hour 22</th>\n",
       "      <th>Hour 23</th>\n",
       "      <th>Hour 24</th>\n",
       "    </tr>\n",
       "  </thead>\n",
       "  <tbody>\n",
       "    <tr>\n",
       "      <th>Gen 20</th>\n",
       "      <td>0.0</td>\n",
       "      <td>0.0</td>\n",
       "      <td>1.0</td>\n",
       "      <td>0.0</td>\n",
       "      <td>0.0</td>\n",
       "      <td>0.0</td>\n",
       "      <td>0.0</td>\n",
       "      <td>0.0</td>\n",
       "      <td>0.0</td>\n",
       "      <td>0.0</td>\n",
       "      <td>0.0</td>\n",
       "      <td>0.0</td>\n",
       "      <td>0.0</td>\n",
       "      <td>0.0</td>\n",
       "      <td>0.0</td>\n",
       "      <td>0.0</td>\n",
       "      <td>0.0</td>\n",
       "      <td>0.0</td>\n",
       "      <td>0.0</td>\n",
       "    </tr>\n",
       "    <tr>\n",
       "      <th>Gen 21</th>\n",
       "      <td>0.0</td>\n",
       "      <td>0.0</td>\n",
       "      <td>0.0</td>\n",
       "      <td>1.0</td>\n",
       "      <td>0.0</td>\n",
       "      <td>0.0</td>\n",
       "      <td>0.0</td>\n",
       "      <td>0.0</td>\n",
       "      <td>0.0</td>\n",
       "      <td>0.0</td>\n",
       "      <td>0.0</td>\n",
       "      <td>0.0</td>\n",
       "      <td>0.0</td>\n",
       "      <td>0.0</td>\n",
       "      <td>0.0</td>\n",
       "      <td>0.0</td>\n",
       "      <td>0.0</td>\n",
       "      <td>0.0</td>\n",
       "      <td>0.0</td>\n",
       "    </tr>\n",
       "  </tbody>\n",
       "</table>\n",
       "</div>"
      ],
      "text/plain": [
       "        Hour 6  Hour 7  Hour 8  Hour 9  Hour 10  Hour 11  Hour 12  Hour 13  \\\n",
       "Gen 20     0.0     0.0     1.0     0.0      0.0      0.0      0.0      0.0   \n",
       "Gen 21     0.0     0.0     0.0     1.0      0.0      0.0      0.0      0.0   \n",
       "\n",
       "        Hour 14  Hour 15  Hour 16  Hour 17  Hour 18  Hour 19  Hour 20  \\\n",
       "Gen 20      0.0      0.0      0.0      0.0      0.0      0.0      0.0   \n",
       "Gen 21      0.0      0.0      0.0      0.0      0.0      0.0      0.0   \n",
       "\n",
       "        Hour 21  Hour 22  Hour 23  Hour 24  \n",
       "Gen 20      0.0      0.0      0.0      0.0  \n",
       "Gen 21      0.0      0.0      0.0      0.0  "
      ]
     },
     "execution_count": 20,
     "metadata": {},
     "output_type": "execute_result"
    }
   ],
   "source": [
    "print(\"Total cost of the system: \", sum(cost.iloc[:, :-1].values.flatten()))\n",
    "\n",
    "# Shwo start up status\n",
    "start_up.sum(axis=1).plot(kind='bar', figsize=(16, 3))\n",
    "plt.yticks([0, 1], ['', 'Start Up'], fontsize=14)\n",
    "plt.xticks(fontsize=14)\n",
    "plt.tight_layout()\n",
    "plt.show()\n",
    "\n",
    "### Create production cost curves\n",
    "fig, axs = plt.subplots(1, 2, figsize=(16, 4))\n",
    "generators_turned_on = on_off.sum(axis=1) != 0\n",
    "\n",
    "# Visalize when the generators are turned on\n",
    "on_off[generators_turned_on].cumsum(axis=1).sort_values(by='Hour 24', ascending=False).T.plot(ax=axs[0], ls='-', marker='x', alpha=0.8)\n",
    "\n",
    "# Visualize the cost of the system for each turned on generator\n",
    "axs[1].stackplot(\n",
    "    np.arange(1, 25), \n",
    "    cost.iloc[:, :-1][generators_turned_on].cumsum(axis=1).sort_values(by='Hour 24', ascending=False) / 1000, \n",
    "    labels=cost.iloc[:, :-1][generators_turned_on].sort_values(by='Hour 24', ascending=False).index,\n",
    "    alpha=0.9,\n",
    ")\n",
    "axs[1].legend(loc='upper left')\n",
    "axs[1].set_xlabel('Hour of day')\n",
    "axs[1].set_ylabel('Accumulated cost [1000 DKK]')\n",
    "plt.show()\n",
    "\n",
    "start_up[start_up.sum(axis=1) != 0].iloc[:, 5:]"
   ]
  },
  {
   "cell_type": "markdown",
   "metadata": {},
   "source": [
    "### Finding active constraints"
   ]
  },
  {
   "cell_type": "code",
   "execution_count": 21,
   "metadata": {},
   "outputs": [],
   "source": [
    "constraints = pd.DataFrame([{\n",
    "    'constr_type': c.ConstrName.split('[')[0] if '[' in c.ConstrName else c.ConstrName, \n",
    "    'constr_level': '[' + c.ConstrName.split('[')[1] if '[' in c.ConstrName else '-', \n",
    "    'constraint_slack': c.Slack, \n",
    "    'rhs': c.getAttr('rhs')\n",
    "} for c in system.model.getConstrs()])"
   ]
  },
  {
   "cell_type": "code",
   "execution_count": 22,
   "metadata": {},
   "outputs": [
    {
     "name": "stderr",
     "output_type": "stream",
     "text": [
      "100%|██████████| 57/57 [00:00<00:00, 524.03it/s]\n",
      "100%|██████████| 4464/4464 [00:00<00:00, 904423.39it/s]\n",
      "100%|██████████| 4464/4464 [00:00<?, ?it/s]"
     ]
    },
    {
     "name": "stdout",
     "output_type": "stream",
     "text": [
      "0\n"
     ]
    },
    {
     "name": "stderr",
     "output_type": "stream",
     "text": [
      "\n"
     ]
    },
    {
     "data": {
      "text/html": [
       "<div>\n",
       "<style scoped>\n",
       "    .dataframe tbody tr th:only-of-type {\n",
       "        vertical-align: middle;\n",
       "    }\n",
       "\n",
       "    .dataframe tbody tr th {\n",
       "        vertical-align: top;\n",
       "    }\n",
       "\n",
       "    .dataframe thead th {\n",
       "        text-align: right;\n",
       "    }\n",
       "</style>\n",
       "<table border=\"1\" class=\"dataframe\">\n",
       "  <thead>\n",
       "    <tr style=\"text-align: right;\">\n",
       "      <th></th>\n",
       "      <th>constr_type</th>\n",
       "      <th>constr_level</th>\n",
       "      <th>constraint_slack</th>\n",
       "      <th>rhs</th>\n",
       "      <th>l</th>\n",
       "      <th>t</th>\n",
       "    </tr>\n",
       "  </thead>\n",
       "  <tbody>\n",
       "    <tr>\n",
       "      <th>0</th>\n",
       "      <td>pos_line_flow_limit</td>\n",
       "      <td>[0,0]</td>\n",
       "      <td>181.809822</td>\n",
       "      <td>182.074869</td>\n",
       "      <td>0</td>\n",
       "      <td>0</td>\n",
       "    </tr>\n",
       "    <tr>\n",
       "      <th>1</th>\n",
       "      <td>pos_line_flow_limit</td>\n",
       "      <td>[1,0]</td>\n",
       "      <td>187.422726</td>\n",
       "      <td>187.157679</td>\n",
       "      <td>1</td>\n",
       "      <td>0</td>\n",
       "    </tr>\n",
       "    <tr>\n",
       "      <th>2</th>\n",
       "      <td>pos_line_flow_limit</td>\n",
       "      <td>[2,0]</td>\n",
       "      <td>520.040732</td>\n",
       "      <td>518.744275</td>\n",
       "      <td>2</td>\n",
       "      <td>0</td>\n",
       "    </tr>\n",
       "    <tr>\n",
       "      <th>3</th>\n",
       "      <td>pos_line_flow_limit</td>\n",
       "      <td>[3,0]</td>\n",
       "      <td>193.907642</td>\n",
       "      <td>193.304826</td>\n",
       "      <td>3</td>\n",
       "      <td>0</td>\n",
       "    </tr>\n",
       "    <tr>\n",
       "      <th>4</th>\n",
       "      <td>pos_line_flow_limit</td>\n",
       "      <td>[4,0]</td>\n",
       "      <td>154.555887</td>\n",
       "      <td>155.650972</td>\n",
       "      <td>4</td>\n",
       "      <td>0</td>\n",
       "    </tr>\n",
       "    <tr>\n",
       "      <th>...</th>\n",
       "      <td>...</td>\n",
       "      <td>...</td>\n",
       "      <td>...</td>\n",
       "      <td>...</td>\n",
       "      <td>...</td>\n",
       "      <td>...</td>\n",
       "    </tr>\n",
       "    <tr>\n",
       "      <th>4459</th>\n",
       "      <td>pos_line_flow_limit</td>\n",
       "      <td>[181,23]</td>\n",
       "      <td>183.824637</td>\n",
       "      <td>172.991056</td>\n",
       "      <td>181</td>\n",
       "      <td>23</td>\n",
       "    </tr>\n",
       "    <tr>\n",
       "      <th>4460</th>\n",
       "      <td>pos_line_flow_limit</td>\n",
       "      <td>[182,23]</td>\n",
       "      <td>500.000000</td>\n",
       "      <td>500.000000</td>\n",
       "      <td>182</td>\n",
       "      <td>23</td>\n",
       "    </tr>\n",
       "    <tr>\n",
       "      <th>4461</th>\n",
       "      <td>pos_line_flow_limit</td>\n",
       "      <td>[183,23]</td>\n",
       "      <td>172.293175</td>\n",
       "      <td>172.293175</td>\n",
       "      <td>183</td>\n",
       "      <td>23</td>\n",
       "    </tr>\n",
       "    <tr>\n",
       "      <th>4462</th>\n",
       "      <td>pos_line_flow_limit</td>\n",
       "      <td>[184,23]</td>\n",
       "      <td>144.347178</td>\n",
       "      <td>121.849531</td>\n",
       "      <td>184</td>\n",
       "      <td>23</td>\n",
       "    </tr>\n",
       "    <tr>\n",
       "      <th>4463</th>\n",
       "      <td>pos_line_flow_limit</td>\n",
       "      <td>[185,23]</td>\n",
       "      <td>201.164822</td>\n",
       "      <td>223.662469</td>\n",
       "      <td>185</td>\n",
       "      <td>23</td>\n",
       "    </tr>\n",
       "  </tbody>\n",
       "</table>\n",
       "<p>4464 rows × 6 columns</p>\n",
       "</div>"
      ],
      "text/plain": [
       "              constr_type constr_level  constraint_slack         rhs    l   t\n",
       "0     pos_line_flow_limit        [0,0]        181.809822  182.074869    0   0\n",
       "1     pos_line_flow_limit        [1,0]        187.422726  187.157679    1   0\n",
       "2     pos_line_flow_limit        [2,0]        520.040732  518.744275    2   0\n",
       "3     pos_line_flow_limit        [3,0]        193.907642  193.304826    3   0\n",
       "4     pos_line_flow_limit        [4,0]        154.555887  155.650972    4   0\n",
       "...                   ...          ...               ...         ...  ...  ..\n",
       "4459  pos_line_flow_limit     [181,23]        183.824637  172.991056  181  23\n",
       "4460  pos_line_flow_limit     [182,23]        500.000000  500.000000  182  23\n",
       "4461  pos_line_flow_limit     [183,23]        172.293175  172.293175  183  23\n",
       "4462  pos_line_flow_limit     [184,23]        144.347178  121.849531  184  23\n",
       "4463  pos_line_flow_limit     [185,23]        201.164822  223.662469  185  23\n",
       "\n",
       "[4464 rows x 6 columns]"
      ]
     },
     "execution_count": 22,
     "metadata": {},
     "output_type": "execute_result"
    }
   ],
   "source": [
    "grouped_constraints = {}\n",
    "for name in tqdm(constraints['constr_type'].unique()):\n",
    "    grouped_constraints[name] = constraints.query('constr_type == @name').reset_index(drop=True)\n",
    "\n",
    "line_flow_limits = grouped_constraints['pos_line_flow_limit']\n",
    "line_flow_limits['l'] = line_flow_limits['constr_level'].progress_apply(lambda x: int(x.strip('[').strip(']').split(',')[0]))\n",
    "line_flow_limits['t'] = line_flow_limits['constr_level'].progress_apply(lambda x: int(x.strip('[').strip(']').split(',')[1]))\n",
    "\n",
    "print((line_flow_limits.constraint_slack < 1e-3).sum())\n",
    "slack_line_vals_pos = line_flow_limits['constraint_slack'] - line_flow_limits['rhs']\n",
    "line_flow_limits"
   ]
  },
  {
   "cell_type": "code",
   "execution_count": 23,
   "metadata": {},
   "outputs": [
    {
     "name": "stderr",
     "output_type": "stream",
     "text": [
      "100%|██████████| 57/57 [00:00<00:00, 521.12it/s]\n",
      "100%|██████████| 4464/4464 [00:00<00:00, 633702.47it/s]\n",
      "100%|██████████| 4464/4464 [00:00<?, ?it/s]"
     ]
    },
    {
     "name": "stdout",
     "output_type": "stream",
     "text": [
      "4464\n"
     ]
    },
    {
     "name": "stderr",
     "output_type": "stream",
     "text": [
      "\n"
     ]
    },
    {
     "data": {
      "text/html": [
       "<div>\n",
       "<style scoped>\n",
       "    .dataframe tbody tr th:only-of-type {\n",
       "        vertical-align: middle;\n",
       "    }\n",
       "\n",
       "    .dataframe tbody tr th {\n",
       "        vertical-align: top;\n",
       "    }\n",
       "\n",
       "    .dataframe thead th {\n",
       "        text-align: right;\n",
       "    }\n",
       "</style>\n",
       "<table border=\"1\" class=\"dataframe\">\n",
       "  <thead>\n",
       "    <tr style=\"text-align: right;\">\n",
       "      <th></th>\n",
       "      <th>constr_type</th>\n",
       "      <th>constr_level</th>\n",
       "      <th>constraint_slack</th>\n",
       "      <th>rhs</th>\n",
       "      <th>l</th>\n",
       "      <th>t</th>\n",
       "    </tr>\n",
       "  </thead>\n",
       "  <tbody>\n",
       "    <tr>\n",
       "      <th>0</th>\n",
       "      <td>neg_line_flow_limit</td>\n",
       "      <td>[0,0]</td>\n",
       "      <td>-168.190178</td>\n",
       "      <td>-167.925131</td>\n",
       "      <td>0</td>\n",
       "      <td>0</td>\n",
       "    </tr>\n",
       "    <tr>\n",
       "      <th>1</th>\n",
       "      <td>neg_line_flow_limit</td>\n",
       "      <td>[1,0]</td>\n",
       "      <td>-162.577274</td>\n",
       "      <td>-162.842321</td>\n",
       "      <td>1</td>\n",
       "      <td>0</td>\n",
       "    </tr>\n",
       "    <tr>\n",
       "      <th>2</th>\n",
       "      <td>neg_line_flow_limit</td>\n",
       "      <td>[2,0]</td>\n",
       "      <td>-479.959268</td>\n",
       "      <td>-481.255725</td>\n",
       "      <td>2</td>\n",
       "      <td>0</td>\n",
       "    </tr>\n",
       "    <tr>\n",
       "      <th>3</th>\n",
       "      <td>neg_line_flow_limit</td>\n",
       "      <td>[3,0]</td>\n",
       "      <td>-156.092358</td>\n",
       "      <td>-156.695174</td>\n",
       "      <td>3</td>\n",
       "      <td>0</td>\n",
       "    </tr>\n",
       "    <tr>\n",
       "      <th>4</th>\n",
       "      <td>neg_line_flow_limit</td>\n",
       "      <td>[4,0]</td>\n",
       "      <td>-195.444113</td>\n",
       "      <td>-194.349028</td>\n",
       "      <td>4</td>\n",
       "      <td>0</td>\n",
       "    </tr>\n",
       "    <tr>\n",
       "      <th>...</th>\n",
       "      <td>...</td>\n",
       "      <td>...</td>\n",
       "      <td>...</td>\n",
       "      <td>...</td>\n",
       "      <td>...</td>\n",
       "      <td>...</td>\n",
       "    </tr>\n",
       "    <tr>\n",
       "      <th>4459</th>\n",
       "      <td>neg_line_flow_limit</td>\n",
       "      <td>[181,23]</td>\n",
       "      <td>-166.175363</td>\n",
       "      <td>-177.008944</td>\n",
       "      <td>181</td>\n",
       "      <td>23</td>\n",
       "    </tr>\n",
       "    <tr>\n",
       "      <th>4460</th>\n",
       "      <td>neg_line_flow_limit</td>\n",
       "      <td>[182,23]</td>\n",
       "      <td>-500.000000</td>\n",
       "      <td>-500.000000</td>\n",
       "      <td>182</td>\n",
       "      <td>23</td>\n",
       "    </tr>\n",
       "    <tr>\n",
       "      <th>4461</th>\n",
       "      <td>neg_line_flow_limit</td>\n",
       "      <td>[183,23]</td>\n",
       "      <td>-177.706825</td>\n",
       "      <td>-177.706825</td>\n",
       "      <td>183</td>\n",
       "      <td>23</td>\n",
       "    </tr>\n",
       "    <tr>\n",
       "      <th>4462</th>\n",
       "      <td>neg_line_flow_limit</td>\n",
       "      <td>[184,23]</td>\n",
       "      <td>-205.652822</td>\n",
       "      <td>-228.150469</td>\n",
       "      <td>184</td>\n",
       "      <td>23</td>\n",
       "    </tr>\n",
       "    <tr>\n",
       "      <th>4463</th>\n",
       "      <td>neg_line_flow_limit</td>\n",
       "      <td>[185,23]</td>\n",
       "      <td>-148.835178</td>\n",
       "      <td>-126.337531</td>\n",
       "      <td>185</td>\n",
       "      <td>23</td>\n",
       "    </tr>\n",
       "  </tbody>\n",
       "</table>\n",
       "<p>4464 rows × 6 columns</p>\n",
       "</div>"
      ],
      "text/plain": [
       "              constr_type constr_level  constraint_slack         rhs    l   t\n",
       "0     neg_line_flow_limit        [0,0]       -168.190178 -167.925131    0   0\n",
       "1     neg_line_flow_limit        [1,0]       -162.577274 -162.842321    1   0\n",
       "2     neg_line_flow_limit        [2,0]       -479.959268 -481.255725    2   0\n",
       "3     neg_line_flow_limit        [3,0]       -156.092358 -156.695174    3   0\n",
       "4     neg_line_flow_limit        [4,0]       -195.444113 -194.349028    4   0\n",
       "...                   ...          ...               ...         ...  ...  ..\n",
       "4459  neg_line_flow_limit     [181,23]       -166.175363 -177.008944  181  23\n",
       "4460  neg_line_flow_limit     [182,23]       -500.000000 -500.000000  182  23\n",
       "4461  neg_line_flow_limit     [183,23]       -177.706825 -177.706825  183  23\n",
       "4462  neg_line_flow_limit     [184,23]       -205.652822 -228.150469  184  23\n",
       "4463  neg_line_flow_limit     [185,23]       -148.835178 -126.337531  185  23\n",
       "\n",
       "[4464 rows x 6 columns]"
      ]
     },
     "execution_count": 23,
     "metadata": {},
     "output_type": "execute_result"
    }
   ],
   "source": [
    "grouped_constraints = {}\n",
    "for name in tqdm(constraints['constr_type'].unique()):\n",
    "    grouped_constraints[name] = constraints.query('constr_type == @name').reset_index(drop=True)\n",
    "\n",
    "line_flow_limits = grouped_constraints['neg_line_flow_limit']\n",
    "line_flow_limits['l'] = line_flow_limits['constr_level'].progress_apply(lambda x: int(x.strip('[').strip(']').split(',')[0]))\n",
    "line_flow_limits['t'] = line_flow_limits['constr_level'].progress_apply(lambda x: int(x.strip('[').strip(']').split(',')[1]))\n",
    "\n",
    "print((line_flow_limits.constraint_slack < 1e-3).sum())\n",
    "slack_line_vals_neg = line_flow_limits['constraint_slack'] - line_flow_limits['rhs']\n",
    "line_flow_limits"
   ]
  },
  {
   "cell_type": "code",
   "execution_count": 32,
   "metadata": {},
   "outputs": [
    {
     "data": {
      "text/plain": [
       "True"
      ]
     },
     "execution_count": 32,
     "metadata": {},
     "output_type": "execute_result"
    }
   ],
   "source": [
    "np.allclose(abs(slack_line_vals_pos), abs(slack_line_vals_neg))"
   ]
  },
  {
   "cell_type": "code",
   "execution_count": 73,
   "metadata": {},
   "outputs": [
    {
     "name": "stdout",
     "output_type": "stream",
     "text": [
      "0       -0.265047\n",
      "1        0.265047\n",
      "2        1.296458\n",
      "3        0.602816\n",
      "4       -1.095085\n",
      "          ...    \n",
      "4459    10.833581\n",
      "4460     0.000000\n",
      "4461     0.000000\n",
      "4462    22.497647\n",
      "4463   -22.497647\n",
      "Length: 4464, dtype: float64\n"
     ]
    }
   ],
   "source": [
    "pos_val = slack_line_vals_neg.values.reshape(24,186)\n",
    "neg_val = slack_line_vals_neg.values.reshape(24,186)\n",
    "\n",
    "res_aux = np.concatenate((pos_val, neg_val), axis=1)\n",
    "df_test = pd.DataFrame(res_aux)\n",
    "\n",
    "df_test.to_csv(f'saved_active_constraints.csv', index=False, header=False, mode='a')\n",
    "#print(slack_line_vals_neg)"
   ]
  },
  {
   "cell_type": "markdown",
   "metadata": {},
   "source": [
    "<a class=\"anchor\" id=\"machine-learning\"></a>\n",
    "## 4. Can we solve the problem using machine learning?"
   ]
  },
  {
   "cell_type": "code",
   "execution_count": 25,
   "metadata": {},
   "outputs": [],
   "source": [
    "# OUTPUT: binary generator on/off status\n",
    "# OUTPUT: active constraints (on transmission lines)\n",
    "\n",
    "# INPUT: load profile\n",
    "# INPUT: demand\n",
    "# INPUT: time (hours)\n",
    "# INPUT: ramping up/down\n",
    "# INPUT: minimum on/off time\n",
    "# INPUT: cost of operation\n",
    "# INPUT: cost of start-up"
   ]
  },
  {
   "cell_type": "code",
   "execution_count": 26,
   "metadata": {},
   "outputs": [],
   "source": [
    "#pd.concat([UT, DT], axis=1)"
   ]
  },
  {
   "cell_type": "code",
   "execution_count": 27,
   "metadata": {},
   "outputs": [],
   "source": [
    "# AUC curve\n",
    "# heatmap"
   ]
  },
  {
   "cell_type": "markdown",
   "metadata": {},
   "source": [
    "<a class=\"anchor\" id=\"extra\"></a>\n",
    "## 5. Extra"
   ]
  },
  {
   "cell_type": "code",
   "execution_count": null,
   "metadata": {},
   "outputs": [],
   "source": []
  }
 ],
 "metadata": {
  "kernelspec": {
   "display_name": "46765",
   "language": "python",
   "name": "python3"
  },
  "language_info": {
   "codemirror_mode": {
    "name": "ipython",
    "version": 3
   },
   "file_extension": ".py",
   "mimetype": "text/x-python",
   "name": "python",
   "nbconvert_exporter": "python",
   "pygments_lexer": "ipython3",
   "version": "3.11.5"
  }
 },
 "nbformat": 4,
 "nbformat_minor": 2
}
