{
 "cells": [
  {
   "cell_type": "markdown",
   "metadata": {},
   "source": [
    "<a class=\"anchor\" id=\"toc-go-back\"></a>\n",
    "# Assignment 3: Day-ahead scheduling from the perspective of the system operator\n",
    "\n",
    "### Table of Contents\n",
    "* [1. Loading the data](#data-loading)\n",
    "* [2. Setup optimization problem](#optimziation-problem-setup)\n",
    "* [3. Running the optimization model ](#run-optimization)\n",
    "* [4. Can we solve the problem using machine learning?](#machine-learning)\n",
    "* [5. Extra ](#extra)"
   ]
  },
  {
   "cell_type": "markdown",
   "metadata": {},
   "source": [
    "First of all, we refer to the hand-in for an in-depth description of the problem formulation and the optimization problem. This notebooks focuses on implementing the model using ```Gurobipy``` and an additional part using machine learning. \n",
    "\n",
    "We start by loading the relevant modules."
   ]
  },
  {
   "cell_type": "code",
   "execution_count": 5,
   "metadata": {},
   "outputs": [],
   "source": [
    "from pathlib import Path\n",
    "\n",
    "import numpy as np\n",
    "import pandas as pd\n",
    "import matplotlib.pyplot as plt\n",
    "plt.style.use('ggplot')\n",
    "\n",
    "import gurobipy as grb"
   ]
  },
  {
   "cell_type": "code",
   "execution_count": 6,
   "metadata": {},
   "outputs": [],
   "source": [
    "DATA_DIR = Path('../data')"
   ]
  },
  {
   "cell_type": "markdown",
   "metadata": {},
   "source": [
    "<a class=\"anchor\" id=\"data-loading\"></a>\n",
    "## 1. Loading the data\n",
    "\n",
    "We initially load the data files given to us with the assignment description. This will later on be used as input to the optimization model from which we can then find the optimal values of the decision variables."
   ]
  },
  {
   "cell_type": "code",
   "execution_count": 11,
   "metadata": {},
   "outputs": [],
   "source": [
    "# Load data files from csv-files\n",
    "pmax    = pd.read_csv(DATA_DIR / 'pgmax.csv')\n",
    "pmin    = pd.read_csv(DATA_DIR / 'pgmin.csv')\n",
    "ru      = pd.read_csv(DATA_DIR / 'ramp.csv')\n",
    "UT      = pd.read_csv(DATA_DIR / 'lu.csv')\n",
    "DT      = pd.read_csv(DATA_DIR / 'ld.csv')    \n",
    "demand  = pd.read_csv(DATA_DIR / 'Demand.csv', sep=';')   \n",
    "c_op    = pd.read_csv(DATA_DIR / 'cost_op.csv') \n",
    "c_st    = pd.read_csv(DATA_DIR / 'cost_st.csv') \n",
    "PTDF    = pd.read_csv(DATA_DIR / 'PTDF.csv', sep=';') \n",
    "busgen  = pd.read_csv(DATA_DIR / 'busgen.csv', sep=';')\n",
    "busload = pd.read_csv(DATA_DIR / 'busload.csv', sep=';')\n",
    "fmax    = pd.read_csv(DATA_DIR / 'fmax.csv')\n",
    "\n",
    "# ???????????????????????????????????????????????????????????????????????????\n",
    "Hg      = np.dot(PTDF, busgen)\n",
    "Hl      = np.dot(PTDF, busload)"
   ]
  },
  {
   "cell_type": "markdown",
   "metadata": {},
   "source": [
    "With the data set loaded, we can now define the basics underlying the optimization problem - thus, we start by defining the numerical values of the parameters."
   ]
  },
  {
   "cell_type": "code",
   "execution_count": null,
   "metadata": {},
   "outputs": [],
   "source": [
    "N_g     = busgen.shape[1]   # the number of generator units\n",
    "N_t     = demand.shape[0]   # next 24 hours\n",
    "N_load  = busload.shape[1]  # the number of load buses\n",
    "N_lines = PTDF.shape[0]     # the number of transmission lines"
   ]
  },
  {
   "cell_type": "markdown",
   "metadata": {},
   "source": [
    "<a class=\"anchor\" id=\"optimization-problem-setup\"></a>\n",
    "## 2. Setup optimization problem"
   ]
  },
  {
   "cell_type": "code",
   "execution_count": 12,
   "metadata": {},
   "outputs": [
    {
     "name": "stdout",
     "output_type": "stream",
     "text": [
      "Restricted license - for non-production use only - expires 2024-10-28\n"
     ]
    }
   ],
   "source": [
    "model = grb.Model()"
   ]
  },
  {
   "cell_type": "markdown",
   "metadata": {},
   "source": [
    "Now, we are ready to define the decision variables of the optimization problem. These relate to the start-up status and production of generator units at each time step of the day. We additionally include a variable for denoting the on/off status. As we are given a data file for start-up costs for each generation unit, we approach the problem with the start-up cost being time-independent and consider it as an input rather than a decision variable."
   ]
  },
  {
   "cell_type": "code",
   "execution_count": 26,
   "metadata": {},
   "outputs": [],
   "source": [
    "# Add variables for each generator unit at each time step for specifying on/off and start-up status\n",
    "b   = model.addVars(N_g, N_t, vtype=grb.GRB.BINARY)\n",
    "u   = model.addVars(N_g, N_t, vtype=grb.GRB.BINARY)\n",
    "\n",
    "# Add variable denoting the power output of each generator unit at each time step\n",
    "p   = model.addVars(N_g, N_t, vtype=grb.GRB.CONTINUOUS)\n",
    "\n",
    "# We add slack variables for ensuring feasability of the power balance equations\n",
    "eps     = model.addVars(N_t, 1, vtype=grb.GRB.CONTINUOUS)\n",
    "delta   = model.addVars(N_t, 1, vtype=grb.GRB.CONTINUOUS)\n",
    "\n",
    "# Make variable updates effective\n",
    "model.update()"
   ]
  },
  {
   "cell_type": "markdown",
   "metadata": {},
   "source": [
    "Next, we add the constraints to the optimization model. Overall these concern:\n",
    "1) Power balance equation, i.e. the total production must equal the total demand. Here, we add the concept of slack variable for feasibility - i.e. making sure that the problem can be solved even if in some cases the demand is not met.\n",
    "2) Generation limits, ensuring that the generator units do not produce more than their maximum capacity.\n",
    "3) Line technical limits, ensuring that the flow between busses does not exceed the maximum capacity of the line.\n",
    "4) Start-up constraints for turning on a generator unit\n",
    "5) Ramp-up and ramp-down constraints, ensuring...\n",
    "6) Binary constraints for generator unit status (on/off)."
   ]
  },
  {
   "cell_type": "code",
   "execution_count": 53,
   "metadata": {},
   "outputs": [],
   "source": [
    "for t in range(N_t):\n",
    "\n",
    "    ### 1) POWER BALANCE EQUATION ###\n",
    "    # Add power balance constraints for each time step\n",
    "    model.addConstr(sum(p[j, t] for j in range(N_g)) == sum(demand.iloc[t, i] for i in range(N_load)) + eps[t, 0] - delta[t, 0])\n",
    "    # Add positive constraints for the slack variables\n",
    "    model.addConstr(eps[t, 0] >= 0)\n",
    "    model.addConstr(delta[t, 0] >= 0)\n",
    "\n",
    "    ### 2) GENERATION LIMITS ###\n",
    "    ...\n",
    "\n",
    "    ### 3) LINE FLOW LIMITS ###\n",
    "    ...\n",
    "\n",
    "    ### 4) START-UP COSTS ###\n",
    "    ...\n",
    "\n",
    "    ### 5) RAMPING CONSTRAINTS ###\n",
    "    ...\n",
    "\n",
    "    ### 6) BINARIZE GENERATOR ON/OFF AND START-UP STATUS ###\n",
    "    ...\n",
    "    \n",
    "model.update()"
   ]
  },
  {
   "cell_type": "markdown",
   "metadata": {},
   "source": [
    "Lastly, we define the objective function for the optimization problem. This is defined as minimizing the total cost - i.e. production cost and start-up cost. In this case, we assume deterministic start-up costs for each generator unit - in other words, we assume that they are time-independent."
   ]
  },
  {
   "cell_type": "code",
   "execution_count": 55,
   "metadata": {},
   "outputs": [],
   "source": [
    "# s_g = u * c_st"
   ]
  },
  {
   "cell_type": "markdown",
   "metadata": {},
   "source": [
    "<a class=\"anchor\" id=\"run-optimization\"></a>\n",
    "## 3. Running the optimization model"
   ]
  },
  {
   "cell_type": "code",
   "execution_count": null,
   "metadata": {},
   "outputs": [],
   "source": []
  },
  {
   "cell_type": "markdown",
   "metadata": {},
   "source": [
    "<a class=\"anchor\" id=\"machine-learning\"></a>\n",
    "## 4. Can we solve the problem using machine learning?"
   ]
  },
  {
   "cell_type": "code",
   "execution_count": null,
   "metadata": {},
   "outputs": [],
   "source": []
  },
  {
   "cell_type": "markdown",
   "metadata": {},
   "source": [
    "<a class=\"anchor\" id=\"extra\"></a>\n",
    "## 5. Extra"
   ]
  },
  {
   "cell_type": "code",
   "execution_count": null,
   "metadata": {},
   "outputs": [],
   "source": []
  }
 ],
 "metadata": {
  "kernelspec": {
   "display_name": "46765",
   "language": "python",
   "name": "python3"
  },
  "language_info": {
   "codemirror_mode": {
    "name": "ipython",
    "version": 3
   },
   "file_extension": ".py",
   "mimetype": "text/x-python",
   "name": "python",
   "nbconvert_exporter": "python",
   "pygments_lexer": "ipython3",
   "version": "3.11.4"
  }
 },
 "nbformat": 4,
 "nbformat_minor": 2
}
