{
 "cells": [
  {
   "cell_type": "markdown",
   "metadata": {},
   "source": [
    "<a class=\"anchor\" id=\"toc-go-back\"></a>\n",
    "# Assignment 3: Day-ahead scheduling from the perspective of the system operator\n",
    "\n",
    "### Table of Contents\n",
    "* [1. Loading the data](#data-loading)\n",
    "* [2. Setup optimization problem](#optimziation-problem-setup)\n",
    "* [3. Running the optimization model ](#run-optimization)\n",
    "* [4. Can we solve the problem using machine learning?](#machine-learning)\n",
    "* [5. Extra ](#extra)"
   ]
  },
  {
   "cell_type": "markdown",
   "metadata": {},
   "source": [
    "First of all, we refer to the hand-in for an in-depth description of the problem formulation and the optimization problem. This notebooks focuses on implementing the model using ```Gurobipy``` and an additional part using machine learning. \n",
    "\n",
    "We start by loading the relevant modules."
   ]
  },
  {
   "cell_type": "code",
   "execution_count": 1,
   "metadata": {},
   "outputs": [],
   "source": [
    "from pathlib import Path\n",
    "\n",
    "import numpy as np\n",
    "import pandas as pd\n",
    "import matplotlib.pyplot as plt\n",
    "plt.style.use('ggplot')\n",
    "\n",
    "import gurobipy as grb"
   ]
  },
  {
   "cell_type": "code",
   "execution_count": 2,
   "metadata": {},
   "outputs": [],
   "source": [
    "DATA_DIR = Path('../data')"
   ]
  },
  {
   "cell_type": "markdown",
   "metadata": {},
   "source": [
    "<a class=\"anchor\" id=\"data-loading\"></a>\n",
    "## 1. Loading the data\n",
    "\n",
    "We initially load the data files given to us with the assignment description. This will later on be used as input to the optimization model from which we can then find the optimal values of the decision variables."
   ]
  },
  {
   "cell_type": "code",
   "execution_count": 3,
   "metadata": {},
   "outputs": [],
   "source": [
    "# Load data files from csv-files\n",
    "pmax    = pd.read_csv(DATA_DIR / 'pgmax.csv')\n",
    "pmin    = pd.read_csv(DATA_DIR / 'pgmin.csv')\n",
    "ru      = pd.read_csv(DATA_DIR / 'ramp.csv')\n",
    "UT      = pd.read_csv(DATA_DIR / 'lu.csv')\n",
    "DT      = pd.read_csv(DATA_DIR / 'ld.csv')    \n",
    "demand  = pd.read_csv(DATA_DIR / 'Demand.csv', sep=';')   \n",
    "c_op    = pd.read_csv(DATA_DIR / 'cost_op.csv') \n",
    "c_st    = pd.read_csv(DATA_DIR / 'cost_st.csv') \n",
    "PTDF    = pd.read_csv(DATA_DIR / 'PTDF.csv', sep=';') \n",
    "busgen  = pd.read_csv(DATA_DIR / 'busgen.csv', sep=';')\n",
    "busload = pd.read_csv(DATA_DIR / 'busload.csv', sep=';')\n",
    "fmax    = pd.read_csv(DATA_DIR / 'fmax.csv')\n",
    "\n",
    "# ???????????????????????????????????????????????????????????????????????????\n",
    "Hg      = pd.DataFrame(np.dot(PTDF, busgen), index=[f'Line {i+1}' for i in range(PTDF.shape[0])], columns=[f'Gen {i+1}' for i in range(busgen.shape[1])])\n",
    "Hl      = pd.DataFrame(np.dot(PTDF, busload), index=[f'Line {i+1}' for i in range(PTDF.shape[0])], columns=[f'Load {i+1}' for i in range(busload.shape[1])])"
   ]
  },
  {
   "cell_type": "markdown",
   "metadata": {},
   "source": [
    "With the data set loaded, we can now define the basics underlying the optimization problem - thus, we start by defining the numerical values of the parameters."
   ]
  },
  {
   "cell_type": "code",
   "execution_count": 4,
   "metadata": {},
   "outputs": [],
   "source": [
    "N_g     = busgen.shape[1]   # the number of generator units\n",
    "N_t     = demand.shape[0]   # next 24 hours\n",
    "N_load  = busload.shape[1]  # the number of load buses\n",
    "N_lines = PTDF.shape[0]     # the number of transmission lines"
   ]
  },
  {
   "cell_type": "code",
   "execution_count": 113,
   "metadata": {},
   "outputs": [],
   "source": [
    "N_g     = 5\n",
    "N_t     = 24\n",
    "N_load  = 8\n",
    "N_lines = 16"
   ]
  },
  {
   "cell_type": "markdown",
   "metadata": {},
   "source": [
    "<a class=\"anchor\" id=\"optimization-problem-setup\"></a>\n",
    "## 2. Setup optimization problem"
   ]
  },
  {
   "cell_type": "markdown",
   "metadata": {},
   "source": [
    "Differences between the hand-in and the proposed formula from class:\n",
    "1. start-up cost is deterministic and should not be optimized for (i.e. input parameter and not decision variable)\n",
    "2. demand is additionally indexed by time for the flow constraint\n",
    "3. the start-up constraint is added by specifying an on/off variable for each unit at each time, $b$."
   ]
  },
  {
   "cell_type": "code",
   "execution_count": 115,
   "metadata": {},
   "outputs": [],
   "source": [
    "model = grb.Model()"
   ]
  },
  {
   "cell_type": "markdown",
   "metadata": {},
   "source": [
    "Now, we are ready to define the decision variables of the optimization problem. These relate to the start-up status and production of generator units at each time step of the day. We additionally include a variable for denoting the on/off status. As we are given a data file for start-up costs for each generation unit, we approach the problem with the start-up cost being time-independent and consider it as an input rather than a decision variable."
   ]
  },
  {
   "cell_type": "code",
   "execution_count": 116,
   "metadata": {},
   "outputs": [],
   "source": [
    "# Add variables for each generator unit at each time step for specifying on/off and start-up status\n",
    "b   = model.addVars(N_g, N_t, vtype=grb.GRB.BINARY)\n",
    "u   = model.addVars(N_g, N_t, vtype=grb.GRB.BINARY)\n",
    "\n",
    "# Add variable denoting the power output of each generator unit at each time step\n",
    "p   = model.addVars(N_g, N_t, vtype=grb.GRB.CONTINUOUS)\n",
    "\n",
    "# We add slack variables for ensuring feasability of the power balance equations\n",
    "eps     = model.addVars(N_t, 1, vtype=grb.GRB.CONTINUOUS)\n",
    "delta   = model.addVars(N_t, 1, vtype=grb.GRB.CONTINUOUS)\n",
    "\n",
    "# Make variable updates effective\n",
    "model.update()"
   ]
  },
  {
   "cell_type": "markdown",
   "metadata": {},
   "source": [
    "Next, we add the constraints to the optimization model. Overall these concern:\n",
    "1) Power balance equation, i.e. the total production must equal the total demand. Here, we add the concept of slack variable for feasibility - i.e. making sure that the problem can be solved even if in some cases the demand is not met.\n",
    "2) Generation limits, ensuring that the generator units do not produce more than their maximum capacity.\n",
    "3) Ramp-up and ramp-down constraints, ensuring...\n",
    "4) Line technical limits, ensuring that the flow between busses does not exceed the maximum capacity of the line.\n",
    "5) Minimum on/off times.\n",
    "6) Start-up constraints for turning on a generator unit (i.e. the unit must be off in the previous time step)."
   ]
  },
  {
   "cell_type": "code",
   "execution_count": 117,
   "metadata": {},
   "outputs": [],
   "source": [
    "d_vector = demand.iloc[0, :]"
   ]
  },
  {
   "cell_type": "code",
   "execution_count": 118,
   "metadata": {},
   "outputs": [
    {
     "name": "stderr",
     "output_type": "stream",
     "text": [
      "Adding constraints...:   0%|          | 0/24 [00:00<?, ?it/s]"
     ]
    },
    {
     "name": "stdout",
     "output_type": "stream",
     "text": [
      "Warning for adding constraints: zero or small (< 1e-13) coefficients, ignored\n"
     ]
    },
    {
     "name": "stderr",
     "output_type": "stream",
     "text": [
      "Adding constraints...: 100%|██████████| 24/24 [00:00<00:00, 69.74it/s]\n"
     ]
    }
   ],
   "source": [
    "from tqdm import tqdm\n",
    "\n",
    "for t in tqdm(range(N_t), desc='Adding constraints...'):\n",
    "\n",
    "    ### POWER BALANCE EQUATION ###\n",
    "    # Add power balance constraints for each time step\n",
    "    model.addConstr(sum(p[g_n, t] for g_n in range(N_g)) == sum(demand.iloc[t, n] for n in range(N_load)) + eps[t, 0] - delta[t, 0])\n",
    "    \n",
    "    # Add positive constraints for the slack variables\n",
    "    model.addConstr(eps[t, 0] >= 0)\n",
    "    model.addConstr(delta[t, 0] >= 0)\n",
    "\n",
    "    for g in range(N_g):\n",
    "        \n",
    "        ### GENERATION LIMITS ###\n",
    "        model.addConstr(b[g, t] * pmin.iloc[g, 0] <= p[g, t])\n",
    "        model.addConstr(b[g, t] * pmax.iloc[g, 0] >= p[g, t])\n",
    "        \n",
    "        if t > 1:\n",
    "            ### GENERATOR ON/OFF AND START-UP STATUS ###\n",
    "            model.addConstr(u[g, t] >= b[g, t] - b[g, t-1])\n",
    "\n",
    "            ### RAMPING CONSTRAINTS ###\n",
    "            model.addConstr(p[g, t] - p[g, t-1] <= ru.iloc[g, 0])\n",
    "            model.addConstr(p[g, t-1] - p[g, t] <= ru.iloc[g, 0])\n",
    "\n",
    "            ### MINIMUM ON TIME ###\n",
    "            min_on_time_generator = min(UT.iloc[g, 0] + t - 1, N_t)\n",
    "            for tau in range(t, min_on_time_generator):\n",
    "                model.addConstr(-b[g, t-1] + b[g, t] - b[g, tau] <= 0)\n",
    "            \n",
    "            ### MINIMUM OFF TIME ###\n",
    "            min_off_time_generator = min(DT.iloc[g, 0] + t - 1, N_t)\n",
    "            for tau in range(t, min_off_time_generator):\n",
    "                model.addConstr(b[g, t-1] - b[g, t] + b[g, tau] <= 1)\n",
    "                        \n",
    "    ### LINE FLOW LIMITS ###\n",
    "    for l in range(N_lines):\n",
    "\n",
    "        # NOTE: should we index time step for indexing the demand? it is not super obvious from the definition to me\n",
    "        # line_expr = sum(Hg.iloc[l, g_n] * p[g_n, t] for g_n in range(N_g)) - sum(Hl.iloc[l, n] * demand.iloc[t, n] for n in range(N_load)) - eps[t, 0] + delta[t, 0]\n",
    "        line_expr = sum(Hg.iloc[l, g_n] * p[g_n, t] for g_n in range(N_g)) - sum(Hl.iloc[l, n] * d_vector.iloc[n] for n in range(N_load)) - eps[t, 0] + delta[t, 0]\n",
    "        model.addConstr(line_expr <= fmax.iloc[l, 0])\n",
    "        model.addConstr(line_expr >= -fmax.iloc[l, 0]) #NOTE: is this relevant?\n",
    "    \n",
    "model.update()"
   ]
  },
  {
   "cell_type": "markdown",
   "metadata": {},
   "source": [
    "Lastly, we define the objective function for the optimization problem. This is defined as minimizing the total cost - i.e. production cost and start-up cost. In this case, we assume deterministic start-up costs for each generator unit - in other words, we assume that they are time-independent."
   ]
  },
  {
   "cell_type": "code",
   "execution_count": 119,
   "metadata": {},
   "outputs": [],
   "source": [
    "# QUESTION: do we need the start-up cost constraint (i.e. s_gt) when having it as an input variable?\n",
    "# QUESTION: what is the M variable in the modified cost function? \n",
    "# QUESTION: what is the decision variable q denoting? for the modified cost function?"
   ]
  },
  {
   "cell_type": "code",
   "execution_count": 120,
   "metadata": {},
   "outputs": [],
   "source": [
    "# Set minimization objective function\n",
    "minimum_objective   = sum(c_op.iloc[g, 0] * p[g, t] + c_st.iloc[g, 0] * u[g, t] for g in range(N_g) for t in range(N_t))\n",
    "# Set slack objective function\n",
    "M = 1\n",
    "slack_objective     = M * sum(eps[t, 0] + delta[t, 0] for t in range(N_t))\n",
    "\n",
    "# Set objective function\n",
    "model.setObjective(sense=grb.GRB.MINIMIZE, expr=minimum_objective + slack_objective)\n",
    "model.update()"
   ]
  },
  {
   "cell_type": "markdown",
   "metadata": {},
   "source": [
    "<a class=\"anchor\" id=\"run-optimization\"></a>\n",
    "## 3. Running the optimization model"
   ]
  },
  {
   "cell_type": "code",
   "execution_count": 121,
   "metadata": {},
   "outputs": [
    {
     "data": {
      "text/plain": [
       "1942"
      ]
     },
     "execution_count": 121,
     "metadata": {},
     "output_type": "execute_result"
    }
   ],
   "source": [
    "model.getConstrs().__len__()"
   ]
  },
  {
   "cell_type": "code",
   "execution_count": 122,
   "metadata": {},
   "outputs": [
    {
     "name": "stdout",
     "output_type": "stream",
     "text": [
      "Gurobi Optimizer version 10.0.2 build v10.0.2rc0 (win64)\n",
      "\n",
      "CPU model: 11th Gen Intel(R) Core(TM) i7-11375H @ 3.30GHz, instruction set [SSE2|AVX|AVX2|AVX512]\n",
      "Thread count: 4 physical cores, 8 logical processors, using up to 8 threads\n",
      "\n",
      "Optimize a model with 1942 rows, 408 columns and 7878 nonzeros\n",
      "Model fingerprint: 0xdaec7d34\n",
      "Variable types: 168 continuous, 240 integer (240 binary)\n",
      "Coefficient statistics:\n",
      "  Matrix range     [5e-03, 3e+02]\n",
      "  Objective range  [1e+00, 4e+02]\n",
      "  Bounds range     [1e+00, 1e+00]\n",
      "  RHS range        [1e+00, 6e+02]\n",
      "Found heuristic solution: objective 92721.290796\n",
      "Presolve removed 689 rows and 22 columns\n",
      "Presolve time: 0.05s\n",
      "Presolved: 1253 rows, 386 columns, 4207 nonzeros\n",
      "Found heuristic solution: objective 90211.915608\n",
      "Variable types: 161 continuous, 225 integer (225 binary)\n",
      "\n",
      "Root relaxation: objective 4.458406e+04, 85 iterations, 0.00 seconds (0.00 work units)\n",
      "\n",
      "    Nodes    |    Current Node    |     Objective Bounds      |     Work\n",
      " Expl Unexpl |  Obj  Depth IntInf | Incumbent    BestBd   Gap | It/Node Time\n",
      "\n",
      "     0     0 44584.0621    0   23 90211.9156 44584.0621  50.6%     -    0s\n",
      "H    0     0                    46646.916366 44584.0621  4.42%     -    0s\n",
      "     0     0     cutoff    0      46646.9164 46646.9164  0.00%     -    0s\n",
      "\n",
      "Cutting planes:\n",
      "  Gomory: 7\n",
      "  MIR: 13\n",
      "  Flow cover: 38\n",
      "\n",
      "Explored 1 nodes (134 simplex iterations) in 0.12 seconds (0.03 work units)\n",
      "Thread count was 8 (of 8 available processors)\n",
      "\n",
      "Solution count 3: 46646.9 90211.9 92721.3 \n",
      "\n",
      "Optimal solution found (tolerance 1.00e-04)\n",
      "Best objective 4.664691636571e+04, best bound 4.664691636571e+04, gap 0.0000%\n"
     ]
    }
   ],
   "source": [
    "opt = model.optimize()"
   ]
  },
  {
   "cell_type": "code",
   "execution_count": null,
   "metadata": {},
   "outputs": [],
   "source": []
  },
  {
   "cell_type": "code",
   "execution_count": 133,
   "metadata": {},
   "outputs": [
    {
     "data": {
      "text/plain": [
       "43052.561275546745"
      ]
     },
     "execution_count": 133,
     "metadata": {},
     "output_type": "execute_result"
    }
   ],
   "source": [
    "sum(p[g, t].x * c_op.iloc[g, 0] + u[g, t].x * c_st.iloc[g, 0] for g in range(N_g) for t in range(N_t))"
   ]
  },
  {
   "cell_type": "code",
   "execution_count": 137,
   "metadata": {},
   "outputs": [
    {
     "name": "stdout",
     "output_type": "stream",
     "text": [
      "0.0\n",
      "0.0\n",
      "0.0\n",
      "0.0\n",
      "1.0\n",
      "0.0\n",
      "0.0\n",
      "0.0\n",
      "0.0\n",
      "1.0\n",
      "0.0\n",
      "0.0\n",
      "0.0\n",
      "0.0\n",
      "1.0\n",
      "0.0\n",
      "0.0\n",
      "0.0\n",
      "0.0\n",
      "1.0\n",
      "0.0\n",
      "0.0\n",
      "0.0\n",
      "0.0\n",
      "1.0\n",
      "0.0\n",
      "0.0\n",
      "0.0\n",
      "0.0\n",
      "1.0\n",
      "0.0\n",
      "0.0\n",
      "0.0\n",
      "0.0\n",
      "1.0\n",
      "0.0\n",
      "0.0\n",
      "0.0\n",
      "0.0\n",
      "1.0\n",
      "0.0\n",
      "0.0\n",
      "0.0\n",
      "0.0\n",
      "1.0\n",
      "0.0\n",
      "0.0\n",
      "0.0\n",
      "0.0\n",
      "1.0\n",
      "0.0\n",
      "0.0\n",
      "0.0\n",
      "0.0\n",
      "1.0\n",
      "0.0\n",
      "0.0\n",
      "0.0\n",
      "0.0\n",
      "1.0\n",
      "0.0\n",
      "0.0\n",
      "0.0\n",
      "0.0\n",
      "1.0\n",
      "0.0\n",
      "0.0\n",
      "0.0\n",
      "0.0\n",
      "1.0\n",
      "0.0\n",
      "0.0\n",
      "0.0\n",
      "0.0\n",
      "1.0\n",
      "0.0\n",
      "0.0\n",
      "0.0\n",
      "0.0\n",
      "1.0\n",
      "0.0\n",
      "0.0\n",
      "0.0\n",
      "0.0\n",
      "1.0\n",
      "0.0\n",
      "0.0\n",
      "0.0\n",
      "0.0\n",
      "1.0\n",
      "0.0\n",
      "0.0\n",
      "0.0\n",
      "0.0\n",
      "1.0\n",
      "0.0\n",
      "0.0\n",
      "0.0\n",
      "0.0\n",
      "1.0\n",
      "0.0\n",
      "0.0\n",
      "0.0\n",
      "0.0\n",
      "1.0\n",
      "0.0\n",
      "0.0\n",
      "0.0\n",
      "0.0\n",
      "1.0\n",
      "0.0\n",
      "0.0\n",
      "0.0\n",
      "0.0\n",
      "1.0\n",
      "0.0\n",
      "0.0\n",
      "0.0\n",
      "0.0\n",
      "1.0\n"
     ]
    }
   ],
   "source": [
    "for t in range(24):\n",
    "    for g in range(N_g):\n",
    "        print(b[g, t].x)"
   ]
  },
  {
   "cell_type": "code",
   "execution_count": 132,
   "metadata": {},
   "outputs": [
    {
     "name": "stdout",
     "output_type": "stream",
     "text": [
      "0.0\n",
      "0.0\n",
      "0.0\n",
      "0.0\n",
      "100.0\n",
      "0.0\n",
      "0.0\n",
      "0.0\n",
      "0.0\n",
      "100.0\n",
      "0.0\n",
      "0.0\n",
      "0.0\n",
      "0.0\n",
      "100.0\n",
      "0.0\n",
      "0.0\n",
      "0.0\n",
      "0.0\n",
      "100.0\n",
      "0.0\n",
      "0.0\n",
      "0.0\n",
      "0.0\n",
      "100.0\n",
      "0.0\n",
      "0.0\n",
      "0.0\n",
      "0.0\n",
      "100.0\n",
      "0.0\n",
      "0.0\n",
      "0.0\n",
      "0.0\n",
      "100.0\n",
      "0.0\n",
      "0.0\n",
      "0.0\n",
      "0.0\n",
      "127.63524592426413\n",
      "0.0\n",
      "0.0\n",
      "0.0\n",
      "0.0\n",
      "155.59925291162497\n",
      "0.0\n",
      "0.0\n",
      "0.0\n",
      "0.0\n",
      "164.3444207159024\n",
      "0.0\n",
      "0.0\n",
      "0.0\n",
      "0.0\n",
      "165.98127565948744\n",
      "0.0\n",
      "0.0\n",
      "0.0\n",
      "0.0\n",
      "164.60195510134267\n",
      "0.0\n",
      "0.0\n",
      "0.0\n",
      "0.0\n",
      "163.78352762955015\n",
      "0.0\n",
      "0.0\n",
      "0.0\n",
      "0.0\n",
      "162.1466726859651\n",
      "0.0\n",
      "0.0\n",
      "0.0\n",
      "0.0\n",
      "156.93274915429794\n",
      "0.0\n",
      "0.0\n",
      "0.0\n",
      "0.0\n",
      "159.13049718423528\n",
      "0.0\n",
      "0.0\n",
      "0.0\n",
      "0.0\n",
      "173.3929472210919\n",
      "0.0\n",
      "0.0\n",
      "0.0\n",
      "0.0\n",
      "182.95654249716182\n",
      "0.0\n",
      "0.0\n",
      "0.0\n",
      "0.0\n",
      "182.13811502536925\n",
      "0.0\n",
      "0.0\n",
      "0.0\n",
      "0.0\n",
      "171.710267962035\n",
      "0.0\n",
      "0.0\n",
      "0.0\n",
      "0.0\n",
      "158.2662453969709\n",
      "0.0\n",
      "0.0\n",
      "0.0\n",
      "0.0\n",
      "139.0474062138874\n",
      "0.0\n",
      "0.0\n",
      "0.0\n",
      "0.0\n",
      "112.97778855555165\n",
      "0.0\n",
      "0.0\n",
      "0.0\n",
      "0.0\n",
      "100.0\n"
     ]
    }
   ],
   "source": [
    "for t in range(24):\n",
    "    for g in range(N_g):\n",
    "        print(p[g, t].x)"
   ]
  },
  {
   "cell_type": "markdown",
   "metadata": {},
   "source": [
    "<a class=\"anchor\" id=\"machine-learning\"></a>\n",
    "## 4. Can we solve the problem using machine learning?"
   ]
  },
  {
   "cell_type": "code",
   "execution_count": null,
   "metadata": {},
   "outputs": [],
   "source": []
  },
  {
   "cell_type": "markdown",
   "metadata": {},
   "source": [
    "<a class=\"anchor\" id=\"extra\"></a>\n",
    "## 5. Extra"
   ]
  },
  {
   "cell_type": "code",
   "execution_count": null,
   "metadata": {},
   "outputs": [],
   "source": []
  }
 ],
 "metadata": {
  "kernelspec": {
   "display_name": "46765",
   "language": "python",
   "name": "python3"
  },
  "language_info": {
   "codemirror_mode": {
    "name": "ipython",
    "version": 3
   },
   "file_extension": ".py",
   "mimetype": "text/x-python",
   "name": "python",
   "nbconvert_exporter": "python",
   "pygments_lexer": "ipython3",
   "version": "3.11.4"
  }
 },
 "nbformat": 4,
 "nbformat_minor": 2
}
